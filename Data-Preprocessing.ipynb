{
 "cells": [
  {
   "cell_type": "markdown",
   "metadata": {},
   "source": [
    "# Analyzing borrowers’ risk of defaulting\n",
    "\n",
    "Your project is to prepare a report for a bank’s loan division. You’ll need to find out if a customer’s marital status and number of children has an impact on whether they will default on a loan. The bank already has some data on customers’ credit worthiness.\n",
    "\n",
    "Your report will be considered when building a **credit scoring** of a potential customer. A ** credit scoring ** is used to evaluate the ability of a potential borrower to repay their loan."
   ]
  },
  {
   "cell_type": "markdown",
   "metadata": {},
   "source": [
    "## Open the data file and have a look at the general information. "
   ]
  },
  {
   "cell_type": "code",
   "execution_count": 1,
   "metadata": {},
   "outputs": [
    {
     "name": "stdout",
     "output_type": "stream",
     "text": [
      "<class 'pandas.core.frame.DataFrame'>\n",
      "RangeIndex: 21525 entries, 0 to 21524\n",
      "Data columns (total 12 columns):\n",
      "children            21525 non-null int64\n",
      "days_employed       19351 non-null float64\n",
      "dob_years           21525 non-null int64\n",
      "education           21525 non-null object\n",
      "education_id        21525 non-null int64\n",
      "family_status       21525 non-null object\n",
      "family_status_id    21525 non-null int64\n",
      "gender              21525 non-null object\n",
      "income_type         21525 non-null object\n",
      "debt                21525 non-null int64\n",
      "total_income        19351 non-null float64\n",
      "purpose             21525 non-null object\n",
      "dtypes: float64(2), int64(5), object(5)\n",
      "memory usage: 2.0+ MB\n"
     ]
    },
    {
     "data": {
      "text/html": [
       "<div>\n",
       "<style scoped>\n",
       "    .dataframe tbody tr th:only-of-type {\n",
       "        vertical-align: middle;\n",
       "    }\n",
       "\n",
       "    .dataframe tbody tr th {\n",
       "        vertical-align: top;\n",
       "    }\n",
       "\n",
       "    .dataframe thead th {\n",
       "        text-align: right;\n",
       "    }\n",
       "</style>\n",
       "<table border=\"1\" class=\"dataframe\">\n",
       "  <thead>\n",
       "    <tr style=\"text-align: right;\">\n",
       "      <th></th>\n",
       "      <th>children</th>\n",
       "      <th>days_employed</th>\n",
       "      <th>dob_years</th>\n",
       "      <th>education</th>\n",
       "      <th>education_id</th>\n",
       "      <th>family_status</th>\n",
       "      <th>family_status_id</th>\n",
       "      <th>gender</th>\n",
       "      <th>income_type</th>\n",
       "      <th>debt</th>\n",
       "      <th>total_income</th>\n",
       "      <th>purpose</th>\n",
       "    </tr>\n",
       "  </thead>\n",
       "  <tbody>\n",
       "    <tr>\n",
       "      <td>0</td>\n",
       "      <td>1</td>\n",
       "      <td>-8437.673028</td>\n",
       "      <td>42</td>\n",
       "      <td>bachelor's degree</td>\n",
       "      <td>0</td>\n",
       "      <td>married</td>\n",
       "      <td>0</td>\n",
       "      <td>F</td>\n",
       "      <td>employee</td>\n",
       "      <td>0</td>\n",
       "      <td>40620.102</td>\n",
       "      <td>purchase of the house</td>\n",
       "    </tr>\n",
       "    <tr>\n",
       "      <td>1</td>\n",
       "      <td>1</td>\n",
       "      <td>-4024.803754</td>\n",
       "      <td>36</td>\n",
       "      <td>secondary education</td>\n",
       "      <td>1</td>\n",
       "      <td>married</td>\n",
       "      <td>0</td>\n",
       "      <td>F</td>\n",
       "      <td>employee</td>\n",
       "      <td>0</td>\n",
       "      <td>17932.802</td>\n",
       "      <td>car purchase</td>\n",
       "    </tr>\n",
       "    <tr>\n",
       "      <td>2</td>\n",
       "      <td>0</td>\n",
       "      <td>-5623.422610</td>\n",
       "      <td>33</td>\n",
       "      <td>Secondary Education</td>\n",
       "      <td>1</td>\n",
       "      <td>married</td>\n",
       "      <td>0</td>\n",
       "      <td>M</td>\n",
       "      <td>employee</td>\n",
       "      <td>0</td>\n",
       "      <td>23341.752</td>\n",
       "      <td>purchase of the house</td>\n",
       "    </tr>\n",
       "    <tr>\n",
       "      <td>3</td>\n",
       "      <td>3</td>\n",
       "      <td>-4124.747207</td>\n",
       "      <td>32</td>\n",
       "      <td>secondary education</td>\n",
       "      <td>1</td>\n",
       "      <td>married</td>\n",
       "      <td>0</td>\n",
       "      <td>M</td>\n",
       "      <td>employee</td>\n",
       "      <td>0</td>\n",
       "      <td>42820.568</td>\n",
       "      <td>supplementary education</td>\n",
       "    </tr>\n",
       "    <tr>\n",
       "      <td>4</td>\n",
       "      <td>0</td>\n",
       "      <td>340266.072047</td>\n",
       "      <td>53</td>\n",
       "      <td>secondary education</td>\n",
       "      <td>1</td>\n",
       "      <td>civil partnership</td>\n",
       "      <td>1</td>\n",
       "      <td>F</td>\n",
       "      <td>retiree</td>\n",
       "      <td>0</td>\n",
       "      <td>25378.572</td>\n",
       "      <td>to have a wedding</td>\n",
       "    </tr>\n",
       "    <tr>\n",
       "      <td>...</td>\n",
       "      <td>...</td>\n",
       "      <td>...</td>\n",
       "      <td>...</td>\n",
       "      <td>...</td>\n",
       "      <td>...</td>\n",
       "      <td>...</td>\n",
       "      <td>...</td>\n",
       "      <td>...</td>\n",
       "      <td>...</td>\n",
       "      <td>...</td>\n",
       "      <td>...</td>\n",
       "      <td>...</td>\n",
       "    </tr>\n",
       "    <tr>\n",
       "      <td>21520</td>\n",
       "      <td>1</td>\n",
       "      <td>-4529.316663</td>\n",
       "      <td>43</td>\n",
       "      <td>secondary education</td>\n",
       "      <td>1</td>\n",
       "      <td>civil partnership</td>\n",
       "      <td>1</td>\n",
       "      <td>F</td>\n",
       "      <td>business</td>\n",
       "      <td>0</td>\n",
       "      <td>35966.698</td>\n",
       "      <td>housing transactions</td>\n",
       "    </tr>\n",
       "    <tr>\n",
       "      <td>21521</td>\n",
       "      <td>0</td>\n",
       "      <td>343937.404131</td>\n",
       "      <td>67</td>\n",
       "      <td>secondary education</td>\n",
       "      <td>1</td>\n",
       "      <td>married</td>\n",
       "      <td>0</td>\n",
       "      <td>F</td>\n",
       "      <td>retiree</td>\n",
       "      <td>0</td>\n",
       "      <td>24959.969</td>\n",
       "      <td>purchase of a car</td>\n",
       "    </tr>\n",
       "    <tr>\n",
       "      <td>21522</td>\n",
       "      <td>1</td>\n",
       "      <td>-2113.346888</td>\n",
       "      <td>38</td>\n",
       "      <td>secondary education</td>\n",
       "      <td>1</td>\n",
       "      <td>civil partnership</td>\n",
       "      <td>1</td>\n",
       "      <td>M</td>\n",
       "      <td>employee</td>\n",
       "      <td>1</td>\n",
       "      <td>14347.610</td>\n",
       "      <td>property</td>\n",
       "    </tr>\n",
       "    <tr>\n",
       "      <td>21523</td>\n",
       "      <td>3</td>\n",
       "      <td>-3112.481705</td>\n",
       "      <td>38</td>\n",
       "      <td>secondary education</td>\n",
       "      <td>1</td>\n",
       "      <td>married</td>\n",
       "      <td>0</td>\n",
       "      <td>M</td>\n",
       "      <td>employee</td>\n",
       "      <td>1</td>\n",
       "      <td>39054.888</td>\n",
       "      <td>buying my own car</td>\n",
       "    </tr>\n",
       "    <tr>\n",
       "      <td>21524</td>\n",
       "      <td>2</td>\n",
       "      <td>-1984.507589</td>\n",
       "      <td>40</td>\n",
       "      <td>secondary education</td>\n",
       "      <td>1</td>\n",
       "      <td>married</td>\n",
       "      <td>0</td>\n",
       "      <td>F</td>\n",
       "      <td>employee</td>\n",
       "      <td>0</td>\n",
       "      <td>13127.587</td>\n",
       "      <td>to buy a car</td>\n",
       "    </tr>\n",
       "  </tbody>\n",
       "</table>\n",
       "<p>21525 rows × 12 columns</p>\n",
       "</div>"
      ],
      "text/plain": [
       "       children  days_employed  dob_years            education  education_id  \\\n",
       "0             1   -8437.673028         42    bachelor's degree             0   \n",
       "1             1   -4024.803754         36  secondary education             1   \n",
       "2             0   -5623.422610         33  Secondary Education             1   \n",
       "3             3   -4124.747207         32  secondary education             1   \n",
       "4             0  340266.072047         53  secondary education             1   \n",
       "...         ...            ...        ...                  ...           ...   \n",
       "21520         1   -4529.316663         43  secondary education             1   \n",
       "21521         0  343937.404131         67  secondary education             1   \n",
       "21522         1   -2113.346888         38  secondary education             1   \n",
       "21523         3   -3112.481705         38  secondary education             1   \n",
       "21524         2   -1984.507589         40  secondary education             1   \n",
       "\n",
       "           family_status  family_status_id gender income_type  debt  \\\n",
       "0                married                 0      F    employee     0   \n",
       "1                married                 0      F    employee     0   \n",
       "2                married                 0      M    employee     0   \n",
       "3                married                 0      M    employee     0   \n",
       "4      civil partnership                 1      F     retiree     0   \n",
       "...                  ...               ...    ...         ...   ...   \n",
       "21520  civil partnership                 1      F    business     0   \n",
       "21521            married                 0      F     retiree     0   \n",
       "21522  civil partnership                 1      M    employee     1   \n",
       "21523            married                 0      M    employee     1   \n",
       "21524            married                 0      F    employee     0   \n",
       "\n",
       "       total_income                  purpose  \n",
       "0         40620.102    purchase of the house  \n",
       "1         17932.802             car purchase  \n",
       "2         23341.752    purchase of the house  \n",
       "3         42820.568  supplementary education  \n",
       "4         25378.572        to have a wedding  \n",
       "...             ...                      ...  \n",
       "21520     35966.698     housing transactions  \n",
       "21521     24959.969        purchase of a car  \n",
       "21522     14347.610                 property  \n",
       "21523     39054.888        buying my own car  \n",
       "21524     13127.587             to buy a car  \n",
       "\n",
       "[21525 rows x 12 columns]"
      ]
     },
     "execution_count": 1,
     "metadata": {},
     "output_type": "execute_result"
    }
   ],
   "source": [
    "import pandas as pd\n",
    "#Read csv file\n",
    "data = pd.read_csv('https://code.s3.yandex.net/datasets/credit_scoring_eng.csv') \n",
    "#General information\n",
    "data.info()\n",
    "data"
   ]
  },
  {
   "cell_type": "markdown",
   "metadata": {},
   "source": [
    "### Conclusion"
   ]
  },
  {
   "cell_type": "markdown",
   "metadata": {},
   "source": [
    "1. There are 2174 missing values at 'days_employed' column\n",
    "2. There are 2174 missing values at 'total_income' column\n",
    "3. The type of 'debt' column is int64 and should be boolean"
   ]
  },
  {
   "cell_type": "markdown",
   "metadata": {},
   "source": [
    "## Data preprocessing"
   ]
  },
  {
   "cell_type": "markdown",
   "metadata": {},
   "source": [
    "### Processing missing values"
   ]
  },
  {
   "cell_type": "code",
   "execution_count": 2,
   "metadata": {},
   "outputs": [],
   "source": [
    "#Find out how many missing value for each column\n",
    "data.isnull().sum()\n",
    "\n",
    "#fill missing value in 'days_employed' column with 0\n",
    "data['days_employed'].fillna(0, inplace=True)"
   ]
  },
  {
   "cell_type": "code",
   "execution_count": 3,
   "metadata": {},
   "outputs": [
    {
     "data": {
      "text/html": [
       "<div>\n",
       "<style scoped>\n",
       "    .dataframe tbody tr th:only-of-type {\n",
       "        vertical-align: middle;\n",
       "    }\n",
       "\n",
       "    .dataframe tbody tr th {\n",
       "        vertical-align: top;\n",
       "    }\n",
       "\n",
       "    .dataframe thead th {\n",
       "        text-align: right;\n",
       "    }\n",
       "</style>\n",
       "<table border=\"1\" class=\"dataframe\">\n",
       "  <thead>\n",
       "    <tr style=\"text-align: right;\">\n",
       "      <th></th>\n",
       "      <th>children</th>\n",
       "      <th>days_employed</th>\n",
       "      <th>dob_years</th>\n",
       "      <th>education</th>\n",
       "      <th>education_id</th>\n",
       "      <th>family_status</th>\n",
       "      <th>family_status_id</th>\n",
       "      <th>gender</th>\n",
       "      <th>income_type</th>\n",
       "      <th>debt</th>\n",
       "      <th>total_income</th>\n",
       "      <th>purpose</th>\n",
       "    </tr>\n",
       "  </thead>\n",
       "  <tbody>\n",
       "    <tr>\n",
       "      <td>12</td>\n",
       "      <td>0</td>\n",
       "      <td>0.0</td>\n",
       "      <td>65</td>\n",
       "      <td>secondary education</td>\n",
       "      <td>1</td>\n",
       "      <td>civil partnership</td>\n",
       "      <td>1</td>\n",
       "      <td>M</td>\n",
       "      <td>retiree</td>\n",
       "      <td>0</td>\n",
       "      <td>NaN</td>\n",
       "      <td>to have a wedding</td>\n",
       "    </tr>\n",
       "    <tr>\n",
       "      <td>26</td>\n",
       "      <td>0</td>\n",
       "      <td>0.0</td>\n",
       "      <td>41</td>\n",
       "      <td>secondary education</td>\n",
       "      <td>1</td>\n",
       "      <td>married</td>\n",
       "      <td>0</td>\n",
       "      <td>M</td>\n",
       "      <td>civil servant</td>\n",
       "      <td>0</td>\n",
       "      <td>NaN</td>\n",
       "      <td>education</td>\n",
       "    </tr>\n",
       "    <tr>\n",
       "      <td>29</td>\n",
       "      <td>0</td>\n",
       "      <td>0.0</td>\n",
       "      <td>63</td>\n",
       "      <td>secondary education</td>\n",
       "      <td>1</td>\n",
       "      <td>unmarried</td>\n",
       "      <td>4</td>\n",
       "      <td>F</td>\n",
       "      <td>retiree</td>\n",
       "      <td>0</td>\n",
       "      <td>NaN</td>\n",
       "      <td>building a real estate</td>\n",
       "    </tr>\n",
       "    <tr>\n",
       "      <td>41</td>\n",
       "      <td>0</td>\n",
       "      <td>0.0</td>\n",
       "      <td>50</td>\n",
       "      <td>secondary education</td>\n",
       "      <td>1</td>\n",
       "      <td>married</td>\n",
       "      <td>0</td>\n",
       "      <td>F</td>\n",
       "      <td>civil servant</td>\n",
       "      <td>0</td>\n",
       "      <td>NaN</td>\n",
       "      <td>second-hand car purchase</td>\n",
       "    </tr>\n",
       "    <tr>\n",
       "      <td>55</td>\n",
       "      <td>0</td>\n",
       "      <td>0.0</td>\n",
       "      <td>54</td>\n",
       "      <td>secondary education</td>\n",
       "      <td>1</td>\n",
       "      <td>civil partnership</td>\n",
       "      <td>1</td>\n",
       "      <td>F</td>\n",
       "      <td>retiree</td>\n",
       "      <td>1</td>\n",
       "      <td>NaN</td>\n",
       "      <td>to have a wedding</td>\n",
       "    </tr>\n",
       "    <tr>\n",
       "      <td>...</td>\n",
       "      <td>...</td>\n",
       "      <td>...</td>\n",
       "      <td>...</td>\n",
       "      <td>...</td>\n",
       "      <td>...</td>\n",
       "      <td>...</td>\n",
       "      <td>...</td>\n",
       "      <td>...</td>\n",
       "      <td>...</td>\n",
       "      <td>...</td>\n",
       "      <td>...</td>\n",
       "      <td>...</td>\n",
       "    </tr>\n",
       "    <tr>\n",
       "      <td>21489</td>\n",
       "      <td>2</td>\n",
       "      <td>0.0</td>\n",
       "      <td>47</td>\n",
       "      <td>Secondary Education</td>\n",
       "      <td>1</td>\n",
       "      <td>married</td>\n",
       "      <td>0</td>\n",
       "      <td>M</td>\n",
       "      <td>business</td>\n",
       "      <td>0</td>\n",
       "      <td>NaN</td>\n",
       "      <td>purchase of a car</td>\n",
       "    </tr>\n",
       "    <tr>\n",
       "      <td>21495</td>\n",
       "      <td>1</td>\n",
       "      <td>0.0</td>\n",
       "      <td>50</td>\n",
       "      <td>secondary education</td>\n",
       "      <td>1</td>\n",
       "      <td>civil partnership</td>\n",
       "      <td>1</td>\n",
       "      <td>F</td>\n",
       "      <td>employee</td>\n",
       "      <td>0</td>\n",
       "      <td>NaN</td>\n",
       "      <td>wedding ceremony</td>\n",
       "    </tr>\n",
       "    <tr>\n",
       "      <td>21497</td>\n",
       "      <td>0</td>\n",
       "      <td>0.0</td>\n",
       "      <td>48</td>\n",
       "      <td>BACHELOR'S DEGREE</td>\n",
       "      <td>0</td>\n",
       "      <td>married</td>\n",
       "      <td>0</td>\n",
       "      <td>F</td>\n",
       "      <td>business</td>\n",
       "      <td>0</td>\n",
       "      <td>NaN</td>\n",
       "      <td>building a property</td>\n",
       "    </tr>\n",
       "    <tr>\n",
       "      <td>21502</td>\n",
       "      <td>1</td>\n",
       "      <td>0.0</td>\n",
       "      <td>42</td>\n",
       "      <td>secondary education</td>\n",
       "      <td>1</td>\n",
       "      <td>married</td>\n",
       "      <td>0</td>\n",
       "      <td>F</td>\n",
       "      <td>employee</td>\n",
       "      <td>0</td>\n",
       "      <td>NaN</td>\n",
       "      <td>building a real estate</td>\n",
       "    </tr>\n",
       "    <tr>\n",
       "      <td>21510</td>\n",
       "      <td>2</td>\n",
       "      <td>0.0</td>\n",
       "      <td>28</td>\n",
       "      <td>secondary education</td>\n",
       "      <td>1</td>\n",
       "      <td>married</td>\n",
       "      <td>0</td>\n",
       "      <td>F</td>\n",
       "      <td>employee</td>\n",
       "      <td>0</td>\n",
       "      <td>NaN</td>\n",
       "      <td>car purchase</td>\n",
       "    </tr>\n",
       "  </tbody>\n",
       "</table>\n",
       "<p>2174 rows × 12 columns</p>\n",
       "</div>"
      ],
      "text/plain": [
       "       children  days_employed  dob_years            education  education_id  \\\n",
       "12            0            0.0         65  secondary education             1   \n",
       "26            0            0.0         41  secondary education             1   \n",
       "29            0            0.0         63  secondary education             1   \n",
       "41            0            0.0         50  secondary education             1   \n",
       "55            0            0.0         54  secondary education             1   \n",
       "...         ...            ...        ...                  ...           ...   \n",
       "21489         2            0.0         47  Secondary Education             1   \n",
       "21495         1            0.0         50  secondary education             1   \n",
       "21497         0            0.0         48    BACHELOR'S DEGREE             0   \n",
       "21502         1            0.0         42  secondary education             1   \n",
       "21510         2            0.0         28  secondary education             1   \n",
       "\n",
       "           family_status  family_status_id gender    income_type  debt  \\\n",
       "12     civil partnership                 1      M        retiree     0   \n",
       "26               married                 0      M  civil servant     0   \n",
       "29             unmarried                 4      F        retiree     0   \n",
       "41               married                 0      F  civil servant     0   \n",
       "55     civil partnership                 1      F        retiree     1   \n",
       "...                  ...               ...    ...            ...   ...   \n",
       "21489            married                 0      M       business     0   \n",
       "21495  civil partnership                 1      F       employee     0   \n",
       "21497            married                 0      F       business     0   \n",
       "21502            married                 0      F       employee     0   \n",
       "21510            married                 0      F       employee     0   \n",
       "\n",
       "       total_income                   purpose  \n",
       "12              NaN         to have a wedding  \n",
       "26              NaN                 education  \n",
       "29              NaN    building a real estate  \n",
       "41              NaN  second-hand car purchase  \n",
       "55              NaN         to have a wedding  \n",
       "...             ...                       ...  \n",
       "21489           NaN         purchase of a car  \n",
       "21495           NaN          wedding ceremony  \n",
       "21497           NaN       building a property  \n",
       "21502           NaN    building a real estate  \n",
       "21510           NaN              car purchase  \n",
       "\n",
       "[2174 rows x 12 columns]"
      ]
     },
     "execution_count": 3,
     "metadata": {},
     "output_type": "execute_result"
    }
   ],
   "source": [
    "#Check all rows were 'total_income' = NAN\n",
    "data[data['total_income'].isnull()]"
   ]
  },
  {
   "cell_type": "code",
   "execution_count": 4,
   "metadata": {},
   "outputs": [
    {
     "data": {
      "text/html": [
       "<div>\n",
       "<style scoped>\n",
       "    .dataframe tbody tr th:only-of-type {\n",
       "        vertical-align: middle;\n",
       "    }\n",
       "\n",
       "    .dataframe tbody tr th {\n",
       "        vertical-align: top;\n",
       "    }\n",
       "\n",
       "    .dataframe thead th {\n",
       "        text-align: right;\n",
       "    }\n",
       "</style>\n",
       "<table border=\"1\" class=\"dataframe\">\n",
       "  <thead>\n",
       "    <tr style=\"text-align: right;\">\n",
       "      <th></th>\n",
       "      <th>children</th>\n",
       "      <th>days_employed</th>\n",
       "      <th>dob_years</th>\n",
       "      <th>education</th>\n",
       "      <th>education_id</th>\n",
       "      <th>family_status</th>\n",
       "      <th>family_status_id</th>\n",
       "      <th>gender</th>\n",
       "      <th>income_type</th>\n",
       "      <th>debt</th>\n",
       "      <th>total_income</th>\n",
       "      <th>purpose</th>\n",
       "    </tr>\n",
       "  </thead>\n",
       "  <tbody>\n",
       "    <tr>\n",
       "      <td>99</td>\n",
       "      <td>0</td>\n",
       "      <td>346541.618895</td>\n",
       "      <td>0</td>\n",
       "      <td>Secondary Education</td>\n",
       "      <td>1</td>\n",
       "      <td>married</td>\n",
       "      <td>0</td>\n",
       "      <td>F</td>\n",
       "      <td>retiree</td>\n",
       "      <td>0</td>\n",
       "      <td>11406.644</td>\n",
       "      <td>car</td>\n",
       "    </tr>\n",
       "    <tr>\n",
       "      <td>149</td>\n",
       "      <td>0</td>\n",
       "      <td>-2664.273168</td>\n",
       "      <td>0</td>\n",
       "      <td>secondary education</td>\n",
       "      <td>1</td>\n",
       "      <td>divorced</td>\n",
       "      <td>3</td>\n",
       "      <td>F</td>\n",
       "      <td>employee</td>\n",
       "      <td>0</td>\n",
       "      <td>11228.230</td>\n",
       "      <td>housing transactions</td>\n",
       "    </tr>\n",
       "    <tr>\n",
       "      <td>270</td>\n",
       "      <td>3</td>\n",
       "      <td>-1872.663186</td>\n",
       "      <td>0</td>\n",
       "      <td>secondary education</td>\n",
       "      <td>1</td>\n",
       "      <td>married</td>\n",
       "      <td>0</td>\n",
       "      <td>F</td>\n",
       "      <td>employee</td>\n",
       "      <td>0</td>\n",
       "      <td>16346.633</td>\n",
       "      <td>housing renovation</td>\n",
       "    </tr>\n",
       "    <tr>\n",
       "      <td>578</td>\n",
       "      <td>0</td>\n",
       "      <td>397856.565013</td>\n",
       "      <td>0</td>\n",
       "      <td>secondary education</td>\n",
       "      <td>1</td>\n",
       "      <td>married</td>\n",
       "      <td>0</td>\n",
       "      <td>F</td>\n",
       "      <td>retiree</td>\n",
       "      <td>0</td>\n",
       "      <td>15619.310</td>\n",
       "      <td>construction of own property</td>\n",
       "    </tr>\n",
       "    <tr>\n",
       "      <td>1040</td>\n",
       "      <td>0</td>\n",
       "      <td>-1158.029561</td>\n",
       "      <td>0</td>\n",
       "      <td>bachelor's degree</td>\n",
       "      <td>0</td>\n",
       "      <td>divorced</td>\n",
       "      <td>3</td>\n",
       "      <td>F</td>\n",
       "      <td>business</td>\n",
       "      <td>0</td>\n",
       "      <td>48639.062</td>\n",
       "      <td>to own a car</td>\n",
       "    </tr>\n",
       "    <tr>\n",
       "      <td>...</td>\n",
       "      <td>...</td>\n",
       "      <td>...</td>\n",
       "      <td>...</td>\n",
       "      <td>...</td>\n",
       "      <td>...</td>\n",
       "      <td>...</td>\n",
       "      <td>...</td>\n",
       "      <td>...</td>\n",
       "      <td>...</td>\n",
       "      <td>...</td>\n",
       "      <td>...</td>\n",
       "      <td>...</td>\n",
       "    </tr>\n",
       "    <tr>\n",
       "      <td>19829</td>\n",
       "      <td>0</td>\n",
       "      <td>0.000000</td>\n",
       "      <td>0</td>\n",
       "      <td>secondary education</td>\n",
       "      <td>1</td>\n",
       "      <td>married</td>\n",
       "      <td>0</td>\n",
       "      <td>F</td>\n",
       "      <td>employee</td>\n",
       "      <td>0</td>\n",
       "      <td>NaN</td>\n",
       "      <td>housing</td>\n",
       "    </tr>\n",
       "    <tr>\n",
       "      <td>20462</td>\n",
       "      <td>0</td>\n",
       "      <td>338734.868540</td>\n",
       "      <td>0</td>\n",
       "      <td>secondary education</td>\n",
       "      <td>1</td>\n",
       "      <td>married</td>\n",
       "      <td>0</td>\n",
       "      <td>F</td>\n",
       "      <td>retiree</td>\n",
       "      <td>0</td>\n",
       "      <td>41471.027</td>\n",
       "      <td>purchase of my own house</td>\n",
       "    </tr>\n",
       "    <tr>\n",
       "      <td>20577</td>\n",
       "      <td>0</td>\n",
       "      <td>331741.271455</td>\n",
       "      <td>0</td>\n",
       "      <td>secondary education</td>\n",
       "      <td>1</td>\n",
       "      <td>unmarried</td>\n",
       "      <td>4</td>\n",
       "      <td>F</td>\n",
       "      <td>retiree</td>\n",
       "      <td>0</td>\n",
       "      <td>20766.202</td>\n",
       "      <td>property</td>\n",
       "    </tr>\n",
       "    <tr>\n",
       "      <td>21179</td>\n",
       "      <td>2</td>\n",
       "      <td>-108.967042</td>\n",
       "      <td>0</td>\n",
       "      <td>bachelor's degree</td>\n",
       "      <td>0</td>\n",
       "      <td>married</td>\n",
       "      <td>0</td>\n",
       "      <td>M</td>\n",
       "      <td>business</td>\n",
       "      <td>0</td>\n",
       "      <td>38512.321</td>\n",
       "      <td>building a real estate</td>\n",
       "    </tr>\n",
       "    <tr>\n",
       "      <td>21313</td>\n",
       "      <td>0</td>\n",
       "      <td>-1268.487728</td>\n",
       "      <td>0</td>\n",
       "      <td>secondary education</td>\n",
       "      <td>1</td>\n",
       "      <td>unmarried</td>\n",
       "      <td>4</td>\n",
       "      <td>M</td>\n",
       "      <td>employee</td>\n",
       "      <td>0</td>\n",
       "      <td>24387.070</td>\n",
       "      <td>housing transactions</td>\n",
       "    </tr>\n",
       "  </tbody>\n",
       "</table>\n",
       "<p>101 rows × 12 columns</p>\n",
       "</div>"
      ],
      "text/plain": [
       "       children  days_employed  dob_years            education  education_id  \\\n",
       "99            0  346541.618895          0  Secondary Education             1   \n",
       "149           0   -2664.273168          0  secondary education             1   \n",
       "270           3   -1872.663186          0  secondary education             1   \n",
       "578           0  397856.565013          0  secondary education             1   \n",
       "1040          0   -1158.029561          0    bachelor's degree             0   \n",
       "...         ...            ...        ...                  ...           ...   \n",
       "19829         0       0.000000          0  secondary education             1   \n",
       "20462         0  338734.868540          0  secondary education             1   \n",
       "20577         0  331741.271455          0  secondary education             1   \n",
       "21179         2    -108.967042          0    bachelor's degree             0   \n",
       "21313         0   -1268.487728          0  secondary education             1   \n",
       "\n",
       "      family_status  family_status_id gender income_type  debt  total_income  \\\n",
       "99          married                 0      F     retiree     0     11406.644   \n",
       "149        divorced                 3      F    employee     0     11228.230   \n",
       "270         married                 0      F    employee     0     16346.633   \n",
       "578         married                 0      F     retiree     0     15619.310   \n",
       "1040       divorced                 3      F    business     0     48639.062   \n",
       "...             ...               ...    ...         ...   ...           ...   \n",
       "19829       married                 0      F    employee     0           NaN   \n",
       "20462       married                 0      F     retiree     0     41471.027   \n",
       "20577     unmarried                 4      F     retiree     0     20766.202   \n",
       "21179       married                 0      M    business     0     38512.321   \n",
       "21313     unmarried                 4      M    employee     0     24387.070   \n",
       "\n",
       "                            purpose  \n",
       "99                              car  \n",
       "149            housing transactions  \n",
       "270              housing renovation  \n",
       "578    construction of own property  \n",
       "1040                   to own a car  \n",
       "...                             ...  \n",
       "19829                       housing  \n",
       "20462      purchase of my own house  \n",
       "20577                      property  \n",
       "21179        building a real estate  \n",
       "21313          housing transactions  \n",
       "\n",
       "[101 rows x 12 columns]"
      ]
     },
     "execution_count": 4,
     "metadata": {},
     "output_type": "execute_result"
    }
   ],
   "source": [
    "#customers with age=0\n",
    "data[data['dob_years'] == 0]"
   ]
  },
  {
   "cell_type": "code",
   "execution_count": 5,
   "metadata": {},
   "outputs": [
    {
     "data": {
      "text/html": [
       "<div>\n",
       "<style scoped>\n",
       "    .dataframe tbody tr th:only-of-type {\n",
       "        vertical-align: middle;\n",
       "    }\n",
       "\n",
       "    .dataframe tbody tr th {\n",
       "        vertical-align: top;\n",
       "    }\n",
       "\n",
       "    .dataframe thead th {\n",
       "        text-align: right;\n",
       "    }\n",
       "</style>\n",
       "<table border=\"1\" class=\"dataframe\">\n",
       "  <thead>\n",
       "    <tr style=\"text-align: right;\">\n",
       "      <th></th>\n",
       "      <th>children</th>\n",
       "      <th>days_employed</th>\n",
       "      <th>dob_years</th>\n",
       "      <th>education</th>\n",
       "      <th>education_id</th>\n",
       "      <th>family_status</th>\n",
       "      <th>family_status_id</th>\n",
       "      <th>gender</th>\n",
       "      <th>income_type</th>\n",
       "      <th>total_income</th>\n",
       "      <th>purpose</th>\n",
       "    </tr>\n",
       "    <tr>\n",
       "      <th>debt</th>\n",
       "      <th></th>\n",
       "      <th></th>\n",
       "      <th></th>\n",
       "      <th></th>\n",
       "      <th></th>\n",
       "      <th></th>\n",
       "      <th></th>\n",
       "      <th></th>\n",
       "      <th></th>\n",
       "      <th></th>\n",
       "      <th></th>\n",
       "    </tr>\n",
       "  </thead>\n",
       "  <tbody>\n",
       "    <tr>\n",
       "      <td>0</td>\n",
       "      <td>93</td>\n",
       "      <td>93</td>\n",
       "      <td>93</td>\n",
       "      <td>93</td>\n",
       "      <td>93</td>\n",
       "      <td>93</td>\n",
       "      <td>93</td>\n",
       "      <td>93</td>\n",
       "      <td>93</td>\n",
       "      <td>83</td>\n",
       "      <td>93</td>\n",
       "    </tr>\n",
       "    <tr>\n",
       "      <td>1</td>\n",
       "      <td>8</td>\n",
       "      <td>8</td>\n",
       "      <td>8</td>\n",
       "      <td>8</td>\n",
       "      <td>8</td>\n",
       "      <td>8</td>\n",
       "      <td>8</td>\n",
       "      <td>8</td>\n",
       "      <td>8</td>\n",
       "      <td>8</td>\n",
       "      <td>8</td>\n",
       "    </tr>\n",
       "  </tbody>\n",
       "</table>\n",
       "</div>"
      ],
      "text/plain": [
       "      children  days_employed  dob_years  education  education_id  \\\n",
       "debt                                                                \n",
       "0           93             93         93         93            93   \n",
       "1            8              8          8          8             8   \n",
       "\n",
       "      family_status  family_status_id  gender  income_type  total_income  \\\n",
       "debt                                                                       \n",
       "0                93                93      93           93            83   \n",
       "1                 8                 8       8            8             8   \n",
       "\n",
       "      purpose  \n",
       "debt           \n",
       "0          93  \n",
       "1           8  "
      ]
     },
     "execution_count": 5,
     "metadata": {},
     "output_type": "execute_result"
    }
   ],
   "source": [
    "#Check if there is a relation between customers with age=0 to repaying a loan on time\n",
    "data[data['dob_years'] == 0].groupby('debt').count()"
   ]
  },
  {
   "cell_type": "code",
   "execution_count": 6,
   "metadata": {},
   "outputs": [
    {
     "data": {
      "text/plain": [
       "2174"
      ]
     },
     "execution_count": 6,
     "metadata": {},
     "output_type": "execute_result"
    }
   ],
   "source": [
    "#Check how many customers with total_income=NAN are unemployed 'days_employed' = 0\n",
    "uneployed_without_income =  data.loc[ (data['total_income'].isnull()) & (data['days_employed'] ==0 )]\n",
    "#Get numbers of rows\n",
    "uneployed_without_income.shape[0]"
   ]
  },
  {
   "cell_type": "code",
   "execution_count": 7,
   "metadata": {},
   "outputs": [
    {
     "data": {
      "text/html": [
       "<div>\n",
       "<style scoped>\n",
       "    .dataframe tbody tr th:only-of-type {\n",
       "        vertical-align: middle;\n",
       "    }\n",
       "\n",
       "    .dataframe tbody tr th {\n",
       "        vertical-align: top;\n",
       "    }\n",
       "\n",
       "    .dataframe thead th {\n",
       "        text-align: right;\n",
       "    }\n",
       "</style>\n",
       "<table border=\"1\" class=\"dataframe\">\n",
       "  <thead>\n",
       "    <tr style=\"text-align: right;\">\n",
       "      <th></th>\n",
       "      <th>children</th>\n",
       "      <th>days_employed</th>\n",
       "      <th>dob_years</th>\n",
       "      <th>education</th>\n",
       "      <th>education_id</th>\n",
       "      <th>family_status</th>\n",
       "      <th>family_status_id</th>\n",
       "      <th>gender</th>\n",
       "      <th>income_type</th>\n",
       "      <th>debt</th>\n",
       "      <th>total_income</th>\n",
       "      <th>purpose</th>\n",
       "    </tr>\n",
       "  </thead>\n",
       "  <tbody>\n",
       "    <tr>\n",
       "      <td>0</td>\n",
       "      <td>1</td>\n",
       "      <td>-8437.673028</td>\n",
       "      <td>42</td>\n",
       "      <td>bachelor's degree</td>\n",
       "      <td>0</td>\n",
       "      <td>married</td>\n",
       "      <td>0</td>\n",
       "      <td>F</td>\n",
       "      <td>employee</td>\n",
       "      <td>0</td>\n",
       "      <td>40620.102</td>\n",
       "      <td>purchase of the house</td>\n",
       "    </tr>\n",
       "    <tr>\n",
       "      <td>1</td>\n",
       "      <td>1</td>\n",
       "      <td>-4024.803754</td>\n",
       "      <td>36</td>\n",
       "      <td>secondary education</td>\n",
       "      <td>1</td>\n",
       "      <td>married</td>\n",
       "      <td>0</td>\n",
       "      <td>F</td>\n",
       "      <td>employee</td>\n",
       "      <td>0</td>\n",
       "      <td>17932.802</td>\n",
       "      <td>car purchase</td>\n",
       "    </tr>\n",
       "    <tr>\n",
       "      <td>2</td>\n",
       "      <td>0</td>\n",
       "      <td>-5623.422610</td>\n",
       "      <td>33</td>\n",
       "      <td>Secondary Education</td>\n",
       "      <td>1</td>\n",
       "      <td>married</td>\n",
       "      <td>0</td>\n",
       "      <td>M</td>\n",
       "      <td>employee</td>\n",
       "      <td>0</td>\n",
       "      <td>23341.752</td>\n",
       "      <td>purchase of the house</td>\n",
       "    </tr>\n",
       "    <tr>\n",
       "      <td>3</td>\n",
       "      <td>3</td>\n",
       "      <td>-4124.747207</td>\n",
       "      <td>32</td>\n",
       "      <td>secondary education</td>\n",
       "      <td>1</td>\n",
       "      <td>married</td>\n",
       "      <td>0</td>\n",
       "      <td>M</td>\n",
       "      <td>employee</td>\n",
       "      <td>0</td>\n",
       "      <td>42820.568</td>\n",
       "      <td>supplementary education</td>\n",
       "    </tr>\n",
       "    <tr>\n",
       "      <td>5</td>\n",
       "      <td>0</td>\n",
       "      <td>-926.185831</td>\n",
       "      <td>27</td>\n",
       "      <td>bachelor's degree</td>\n",
       "      <td>0</td>\n",
       "      <td>civil partnership</td>\n",
       "      <td>1</td>\n",
       "      <td>M</td>\n",
       "      <td>business</td>\n",
       "      <td>0</td>\n",
       "      <td>40922.170</td>\n",
       "      <td>purchase of the house</td>\n",
       "    </tr>\n",
       "    <tr>\n",
       "      <td>...</td>\n",
       "      <td>...</td>\n",
       "      <td>...</td>\n",
       "      <td>...</td>\n",
       "      <td>...</td>\n",
       "      <td>...</td>\n",
       "      <td>...</td>\n",
       "      <td>...</td>\n",
       "      <td>...</td>\n",
       "      <td>...</td>\n",
       "      <td>...</td>\n",
       "      <td>...</td>\n",
       "      <td>...</td>\n",
       "    </tr>\n",
       "    <tr>\n",
       "      <td>21519</td>\n",
       "      <td>1</td>\n",
       "      <td>-2351.431934</td>\n",
       "      <td>37</td>\n",
       "      <td>graduate degree</td>\n",
       "      <td>4</td>\n",
       "      <td>divorced</td>\n",
       "      <td>3</td>\n",
       "      <td>M</td>\n",
       "      <td>employee</td>\n",
       "      <td>0</td>\n",
       "      <td>18551.846</td>\n",
       "      <td>buy commercial real estate</td>\n",
       "    </tr>\n",
       "    <tr>\n",
       "      <td>21520</td>\n",
       "      <td>1</td>\n",
       "      <td>-4529.316663</td>\n",
       "      <td>43</td>\n",
       "      <td>secondary education</td>\n",
       "      <td>1</td>\n",
       "      <td>civil partnership</td>\n",
       "      <td>1</td>\n",
       "      <td>F</td>\n",
       "      <td>business</td>\n",
       "      <td>0</td>\n",
       "      <td>35966.698</td>\n",
       "      <td>housing transactions</td>\n",
       "    </tr>\n",
       "    <tr>\n",
       "      <td>21522</td>\n",
       "      <td>1</td>\n",
       "      <td>-2113.346888</td>\n",
       "      <td>38</td>\n",
       "      <td>secondary education</td>\n",
       "      <td>1</td>\n",
       "      <td>civil partnership</td>\n",
       "      <td>1</td>\n",
       "      <td>M</td>\n",
       "      <td>employee</td>\n",
       "      <td>1</td>\n",
       "      <td>14347.610</td>\n",
       "      <td>property</td>\n",
       "    </tr>\n",
       "    <tr>\n",
       "      <td>21523</td>\n",
       "      <td>3</td>\n",
       "      <td>-3112.481705</td>\n",
       "      <td>38</td>\n",
       "      <td>secondary education</td>\n",
       "      <td>1</td>\n",
       "      <td>married</td>\n",
       "      <td>0</td>\n",
       "      <td>M</td>\n",
       "      <td>employee</td>\n",
       "      <td>1</td>\n",
       "      <td>39054.888</td>\n",
       "      <td>buying my own car</td>\n",
       "    </tr>\n",
       "    <tr>\n",
       "      <td>21524</td>\n",
       "      <td>2</td>\n",
       "      <td>-1984.507589</td>\n",
       "      <td>40</td>\n",
       "      <td>secondary education</td>\n",
       "      <td>1</td>\n",
       "      <td>married</td>\n",
       "      <td>0</td>\n",
       "      <td>F</td>\n",
       "      <td>employee</td>\n",
       "      <td>0</td>\n",
       "      <td>13127.587</td>\n",
       "      <td>to buy a car</td>\n",
       "    </tr>\n",
       "  </tbody>\n",
       "</table>\n",
       "<p>15906 rows × 12 columns</p>\n",
       "</div>"
      ],
      "text/plain": [
       "       children  days_employed  dob_years            education  education_id  \\\n",
       "0             1   -8437.673028         42    bachelor's degree             0   \n",
       "1             1   -4024.803754         36  secondary education             1   \n",
       "2             0   -5623.422610         33  Secondary Education             1   \n",
       "3             3   -4124.747207         32  secondary education             1   \n",
       "5             0    -926.185831         27    bachelor's degree             0   \n",
       "...         ...            ...        ...                  ...           ...   \n",
       "21519         1   -2351.431934         37      graduate degree             4   \n",
       "21520         1   -4529.316663         43  secondary education             1   \n",
       "21522         1   -2113.346888         38  secondary education             1   \n",
       "21523         3   -3112.481705         38  secondary education             1   \n",
       "21524         2   -1984.507589         40  secondary education             1   \n",
       "\n",
       "           family_status  family_status_id gender income_type  debt  \\\n",
       "0                married                 0      F    employee     0   \n",
       "1                married                 0      F    employee     0   \n",
       "2                married                 0      M    employee     0   \n",
       "3                married                 0      M    employee     0   \n",
       "5      civil partnership                 1      M    business     0   \n",
       "...                  ...               ...    ...         ...   ...   \n",
       "21519           divorced                 3      M    employee     0   \n",
       "21520  civil partnership                 1      F    business     0   \n",
       "21522  civil partnership                 1      M    employee     1   \n",
       "21523            married                 0      M    employee     1   \n",
       "21524            married                 0      F    employee     0   \n",
       "\n",
       "       total_income                     purpose  \n",
       "0         40620.102       purchase of the house  \n",
       "1         17932.802                car purchase  \n",
       "2         23341.752       purchase of the house  \n",
       "3         42820.568     supplementary education  \n",
       "5         40922.170       purchase of the house  \n",
       "...             ...                         ...  \n",
       "21519     18551.846  buy commercial real estate  \n",
       "21520     35966.698        housing transactions  \n",
       "21522     14347.610                    property  \n",
       "21523     39054.888           buying my own car  \n",
       "21524     13127.587                to buy a car  \n",
       "\n",
       "[15906 rows x 12 columns]"
      ]
     },
     "execution_count": 7,
     "metadata": {},
     "output_type": "execute_result"
    }
   ],
   "source": [
    "# rows with days_employed<0\n",
    "data[data['days_employed']< 0]"
   ]
  },
  {
   "cell_type": "code",
   "execution_count": 8,
   "metadata": {},
   "outputs": [],
   "source": [
    "#replace negative days_employed to positive\n",
    "data.loc[data['days_employed']< 0, 'days_employed'] = data.loc[data['days_employed']< 0, 'days_employed'].abs()"
   ]
  },
  {
   "cell_type": "code",
   "execution_count": 9,
   "metadata": {},
   "outputs": [
    {
     "data": {
      "text/html": [
       "<div>\n",
       "<style scoped>\n",
       "    .dataframe tbody tr th:only-of-type {\n",
       "        vertical-align: middle;\n",
       "    }\n",
       "\n",
       "    .dataframe tbody tr th {\n",
       "        vertical-align: top;\n",
       "    }\n",
       "\n",
       "    .dataframe thead th {\n",
       "        text-align: right;\n",
       "    }\n",
       "</style>\n",
       "<table border=\"1\" class=\"dataframe\">\n",
       "  <thead>\n",
       "    <tr style=\"text-align: right;\">\n",
       "      <th></th>\n",
       "      <th>children</th>\n",
       "      <th>days_employed</th>\n",
       "      <th>dob_years</th>\n",
       "      <th>education</th>\n",
       "      <th>education_id</th>\n",
       "      <th>family_status</th>\n",
       "      <th>family_status_id</th>\n",
       "      <th>gender</th>\n",
       "      <th>income_type</th>\n",
       "      <th>debt</th>\n",
       "      <th>total_income</th>\n",
       "      <th>purpose</th>\n",
       "    </tr>\n",
       "  </thead>\n",
       "  <tbody>\n",
       "  </tbody>\n",
       "</table>\n",
       "</div>"
      ],
      "text/plain": [
       "Empty DataFrame\n",
       "Columns: [children, days_employed, dob_years, education, education_id, family_status, family_status_id, gender, income_type, debt, total_income, purpose]\n",
       "Index: []"
      ]
     },
     "execution_count": 9,
     "metadata": {},
     "output_type": "execute_result"
    }
   ],
   "source": [
    "# rows with days_employed<0\n",
    "#verify no negative numbers left\n",
    "data[data['days_employed']< 0]"
   ]
  },
  {
   "cell_type": "code",
   "execution_count": 10,
   "metadata": {},
   "outputs": [],
   "source": [
    "def new_days_employed(days_employed):\n",
    "    #days_employed = row['days_employed']\n",
    "    #21360 = 60 years. above this number divide by 10 until getting realistic number\n",
    "   \n",
    "    while days_employed > 21360:\n",
    "        days_employed = days_employed /10\n",
    "    return days_employed\n",
    "\n",
    "data['days_employed'] = data['days_employed'].apply(new_days_employed)\n",
    "        "
   ]
  },
  {
   "cell_type": "code",
   "execution_count": 11,
   "metadata": {},
   "outputs": [],
   "source": [
    "#Conclusion - all customers with total_income=NAN are unemployed so there 'total_income' is 0\n",
    "#fill missing value in 'total_income' column with 0\n",
    "#data['total_income'].fillna(0, inplace=True)"
   ]
  },
  {
   "cell_type": "code",
   "execution_count": 12,
   "metadata": {},
   "outputs": [],
   "source": [
    "\n",
    "#Calculate mean of  'total_income' column by 'income_type'\n",
    "income_type_mean_value = data.groupby('income_type')['total_income'].mean()\n",
    "#Calculate mean of  'days_employed' column by 'income_type'\n",
    "days_employed_mean_value = data.groupby('income_type')['days_employed'].mean()\n",
    "\n",
    "#Replace NaN and 0 values from  'total_income' and 'days_employed' with mean values\n",
    "for index, row in data.iterrows():\n",
    "\n",
    "    total_income = row['total_income']\n",
    "    income_type = row['income_type']\n",
    "    days_employed = row['days_employed']\n",
    "\n",
    "    if (pd.isna(total_income)) | (total_income == 0):        \n",
    "        data.at[index,'total_income'] =  income_type_mean_value[income_type]\n",
    "       \n",
    "    if (pd.isna(days_employed)) | (days_employed == 0): \n",
    "        data.at[index, 'days_employed'] =  days_employed_mean_value[income_type]\n",
    "\n",
    "\n",
    "\n"
   ]
  },
  {
   "cell_type": "code",
   "execution_count": 13,
   "metadata": {},
   "outputs": [
    {
     "data": {
      "text/plain": [
       "Series([], Name: total_income, dtype: float64)"
      ]
     },
     "execution_count": 13,
     "metadata": {},
     "output_type": "execute_result"
    }
   ],
   "source": [
    "data.loc[data['total_income'].isnull()]['total_income']"
   ]
  },
  {
   "cell_type": "code",
   "execution_count": 14,
   "metadata": {},
   "outputs": [
    {
     "data": {
      "text/html": [
       "<div>\n",
       "<style scoped>\n",
       "    .dataframe tbody tr th:only-of-type {\n",
       "        vertical-align: middle;\n",
       "    }\n",
       "\n",
       "    .dataframe tbody tr th {\n",
       "        vertical-align: top;\n",
       "    }\n",
       "\n",
       "    .dataframe thead th {\n",
       "        text-align: right;\n",
       "    }\n",
       "</style>\n",
       "<table border=\"1\" class=\"dataframe\">\n",
       "  <thead>\n",
       "    <tr style=\"text-align: right;\">\n",
       "      <th></th>\n",
       "      <th>children</th>\n",
       "      <th>days_employed</th>\n",
       "      <th>dob_years</th>\n",
       "      <th>education</th>\n",
       "      <th>education_id</th>\n",
       "      <th>family_status</th>\n",
       "      <th>family_status_id</th>\n",
       "      <th>gender</th>\n",
       "      <th>income_type</th>\n",
       "      <th>debt</th>\n",
       "      <th>total_income</th>\n",
       "      <th>purpose</th>\n",
       "    </tr>\n",
       "  </thead>\n",
       "  <tbody>\n",
       "    <tr>\n",
       "      <td>291</td>\n",
       "      <td>-1</td>\n",
       "      <td>4417.703588</td>\n",
       "      <td>46</td>\n",
       "      <td>secondary education</td>\n",
       "      <td>1</td>\n",
       "      <td>civil partnership</td>\n",
       "      <td>1</td>\n",
       "      <td>F</td>\n",
       "      <td>employee</td>\n",
       "      <td>0</td>\n",
       "      <td>16450.615000</td>\n",
       "      <td>profile education</td>\n",
       "    </tr>\n",
       "    <tr>\n",
       "      <td>705</td>\n",
       "      <td>-1</td>\n",
       "      <td>902.084528</td>\n",
       "      <td>50</td>\n",
       "      <td>secondary education</td>\n",
       "      <td>1</td>\n",
       "      <td>married</td>\n",
       "      <td>0</td>\n",
       "      <td>F</td>\n",
       "      <td>civil servant</td>\n",
       "      <td>0</td>\n",
       "      <td>22061.264000</td>\n",
       "      <td>car purchase</td>\n",
       "    </tr>\n",
       "    <tr>\n",
       "      <td>742</td>\n",
       "      <td>-1</td>\n",
       "      <td>3174.456205</td>\n",
       "      <td>57</td>\n",
       "      <td>secondary education</td>\n",
       "      <td>1</td>\n",
       "      <td>married</td>\n",
       "      <td>0</td>\n",
       "      <td>F</td>\n",
       "      <td>employee</td>\n",
       "      <td>0</td>\n",
       "      <td>10282.887000</td>\n",
       "      <td>supplementary education</td>\n",
       "    </tr>\n",
       "    <tr>\n",
       "      <td>800</td>\n",
       "      <td>-1</td>\n",
       "      <td>3499.878522</td>\n",
       "      <td>54</td>\n",
       "      <td>secondary education</td>\n",
       "      <td>1</td>\n",
       "      <td>unmarried</td>\n",
       "      <td>4</td>\n",
       "      <td>F</td>\n",
       "      <td>retiree</td>\n",
       "      <td>0</td>\n",
       "      <td>13806.996000</td>\n",
       "      <td>supplementary education</td>\n",
       "    </tr>\n",
       "    <tr>\n",
       "      <td>941</td>\n",
       "      <td>-1</td>\n",
       "      <td>3259.094970</td>\n",
       "      <td>57</td>\n",
       "      <td>Secondary Education</td>\n",
       "      <td>1</td>\n",
       "      <td>married</td>\n",
       "      <td>0</td>\n",
       "      <td>F</td>\n",
       "      <td>retiree</td>\n",
       "      <td>0</td>\n",
       "      <td>21940.394503</td>\n",
       "      <td>buying my own car</td>\n",
       "    </tr>\n",
       "    <tr>\n",
       "      <td>1363</td>\n",
       "      <td>-1</td>\n",
       "      <td>1195.264956</td>\n",
       "      <td>55</td>\n",
       "      <td>SECONDARY EDUCATION</td>\n",
       "      <td>1</td>\n",
       "      <td>married</td>\n",
       "      <td>0</td>\n",
       "      <td>F</td>\n",
       "      <td>business</td>\n",
       "      <td>0</td>\n",
       "      <td>11128.112000</td>\n",
       "      <td>profile education</td>\n",
       "    </tr>\n",
       "    <tr>\n",
       "      <td>1929</td>\n",
       "      <td>-1</td>\n",
       "      <td>1461.303336</td>\n",
       "      <td>38</td>\n",
       "      <td>secondary education</td>\n",
       "      <td>1</td>\n",
       "      <td>unmarried</td>\n",
       "      <td>4</td>\n",
       "      <td>M</td>\n",
       "      <td>employee</td>\n",
       "      <td>0</td>\n",
       "      <td>17459.451000</td>\n",
       "      <td>purchase of the house</td>\n",
       "    </tr>\n",
       "    <tr>\n",
       "      <td>2073</td>\n",
       "      <td>-1</td>\n",
       "      <td>2539.761232</td>\n",
       "      <td>42</td>\n",
       "      <td>secondary education</td>\n",
       "      <td>1</td>\n",
       "      <td>divorced</td>\n",
       "      <td>3</td>\n",
       "      <td>F</td>\n",
       "      <td>business</td>\n",
       "      <td>0</td>\n",
       "      <td>26022.177000</td>\n",
       "      <td>purchase of the house</td>\n",
       "    </tr>\n",
       "    <tr>\n",
       "      <td>3814</td>\n",
       "      <td>-1</td>\n",
       "      <td>3045.290443</td>\n",
       "      <td>26</td>\n",
       "      <td>Secondary Education</td>\n",
       "      <td>1</td>\n",
       "      <td>civil partnership</td>\n",
       "      <td>1</td>\n",
       "      <td>F</td>\n",
       "      <td>civil servant</td>\n",
       "      <td>0</td>\n",
       "      <td>21102.846000</td>\n",
       "      <td>having a wedding</td>\n",
       "    </tr>\n",
       "    <tr>\n",
       "      <td>4201</td>\n",
       "      <td>-1</td>\n",
       "      <td>901.101738</td>\n",
       "      <td>41</td>\n",
       "      <td>secondary education</td>\n",
       "      <td>1</td>\n",
       "      <td>married</td>\n",
       "      <td>0</td>\n",
       "      <td>F</td>\n",
       "      <td>civil servant</td>\n",
       "      <td>0</td>\n",
       "      <td>36220.123000</td>\n",
       "      <td>transactions with my real estate</td>\n",
       "    </tr>\n",
       "    <tr>\n",
       "      <td>4402</td>\n",
       "      <td>-1</td>\n",
       "      <td>3980.013029</td>\n",
       "      <td>64</td>\n",
       "      <td>SECONDARY EDUCATION</td>\n",
       "      <td>1</td>\n",
       "      <td>married</td>\n",
       "      <td>0</td>\n",
       "      <td>F</td>\n",
       "      <td>retiree</td>\n",
       "      <td>0</td>\n",
       "      <td>26122.250000</td>\n",
       "      <td>buy real estate</td>\n",
       "    </tr>\n",
       "    <tr>\n",
       "      <td>4542</td>\n",
       "      <td>-1</td>\n",
       "      <td>1811.899756</td>\n",
       "      <td>32</td>\n",
       "      <td>secondary education</td>\n",
       "      <td>1</td>\n",
       "      <td>married</td>\n",
       "      <td>0</td>\n",
       "      <td>F</td>\n",
       "      <td>employee</td>\n",
       "      <td>0</td>\n",
       "      <td>25687.155000</td>\n",
       "      <td>education</td>\n",
       "    </tr>\n",
       "    <tr>\n",
       "      <td>5272</td>\n",
       "      <td>-1</td>\n",
       "      <td>1143.485347</td>\n",
       "      <td>46</td>\n",
       "      <td>secondary education</td>\n",
       "      <td>1</td>\n",
       "      <td>widow / widower</td>\n",
       "      <td>2</td>\n",
       "      <td>F</td>\n",
       "      <td>employee</td>\n",
       "      <td>0</td>\n",
       "      <td>44593.283000</td>\n",
       "      <td>buy real estate</td>\n",
       "    </tr>\n",
       "    <tr>\n",
       "      <td>6013</td>\n",
       "      <td>-1</td>\n",
       "      <td>1361.258696</td>\n",
       "      <td>46</td>\n",
       "      <td>bachelor's degree</td>\n",
       "      <td>0</td>\n",
       "      <td>married</td>\n",
       "      <td>0</td>\n",
       "      <td>F</td>\n",
       "      <td>employee</td>\n",
       "      <td>0</td>\n",
       "      <td>22881.353000</td>\n",
       "      <td>construction of own property</td>\n",
       "    </tr>\n",
       "    <tr>\n",
       "      <td>6385</td>\n",
       "      <td>-1</td>\n",
       "      <td>3702.154762</td>\n",
       "      <td>48</td>\n",
       "      <td>secondary education</td>\n",
       "      <td>1</td>\n",
       "      <td>widow / widower</td>\n",
       "      <td>2</td>\n",
       "      <td>F</td>\n",
       "      <td>retiree</td>\n",
       "      <td>0</td>\n",
       "      <td>5768.392000</td>\n",
       "      <td>education</td>\n",
       "    </tr>\n",
       "    <tr>\n",
       "      <td>7190</td>\n",
       "      <td>-1</td>\n",
       "      <td>5928.202068</td>\n",
       "      <td>34</td>\n",
       "      <td>SECONDARY EDUCATION</td>\n",
       "      <td>1</td>\n",
       "      <td>married</td>\n",
       "      <td>0</td>\n",
       "      <td>M</td>\n",
       "      <td>employee</td>\n",
       "      <td>0</td>\n",
       "      <td>29490.420000</td>\n",
       "      <td>car purchase</td>\n",
       "    </tr>\n",
       "    <tr>\n",
       "      <td>7278</td>\n",
       "      <td>-1</td>\n",
       "      <td>526.318451</td>\n",
       "      <td>51</td>\n",
       "      <td>secondary education</td>\n",
       "      <td>1</td>\n",
       "      <td>married</td>\n",
       "      <td>0</td>\n",
       "      <td>F</td>\n",
       "      <td>employee</td>\n",
       "      <td>0</td>\n",
       "      <td>23508.603000</td>\n",
       "      <td>transactions with commercial real estate</td>\n",
       "    </tr>\n",
       "    <tr>\n",
       "      <td>7615</td>\n",
       "      <td>-1</td>\n",
       "      <td>2095.293025</td>\n",
       "      <td>35</td>\n",
       "      <td>secondary education</td>\n",
       "      <td>1</td>\n",
       "      <td>married</td>\n",
       "      <td>0</td>\n",
       "      <td>M</td>\n",
       "      <td>employee</td>\n",
       "      <td>0</td>\n",
       "      <td>25820.841683</td>\n",
       "      <td>education</td>\n",
       "    </tr>\n",
       "    <tr>\n",
       "      <td>7685</td>\n",
       "      <td>-1</td>\n",
       "      <td>3237.360455</td>\n",
       "      <td>53</td>\n",
       "      <td>secondary education</td>\n",
       "      <td>1</td>\n",
       "      <td>widow / widower</td>\n",
       "      <td>2</td>\n",
       "      <td>F</td>\n",
       "      <td>employee</td>\n",
       "      <td>0</td>\n",
       "      <td>25548.188000</td>\n",
       "      <td>building a real estate</td>\n",
       "    </tr>\n",
       "    <tr>\n",
       "      <td>8229</td>\n",
       "      <td>-1</td>\n",
       "      <td>1803.441074</td>\n",
       "      <td>54</td>\n",
       "      <td>bachelor's degree</td>\n",
       "      <td>0</td>\n",
       "      <td>married</td>\n",
       "      <td>0</td>\n",
       "      <td>F</td>\n",
       "      <td>business</td>\n",
       "      <td>0</td>\n",
       "      <td>22209.453000</td>\n",
       "      <td>buy real estate</td>\n",
       "    </tr>\n",
       "    <tr>\n",
       "      <td>8251</td>\n",
       "      <td>-1</td>\n",
       "      <td>3113.998449</td>\n",
       "      <td>31</td>\n",
       "      <td>secondary education</td>\n",
       "      <td>1</td>\n",
       "      <td>civil partnership</td>\n",
       "      <td>1</td>\n",
       "      <td>F</td>\n",
       "      <td>employee</td>\n",
       "      <td>0</td>\n",
       "      <td>8705.929000</td>\n",
       "      <td>to own a car</td>\n",
       "    </tr>\n",
       "    <tr>\n",
       "      <td>8561</td>\n",
       "      <td>-1</td>\n",
       "      <td>195.479496</td>\n",
       "      <td>31</td>\n",
       "      <td>secondary education</td>\n",
       "      <td>1</td>\n",
       "      <td>married</td>\n",
       "      <td>0</td>\n",
       "      <td>F</td>\n",
       "      <td>employee</td>\n",
       "      <td>0</td>\n",
       "      <td>23292.461000</td>\n",
       "      <td>housing renovation</td>\n",
       "    </tr>\n",
       "    <tr>\n",
       "      <td>9565</td>\n",
       "      <td>-1</td>\n",
       "      <td>2896.629686</td>\n",
       "      <td>34</td>\n",
       "      <td>bachelor's degree</td>\n",
       "      <td>0</td>\n",
       "      <td>married</td>\n",
       "      <td>0</td>\n",
       "      <td>M</td>\n",
       "      <td>employee</td>\n",
       "      <td>0</td>\n",
       "      <td>20280.745000</td>\n",
       "      <td>real estate transactions</td>\n",
       "    </tr>\n",
       "    <tr>\n",
       "      <td>9574</td>\n",
       "      <td>-1</td>\n",
       "      <td>2710.419901</td>\n",
       "      <td>28</td>\n",
       "      <td>bachelor's degree</td>\n",
       "      <td>0</td>\n",
       "      <td>married</td>\n",
       "      <td>0</td>\n",
       "      <td>M</td>\n",
       "      <td>civil servant</td>\n",
       "      <td>0</td>\n",
       "      <td>48501.946000</td>\n",
       "      <td>to get a supplementary education</td>\n",
       "    </tr>\n",
       "    <tr>\n",
       "      <td>10177</td>\n",
       "      <td>-1</td>\n",
       "      <td>1743.604011</td>\n",
       "      <td>37</td>\n",
       "      <td>secondary education</td>\n",
       "      <td>1</td>\n",
       "      <td>married</td>\n",
       "      <td>0</td>\n",
       "      <td>M</td>\n",
       "      <td>employee</td>\n",
       "      <td>0</td>\n",
       "      <td>49658.801000</td>\n",
       "      <td>getting an education</td>\n",
       "    </tr>\n",
       "    <tr>\n",
       "      <td>10365</td>\n",
       "      <td>-1</td>\n",
       "      <td>3457.741260</td>\n",
       "      <td>63</td>\n",
       "      <td>BACHELOR'S DEGREE</td>\n",
       "      <td>0</td>\n",
       "      <td>widow / widower</td>\n",
       "      <td>2</td>\n",
       "      <td>F</td>\n",
       "      <td>retiree</td>\n",
       "      <td>0</td>\n",
       "      <td>27322.040000</td>\n",
       "      <td>building a real estate</td>\n",
       "    </tr>\n",
       "    <tr>\n",
       "      <td>10918</td>\n",
       "      <td>-1</td>\n",
       "      <td>3404.990393</td>\n",
       "      <td>50</td>\n",
       "      <td>secondary education</td>\n",
       "      <td>1</td>\n",
       "      <td>married</td>\n",
       "      <td>0</td>\n",
       "      <td>M</td>\n",
       "      <td>retiree</td>\n",
       "      <td>0</td>\n",
       "      <td>27322.044000</td>\n",
       "      <td>purchase of my own house</td>\n",
       "    </tr>\n",
       "    <tr>\n",
       "      <td>11109</td>\n",
       "      <td>-1</td>\n",
       "      <td>3438.463024</td>\n",
       "      <td>59</td>\n",
       "      <td>secondary education</td>\n",
       "      <td>1</td>\n",
       "      <td>married</td>\n",
       "      <td>0</td>\n",
       "      <td>F</td>\n",
       "      <td>employee</td>\n",
       "      <td>0</td>\n",
       "      <td>35179.842000</td>\n",
       "      <td>housing transactions</td>\n",
       "    </tr>\n",
       "    <tr>\n",
       "      <td>11268</td>\n",
       "      <td>-1</td>\n",
       "      <td>1048.782203</td>\n",
       "      <td>30</td>\n",
       "      <td>bachelor's degree</td>\n",
       "      <td>0</td>\n",
       "      <td>civil partnership</td>\n",
       "      <td>1</td>\n",
       "      <td>F</td>\n",
       "      <td>business</td>\n",
       "      <td>0</td>\n",
       "      <td>51456.592000</td>\n",
       "      <td>to buy a car</td>\n",
       "    </tr>\n",
       "    <tr>\n",
       "      <td>11617</td>\n",
       "      <td>-1</td>\n",
       "      <td>370.827130</td>\n",
       "      <td>27</td>\n",
       "      <td>secondary education</td>\n",
       "      <td>1</td>\n",
       "      <td>married</td>\n",
       "      <td>0</td>\n",
       "      <td>F</td>\n",
       "      <td>business</td>\n",
       "      <td>0</td>\n",
       "      <td>26334.602000</td>\n",
       "      <td>buying property for renting out</td>\n",
       "    </tr>\n",
       "    <tr>\n",
       "      <td>12304</td>\n",
       "      <td>-1</td>\n",
       "      <td>8493.101252</td>\n",
       "      <td>61</td>\n",
       "      <td>some college</td>\n",
       "      <td>2</td>\n",
       "      <td>married</td>\n",
       "      <td>0</td>\n",
       "      <td>M</td>\n",
       "      <td>employee</td>\n",
       "      <td>0</td>\n",
       "      <td>50400.989000</td>\n",
       "      <td>property</td>\n",
       "    </tr>\n",
       "    <tr>\n",
       "      <td>13786</td>\n",
       "      <td>-1</td>\n",
       "      <td>1900.579581</td>\n",
       "      <td>42</td>\n",
       "      <td>secondary education</td>\n",
       "      <td>1</td>\n",
       "      <td>unmarried</td>\n",
       "      <td>4</td>\n",
       "      <td>M</td>\n",
       "      <td>business</td>\n",
       "      <td>0</td>\n",
       "      <td>32386.793835</td>\n",
       "      <td>car</td>\n",
       "    </tr>\n",
       "    <tr>\n",
       "      <td>14357</td>\n",
       "      <td>-1</td>\n",
       "      <td>268.337037</td>\n",
       "      <td>23</td>\n",
       "      <td>secondary education</td>\n",
       "      <td>1</td>\n",
       "      <td>divorced</td>\n",
       "      <td>3</td>\n",
       "      <td>F</td>\n",
       "      <td>business</td>\n",
       "      <td>0</td>\n",
       "      <td>14761.213000</td>\n",
       "      <td>buy residential real estate</td>\n",
       "    </tr>\n",
       "    <tr>\n",
       "      <td>15147</td>\n",
       "      <td>-1</td>\n",
       "      <td>9851.184337</td>\n",
       "      <td>44</td>\n",
       "      <td>secondary education</td>\n",
       "      <td>1</td>\n",
       "      <td>divorced</td>\n",
       "      <td>3</td>\n",
       "      <td>F</td>\n",
       "      <td>employee</td>\n",
       "      <td>0</td>\n",
       "      <td>17758.530000</td>\n",
       "      <td>to own a car</td>\n",
       "    </tr>\n",
       "    <tr>\n",
       "      <td>15435</td>\n",
       "      <td>-1</td>\n",
       "      <td>3614.220232</td>\n",
       "      <td>40</td>\n",
       "      <td>bachelor's degree</td>\n",
       "      <td>0</td>\n",
       "      <td>civil partnership</td>\n",
       "      <td>1</td>\n",
       "      <td>F</td>\n",
       "      <td>employee</td>\n",
       "      <td>0</td>\n",
       "      <td>15700.406000</td>\n",
       "      <td>to have a wedding</td>\n",
       "    </tr>\n",
       "    <tr>\n",
       "      <td>16129</td>\n",
       "      <td>-1</td>\n",
       "      <td>457.861760</td>\n",
       "      <td>33</td>\n",
       "      <td>secondary education</td>\n",
       "      <td>1</td>\n",
       "      <td>married</td>\n",
       "      <td>0</td>\n",
       "      <td>F</td>\n",
       "      <td>employee</td>\n",
       "      <td>1</td>\n",
       "      <td>23942.573000</td>\n",
       "      <td>car</td>\n",
       "    </tr>\n",
       "    <tr>\n",
       "      <td>16265</td>\n",
       "      <td>-1</td>\n",
       "      <td>2802.218127</td>\n",
       "      <td>40</td>\n",
       "      <td>bachelor's degree</td>\n",
       "      <td>0</td>\n",
       "      <td>married</td>\n",
       "      <td>0</td>\n",
       "      <td>M</td>\n",
       "      <td>employee</td>\n",
       "      <td>0</td>\n",
       "      <td>17917.516000</td>\n",
       "      <td>purchase of the house</td>\n",
       "    </tr>\n",
       "    <tr>\n",
       "      <td>17095</td>\n",
       "      <td>-1</td>\n",
       "      <td>2809.693200</td>\n",
       "      <td>34</td>\n",
       "      <td>secondary education</td>\n",
       "      <td>1</td>\n",
       "      <td>married</td>\n",
       "      <td>0</td>\n",
       "      <td>F</td>\n",
       "      <td>employee</td>\n",
       "      <td>0</td>\n",
       "      <td>29207.022000</td>\n",
       "      <td>buying a second-hand car</td>\n",
       "    </tr>\n",
       "    <tr>\n",
       "      <td>17429</td>\n",
       "      <td>-1</td>\n",
       "      <td>895.379738</td>\n",
       "      <td>37</td>\n",
       "      <td>secondary education</td>\n",
       "      <td>1</td>\n",
       "      <td>married</td>\n",
       "      <td>0</td>\n",
       "      <td>F</td>\n",
       "      <td>business</td>\n",
       "      <td>0</td>\n",
       "      <td>34370.243000</td>\n",
       "      <td>housing</td>\n",
       "    </tr>\n",
       "    <tr>\n",
       "      <td>17657</td>\n",
       "      <td>-1</td>\n",
       "      <td>4571.957475</td>\n",
       "      <td>41</td>\n",
       "      <td>secondary education</td>\n",
       "      <td>1</td>\n",
       "      <td>married</td>\n",
       "      <td>0</td>\n",
       "      <td>F</td>\n",
       "      <td>employee</td>\n",
       "      <td>0</td>\n",
       "      <td>19536.867000</td>\n",
       "      <td>transactions with my real estate</td>\n",
       "    </tr>\n",
       "    <tr>\n",
       "      <td>18219</td>\n",
       "      <td>-1</td>\n",
       "      <td>3575.215641</td>\n",
       "      <td>33</td>\n",
       "      <td>secondary education</td>\n",
       "      <td>1</td>\n",
       "      <td>married</td>\n",
       "      <td>0</td>\n",
       "      <td>F</td>\n",
       "      <td>employee</td>\n",
       "      <td>0</td>\n",
       "      <td>20537.924000</td>\n",
       "      <td>university education</td>\n",
       "    </tr>\n",
       "    <tr>\n",
       "      <td>19100</td>\n",
       "      <td>-1</td>\n",
       "      <td>617.246968</td>\n",
       "      <td>38</td>\n",
       "      <td>secondary education</td>\n",
       "      <td>1</td>\n",
       "      <td>unmarried</td>\n",
       "      <td>4</td>\n",
       "      <td>M</td>\n",
       "      <td>employee</td>\n",
       "      <td>0</td>\n",
       "      <td>19552.880000</td>\n",
       "      <td>building a real estate</td>\n",
       "    </tr>\n",
       "    <tr>\n",
       "      <td>19366</td>\n",
       "      <td>-1</td>\n",
       "      <td>372.034749</td>\n",
       "      <td>43</td>\n",
       "      <td>SECONDARY EDUCATION</td>\n",
       "      <td>1</td>\n",
       "      <td>married</td>\n",
       "      <td>0</td>\n",
       "      <td>M</td>\n",
       "      <td>employee</td>\n",
       "      <td>0</td>\n",
       "      <td>24894.203000</td>\n",
       "      <td>second-hand car purchase</td>\n",
       "    </tr>\n",
       "    <tr>\n",
       "      <td>19417</td>\n",
       "      <td>-1</td>\n",
       "      <td>3503.407602</td>\n",
       "      <td>28</td>\n",
       "      <td>secondary education</td>\n",
       "      <td>1</td>\n",
       "      <td>divorced</td>\n",
       "      <td>3</td>\n",
       "      <td>F</td>\n",
       "      <td>retiree</td>\n",
       "      <td>0</td>\n",
       "      <td>8459.679000</td>\n",
       "      <td>cars</td>\n",
       "    </tr>\n",
       "    <tr>\n",
       "      <td>20393</td>\n",
       "      <td>-1</td>\n",
       "      <td>3551.571072</td>\n",
       "      <td>69</td>\n",
       "      <td>secondary education</td>\n",
       "      <td>1</td>\n",
       "      <td>unmarried</td>\n",
       "      <td>4</td>\n",
       "      <td>F</td>\n",
       "      <td>retiree</td>\n",
       "      <td>0</td>\n",
       "      <td>18643.367000</td>\n",
       "      <td>real estate transactions</td>\n",
       "    </tr>\n",
       "    <tr>\n",
       "      <td>20717</td>\n",
       "      <td>-1</td>\n",
       "      <td>661.822321</td>\n",
       "      <td>32</td>\n",
       "      <td>bachelor's degree</td>\n",
       "      <td>0</td>\n",
       "      <td>married</td>\n",
       "      <td>0</td>\n",
       "      <td>F</td>\n",
       "      <td>employee</td>\n",
       "      <td>0</td>\n",
       "      <td>21984.862000</td>\n",
       "      <td>buy residential real estate</td>\n",
       "    </tr>\n",
       "    <tr>\n",
       "      <td>21140</td>\n",
       "      <td>-1</td>\n",
       "      <td>1422.668059</td>\n",
       "      <td>44</td>\n",
       "      <td>secondary education</td>\n",
       "      <td>1</td>\n",
       "      <td>married</td>\n",
       "      <td>0</td>\n",
       "      <td>F</td>\n",
       "      <td>business</td>\n",
       "      <td>0</td>\n",
       "      <td>27129.935000</td>\n",
       "      <td>transactions with my real estate</td>\n",
       "    </tr>\n",
       "  </tbody>\n",
       "</table>\n",
       "</div>"
      ],
      "text/plain": [
       "       children  days_employed  dob_years            education  education_id  \\\n",
       "291          -1    4417.703588         46  secondary education             1   \n",
       "705          -1     902.084528         50  secondary education             1   \n",
       "742          -1    3174.456205         57  secondary education             1   \n",
       "800          -1    3499.878522         54  secondary education             1   \n",
       "941          -1    3259.094970         57  Secondary Education             1   \n",
       "1363         -1    1195.264956         55  SECONDARY EDUCATION             1   \n",
       "1929         -1    1461.303336         38  secondary education             1   \n",
       "2073         -1    2539.761232         42  secondary education             1   \n",
       "3814         -1    3045.290443         26  Secondary Education             1   \n",
       "4201         -1     901.101738         41  secondary education             1   \n",
       "4402         -1    3980.013029         64  SECONDARY EDUCATION             1   \n",
       "4542         -1    1811.899756         32  secondary education             1   \n",
       "5272         -1    1143.485347         46  secondary education             1   \n",
       "6013         -1    1361.258696         46    bachelor's degree             0   \n",
       "6385         -1    3702.154762         48  secondary education             1   \n",
       "7190         -1    5928.202068         34  SECONDARY EDUCATION             1   \n",
       "7278         -1     526.318451         51  secondary education             1   \n",
       "7615         -1    2095.293025         35  secondary education             1   \n",
       "7685         -1    3237.360455         53  secondary education             1   \n",
       "8229         -1    1803.441074         54    bachelor's degree             0   \n",
       "8251         -1    3113.998449         31  secondary education             1   \n",
       "8561         -1     195.479496         31  secondary education             1   \n",
       "9565         -1    2896.629686         34    bachelor's degree             0   \n",
       "9574         -1    2710.419901         28    bachelor's degree             0   \n",
       "10177        -1    1743.604011         37  secondary education             1   \n",
       "10365        -1    3457.741260         63    BACHELOR'S DEGREE             0   \n",
       "10918        -1    3404.990393         50  secondary education             1   \n",
       "11109        -1    3438.463024         59  secondary education             1   \n",
       "11268        -1    1048.782203         30    bachelor's degree             0   \n",
       "11617        -1     370.827130         27  secondary education             1   \n",
       "12304        -1    8493.101252         61         some college             2   \n",
       "13786        -1    1900.579581         42  secondary education             1   \n",
       "14357        -1     268.337037         23  secondary education             1   \n",
       "15147        -1    9851.184337         44  secondary education             1   \n",
       "15435        -1    3614.220232         40    bachelor's degree             0   \n",
       "16129        -1     457.861760         33  secondary education             1   \n",
       "16265        -1    2802.218127         40    bachelor's degree             0   \n",
       "17095        -1    2809.693200         34  secondary education             1   \n",
       "17429        -1     895.379738         37  secondary education             1   \n",
       "17657        -1    4571.957475         41  secondary education             1   \n",
       "18219        -1    3575.215641         33  secondary education             1   \n",
       "19100        -1     617.246968         38  secondary education             1   \n",
       "19366        -1     372.034749         43  SECONDARY EDUCATION             1   \n",
       "19417        -1    3503.407602         28  secondary education             1   \n",
       "20393        -1    3551.571072         69  secondary education             1   \n",
       "20717        -1     661.822321         32    bachelor's degree             0   \n",
       "21140        -1    1422.668059         44  secondary education             1   \n",
       "\n",
       "           family_status  family_status_id gender    income_type  debt  \\\n",
       "291    civil partnership                 1      F       employee     0   \n",
       "705              married                 0      F  civil servant     0   \n",
       "742              married                 0      F       employee     0   \n",
       "800            unmarried                 4      F        retiree     0   \n",
       "941              married                 0      F        retiree     0   \n",
       "1363             married                 0      F       business     0   \n",
       "1929           unmarried                 4      M       employee     0   \n",
       "2073            divorced                 3      F       business     0   \n",
       "3814   civil partnership                 1      F  civil servant     0   \n",
       "4201             married                 0      F  civil servant     0   \n",
       "4402             married                 0      F        retiree     0   \n",
       "4542             married                 0      F       employee     0   \n",
       "5272     widow / widower                 2      F       employee     0   \n",
       "6013             married                 0      F       employee     0   \n",
       "6385     widow / widower                 2      F        retiree     0   \n",
       "7190             married                 0      M       employee     0   \n",
       "7278             married                 0      F       employee     0   \n",
       "7615             married                 0      M       employee     0   \n",
       "7685     widow / widower                 2      F       employee     0   \n",
       "8229             married                 0      F       business     0   \n",
       "8251   civil partnership                 1      F       employee     0   \n",
       "8561             married                 0      F       employee     0   \n",
       "9565             married                 0      M       employee     0   \n",
       "9574             married                 0      M  civil servant     0   \n",
       "10177            married                 0      M       employee     0   \n",
       "10365    widow / widower                 2      F        retiree     0   \n",
       "10918            married                 0      M        retiree     0   \n",
       "11109            married                 0      F       employee     0   \n",
       "11268  civil partnership                 1      F       business     0   \n",
       "11617            married                 0      F       business     0   \n",
       "12304            married                 0      M       employee     0   \n",
       "13786          unmarried                 4      M       business     0   \n",
       "14357           divorced                 3      F       business     0   \n",
       "15147           divorced                 3      F       employee     0   \n",
       "15435  civil partnership                 1      F       employee     0   \n",
       "16129            married                 0      F       employee     1   \n",
       "16265            married                 0      M       employee     0   \n",
       "17095            married                 0      F       employee     0   \n",
       "17429            married                 0      F       business     0   \n",
       "17657            married                 0      F       employee     0   \n",
       "18219            married                 0      F       employee     0   \n",
       "19100          unmarried                 4      M       employee     0   \n",
       "19366            married                 0      M       employee     0   \n",
       "19417           divorced                 3      F        retiree     0   \n",
       "20393          unmarried                 4      F        retiree     0   \n",
       "20717            married                 0      F       employee     0   \n",
       "21140            married                 0      F       business     0   \n",
       "\n",
       "       total_income                                   purpose  \n",
       "291    16450.615000                         profile education  \n",
       "705    22061.264000                              car purchase  \n",
       "742    10282.887000                   supplementary education  \n",
       "800    13806.996000                   supplementary education  \n",
       "941    21940.394503                         buying my own car  \n",
       "1363   11128.112000                         profile education  \n",
       "1929   17459.451000                     purchase of the house  \n",
       "2073   26022.177000                     purchase of the house  \n",
       "3814   21102.846000                          having a wedding  \n",
       "4201   36220.123000          transactions with my real estate  \n",
       "4402   26122.250000                           buy real estate  \n",
       "4542   25687.155000                                 education  \n",
       "5272   44593.283000                           buy real estate  \n",
       "6013   22881.353000              construction of own property  \n",
       "6385    5768.392000                                 education  \n",
       "7190   29490.420000                              car purchase  \n",
       "7278   23508.603000  transactions with commercial real estate  \n",
       "7615   25820.841683                                 education  \n",
       "7685   25548.188000                    building a real estate  \n",
       "8229   22209.453000                           buy real estate  \n",
       "8251    8705.929000                              to own a car  \n",
       "8561   23292.461000                        housing renovation  \n",
       "9565   20280.745000                  real estate transactions  \n",
       "9574   48501.946000          to get a supplementary education  \n",
       "10177  49658.801000                      getting an education  \n",
       "10365  27322.040000                    building a real estate  \n",
       "10918  27322.044000                  purchase of my own house  \n",
       "11109  35179.842000                      housing transactions  \n",
       "11268  51456.592000                              to buy a car  \n",
       "11617  26334.602000           buying property for renting out  \n",
       "12304  50400.989000                                  property  \n",
       "13786  32386.793835                                       car  \n",
       "14357  14761.213000               buy residential real estate  \n",
       "15147  17758.530000                              to own a car  \n",
       "15435  15700.406000                         to have a wedding  \n",
       "16129  23942.573000                                       car  \n",
       "16265  17917.516000                     purchase of the house  \n",
       "17095  29207.022000                  buying a second-hand car  \n",
       "17429  34370.243000                                   housing  \n",
       "17657  19536.867000          transactions with my real estate  \n",
       "18219  20537.924000                      university education  \n",
       "19100  19552.880000                    building a real estate  \n",
       "19366  24894.203000                  second-hand car purchase  \n",
       "19417   8459.679000                                      cars  \n",
       "20393  18643.367000                  real estate transactions  \n",
       "20717  21984.862000               buy residential real estate  \n",
       "21140  27129.935000          transactions with my real estate  "
      ]
     },
     "execution_count": 14,
     "metadata": {},
     "output_type": "execute_result"
    }
   ],
   "source": [
    "#Check children <0\n",
    "data[data['children'] <0]"
   ]
  },
  {
   "cell_type": "code",
   "execution_count": 15,
   "metadata": {},
   "outputs": [
    {
     "data": {
      "text/plain": [
       "-1    47\n",
       "Name: children, dtype: int64"
      ]
     },
     "execution_count": 15,
     "metadata": {},
     "output_type": "execute_result"
    }
   ],
   "source": [
    "#Check children <0\n",
    "data[data['children'] <0]['children'].value_counts()\n",
    "\n",
    "#There are 47 rows with -1 children\n",
    "#Maybe there was a mistake when submitting the values and the '-' sign is a mistake"
   ]
  },
  {
   "cell_type": "code",
   "execution_count": 16,
   "metadata": {},
   "outputs": [],
   "source": [
    "#Replace negative age to positive \n",
    "data.loc[data['children'] <0, 'children'] = data.loc[data['children'] <0, 'children'].abs()"
   ]
  },
  {
   "cell_type": "code",
   "execution_count": 17,
   "metadata": {},
   "outputs": [
    {
     "data": {
      "text/html": [
       "<div>\n",
       "<style scoped>\n",
       "    .dataframe tbody tr th:only-of-type {\n",
       "        vertical-align: middle;\n",
       "    }\n",
       "\n",
       "    .dataframe tbody tr th {\n",
       "        vertical-align: top;\n",
       "    }\n",
       "\n",
       "    .dataframe thead th {\n",
       "        text-align: right;\n",
       "    }\n",
       "</style>\n",
       "<table border=\"1\" class=\"dataframe\">\n",
       "  <thead>\n",
       "    <tr style=\"text-align: right;\">\n",
       "      <th></th>\n",
       "      <th>children</th>\n",
       "      <th>days_employed</th>\n",
       "      <th>dob_years</th>\n",
       "      <th>education</th>\n",
       "      <th>education_id</th>\n",
       "      <th>family_status</th>\n",
       "      <th>family_status_id</th>\n",
       "      <th>income_type</th>\n",
       "      <th>debt</th>\n",
       "      <th>total_income</th>\n",
       "      <th>purpose</th>\n",
       "    </tr>\n",
       "    <tr>\n",
       "      <th>gender</th>\n",
       "      <th></th>\n",
       "      <th></th>\n",
       "      <th></th>\n",
       "      <th></th>\n",
       "      <th></th>\n",
       "      <th></th>\n",
       "      <th></th>\n",
       "      <th></th>\n",
       "      <th></th>\n",
       "      <th></th>\n",
       "      <th></th>\n",
       "    </tr>\n",
       "  </thead>\n",
       "  <tbody>\n",
       "    <tr>\n",
       "      <td>F</td>\n",
       "      <td>47</td>\n",
       "      <td>47</td>\n",
       "      <td>47</td>\n",
       "      <td>47</td>\n",
       "      <td>47</td>\n",
       "      <td>47</td>\n",
       "      <td>47</td>\n",
       "      <td>47</td>\n",
       "      <td>47</td>\n",
       "      <td>47</td>\n",
       "      <td>47</td>\n",
       "    </tr>\n",
       "    <tr>\n",
       "      <td>M</td>\n",
       "      <td>29</td>\n",
       "      <td>29</td>\n",
       "      <td>29</td>\n",
       "      <td>29</td>\n",
       "      <td>29</td>\n",
       "      <td>29</td>\n",
       "      <td>29</td>\n",
       "      <td>29</td>\n",
       "      <td>29</td>\n",
       "      <td>29</td>\n",
       "      <td>29</td>\n",
       "    </tr>\n",
       "  </tbody>\n",
       "</table>\n",
       "</div>"
      ],
      "text/plain": [
       "        children  days_employed  dob_years  education  education_id  \\\n",
       "gender                                                                \n",
       "F             47             47         47         47            47   \n",
       "M             29             29         29         29            29   \n",
       "\n",
       "        family_status  family_status_id  income_type  debt  total_income  \\\n",
       "gender                                                                     \n",
       "F                  47                47           47    47            47   \n",
       "M                  29                29           29    29            29   \n",
       "\n",
       "        purpose  \n",
       "gender           \n",
       "F            47  \n",
       "M            29  "
      ]
     },
     "execution_count": 17,
     "metadata": {},
     "output_type": "execute_result"
    }
   ],
   "source": [
    "#Check children = 20\n",
    "data[data['children'] == 20].groupby('gender').count()\n",
    "#does'nt look realistic for female to have 20 children (#metoo!!! :) ) \n",
    "#Maybe typo so 20 is actually  2 ->replace it \n",
    "\n",
    "#Abount men how have 20 children - can be realistic(#metoo chauvinist) more details in the conclusion part\n",
    " "
   ]
  },
  {
   "cell_type": "code",
   "execution_count": 18,
   "metadata": {},
   "outputs": [],
   "source": [
    "# Female with 20 children -> change it to 2 \n",
    "data.loc[(data['children'] == 20) & (data['gender'] == 'F'),'children'] = 2\n"
   ]
  },
  {
   "cell_type": "markdown",
   "metadata": {},
   "source": [
    "### Conclusion"
   ]
  },
  {
   "cell_type": "markdown",
   "metadata": {},
   "source": [
    "1. 'days_employed' data is not clear.\n",
    "    There are positive and also negatine numbers. Is negative numbers are correct data?    \n",
    "    transfering days to years gives un realistic values. What the values stand for? \n",
    "2. 'days_employed' column -taken an assumption that period od time that a person in working is 60 years.\n",
    "    numbers above 21360(60 years) are divided by 10 until getting realistic number\n",
    "3.  There are 15906 rows with negative days_employed. its look like a typo.\n",
    "    negative days_employed was replaced to positive.\n",
    "4. customers with total_income=NAN or total_income=0, there values were changed to the mean value of there income_type \n",
    "5. customers with days_employed=NAN or days_employed=0, there values were changed to the mean value of there income_type \n",
    "6. There are 101 rows that dob_years=0. maybe custumers didn't want to unveil there age.\n",
    "    Becausee are not using the age as a parameter for our customer score i will not change/delete this column/rows\n",
    "7. there is no relation between customers with age=0 to repaying a loan on time. a conclusion is that customers with debt          didn't afraid to unveil there age from a thougth that they will not get a loan\n",
    "8. There are 47 rows with children=-1. I think its a mistake when submitting the numbers . the '-' sign is a mistake\n",
    "   so i replaced negative numbers with positive number(-1 to 1)\n",
    "9. does'nt look realistic for female to have 20 children (#metoo!!! :) ) \n",
    "   Maybe typo so 20 is actually  2 ->replace it \n",
    "   About men how have 20 children - can be realistic(#metoo!!!!!! )\n",
    "   for example - moslem men with several wifes, Amish Mennonite...\n",
    "   there are only 29 rows like this.\n",
    "   I decide to keep it like this and not to change it to 2\n"
   ]
  },
  {
   "cell_type": "markdown",
   "metadata": {},
   "source": [
    "### Data type replacement"
   ]
  },
  {
   "cell_type": "code",
   "execution_count": 19,
   "metadata": {},
   "outputs": [
    {
     "name": "stdout",
     "output_type": "stream",
     "text": [
      "<class 'pandas.core.frame.DataFrame'>\n",
      "RangeIndex: 21525 entries, 0 to 21524\n",
      "Data columns (total 12 columns):\n",
      "children            21525 non-null int64\n",
      "days_employed       21525 non-null float64\n",
      "dob_years           21525 non-null int64\n",
      "education           21525 non-null object\n",
      "education_id        21525 non-null int64\n",
      "family_status       21525 non-null object\n",
      "family_status_id    21525 non-null int64\n",
      "gender              21525 non-null object\n",
      "income_type         21525 non-null object\n",
      "debt                21525 non-null bool\n",
      "total_income        21525 non-null float64\n",
      "purpose             21525 non-null object\n",
      "dtypes: bool(1), float64(2), int64(4), object(5)\n",
      "memory usage: 1.8+ MB\n"
     ]
    }
   ],
   "source": [
    "#Check list of unique values, to make sure there is only valid values [0,1]\n",
    "data.debt.unique()\n",
    "\n",
    "#Replace 'debt' from object to boolean\n",
    "data['debt'] = data['debt'].astype(bool)\n",
    "data.info()"
   ]
  },
  {
   "cell_type": "markdown",
   "metadata": {},
   "source": [
    "### Conclusion"
   ]
  },
  {
   "cell_type": "markdown",
   "metadata": {},
   "source": [
    "1. 'debt' column values are [0,1] meaning that if a customer has ever defaulted on a loan. \n",
    "    Field can be changed to boolean"
   ]
  },
  {
   "cell_type": "markdown",
   "metadata": {},
   "source": [
    "### Processing duplicates"
   ]
  },
  {
   "cell_type": "code",
   "execution_count": 20,
   "metadata": {},
   "outputs": [
    {
     "data": {
      "text/plain": [
       "54"
      ]
     },
     "execution_count": 20,
     "metadata": {},
     "output_type": "execute_result"
    }
   ],
   "source": [
    "#Get number of duplicated rows\n",
    "data.duplicated().sum()"
   ]
  },
  {
   "cell_type": "code",
   "execution_count": 21,
   "metadata": {},
   "outputs": [
    {
     "data": {
      "text/html": [
       "<div>\n",
       "<style scoped>\n",
       "    .dataframe tbody tr th:only-of-type {\n",
       "        vertical-align: middle;\n",
       "    }\n",
       "\n",
       "    .dataframe tbody tr th {\n",
       "        vertical-align: top;\n",
       "    }\n",
       "\n",
       "    .dataframe thead th {\n",
       "        text-align: right;\n",
       "    }\n",
       "</style>\n",
       "<table border=\"1\" class=\"dataframe\">\n",
       "  <thead>\n",
       "    <tr style=\"text-align: right;\">\n",
       "      <th></th>\n",
       "      <th>children</th>\n",
       "      <th>days_employed</th>\n",
       "      <th>dob_years</th>\n",
       "      <th>education</th>\n",
       "      <th>education_id</th>\n",
       "      <th>family_status</th>\n",
       "      <th>family_status_id</th>\n",
       "      <th>gender</th>\n",
       "      <th>income_type</th>\n",
       "      <th>debt</th>\n",
       "      <th>total_income</th>\n",
       "      <th>purpose</th>\n",
       "    </tr>\n",
       "  </thead>\n",
       "  <tbody>\n",
       "    <tr>\n",
       "      <td>2849</td>\n",
       "      <td>0</td>\n",
       "      <td>2095.293025</td>\n",
       "      <td>41</td>\n",
       "      <td>secondary education</td>\n",
       "      <td>1</td>\n",
       "      <td>married</td>\n",
       "      <td>0</td>\n",
       "      <td>F</td>\n",
       "      <td>employee</td>\n",
       "      <td>False</td>\n",
       "      <td>25820.841683</td>\n",
       "      <td>purchase of the house for my family</td>\n",
       "    </tr>\n",
       "    <tr>\n",
       "      <td>4182</td>\n",
       "      <td>1</td>\n",
       "      <td>2095.293025</td>\n",
       "      <td>34</td>\n",
       "      <td>BACHELOR'S DEGREE</td>\n",
       "      <td>0</td>\n",
       "      <td>civil partnership</td>\n",
       "      <td>1</td>\n",
       "      <td>F</td>\n",
       "      <td>employee</td>\n",
       "      <td>False</td>\n",
       "      <td>25820.841683</td>\n",
       "      <td>wedding ceremony</td>\n",
       "    </tr>\n",
       "    <tr>\n",
       "      <td>4851</td>\n",
       "      <td>0</td>\n",
       "      <td>3259.094970</td>\n",
       "      <td>60</td>\n",
       "      <td>secondary education</td>\n",
       "      <td>1</td>\n",
       "      <td>civil partnership</td>\n",
       "      <td>1</td>\n",
       "      <td>F</td>\n",
       "      <td>retiree</td>\n",
       "      <td>False</td>\n",
       "      <td>21940.394503</td>\n",
       "      <td>wedding ceremony</td>\n",
       "    </tr>\n",
       "    <tr>\n",
       "      <td>5557</td>\n",
       "      <td>0</td>\n",
       "      <td>3259.094970</td>\n",
       "      <td>58</td>\n",
       "      <td>secondary education</td>\n",
       "      <td>1</td>\n",
       "      <td>civil partnership</td>\n",
       "      <td>1</td>\n",
       "      <td>F</td>\n",
       "      <td>retiree</td>\n",
       "      <td>False</td>\n",
       "      <td>21940.394503</td>\n",
       "      <td>to have a wedding</td>\n",
       "    </tr>\n",
       "    <tr>\n",
       "      <td>7808</td>\n",
       "      <td>0</td>\n",
       "      <td>3259.094970</td>\n",
       "      <td>57</td>\n",
       "      <td>secondary education</td>\n",
       "      <td>1</td>\n",
       "      <td>civil partnership</td>\n",
       "      <td>1</td>\n",
       "      <td>F</td>\n",
       "      <td>retiree</td>\n",
       "      <td>False</td>\n",
       "      <td>21940.394503</td>\n",
       "      <td>having a wedding</td>\n",
       "    </tr>\n",
       "    <tr>\n",
       "      <td>8583</td>\n",
       "      <td>0</td>\n",
       "      <td>3259.094970</td>\n",
       "      <td>58</td>\n",
       "      <td>bachelor's degree</td>\n",
       "      <td>0</td>\n",
       "      <td>unmarried</td>\n",
       "      <td>4</td>\n",
       "      <td>F</td>\n",
       "      <td>retiree</td>\n",
       "      <td>False</td>\n",
       "      <td>21940.394503</td>\n",
       "      <td>supplementary education</td>\n",
       "    </tr>\n",
       "    <tr>\n",
       "      <td>9238</td>\n",
       "      <td>2</td>\n",
       "      <td>2095.293025</td>\n",
       "      <td>34</td>\n",
       "      <td>secondary education</td>\n",
       "      <td>1</td>\n",
       "      <td>married</td>\n",
       "      <td>0</td>\n",
       "      <td>F</td>\n",
       "      <td>employee</td>\n",
       "      <td>False</td>\n",
       "      <td>25820.841683</td>\n",
       "      <td>buying property for renting out</td>\n",
       "    </tr>\n",
       "    <tr>\n",
       "      <td>9528</td>\n",
       "      <td>0</td>\n",
       "      <td>3259.094970</td>\n",
       "      <td>66</td>\n",
       "      <td>secondary education</td>\n",
       "      <td>1</td>\n",
       "      <td>widow / widower</td>\n",
       "      <td>2</td>\n",
       "      <td>F</td>\n",
       "      <td>retiree</td>\n",
       "      <td>False</td>\n",
       "      <td>21940.394503</td>\n",
       "      <td>transactions with my real estate</td>\n",
       "    </tr>\n",
       "    <tr>\n",
       "      <td>9627</td>\n",
       "      <td>0</td>\n",
       "      <td>3259.094970</td>\n",
       "      <td>56</td>\n",
       "      <td>secondary education</td>\n",
       "      <td>1</td>\n",
       "      <td>married</td>\n",
       "      <td>0</td>\n",
       "      <td>F</td>\n",
       "      <td>retiree</td>\n",
       "      <td>False</td>\n",
       "      <td>21940.394503</td>\n",
       "      <td>transactions with my real estate</td>\n",
       "    </tr>\n",
       "    <tr>\n",
       "      <td>10462</td>\n",
       "      <td>0</td>\n",
       "      <td>3259.094970</td>\n",
       "      <td>62</td>\n",
       "      <td>secondary education</td>\n",
       "      <td>1</td>\n",
       "      <td>married</td>\n",
       "      <td>0</td>\n",
       "      <td>F</td>\n",
       "      <td>retiree</td>\n",
       "      <td>False</td>\n",
       "      <td>21940.394503</td>\n",
       "      <td>buy commercial real estate</td>\n",
       "    </tr>\n",
       "    <tr>\n",
       "      <td>10697</td>\n",
       "      <td>0</td>\n",
       "      <td>1900.579581</td>\n",
       "      <td>40</td>\n",
       "      <td>secondary education</td>\n",
       "      <td>1</td>\n",
       "      <td>civil partnership</td>\n",
       "      <td>1</td>\n",
       "      <td>F</td>\n",
       "      <td>business</td>\n",
       "      <td>False</td>\n",
       "      <td>32386.793835</td>\n",
       "      <td>to have a wedding</td>\n",
       "    </tr>\n",
       "    <tr>\n",
       "      <td>10864</td>\n",
       "      <td>0</td>\n",
       "      <td>3259.094970</td>\n",
       "      <td>62</td>\n",
       "      <td>secondary education</td>\n",
       "      <td>1</td>\n",
       "      <td>married</td>\n",
       "      <td>0</td>\n",
       "      <td>F</td>\n",
       "      <td>retiree</td>\n",
       "      <td>False</td>\n",
       "      <td>21940.394503</td>\n",
       "      <td>housing renovation</td>\n",
       "    </tr>\n",
       "    <tr>\n",
       "      <td>10994</td>\n",
       "      <td>0</td>\n",
       "      <td>3259.094970</td>\n",
       "      <td>62</td>\n",
       "      <td>secondary education</td>\n",
       "      <td>1</td>\n",
       "      <td>married</td>\n",
       "      <td>0</td>\n",
       "      <td>F</td>\n",
       "      <td>retiree</td>\n",
       "      <td>False</td>\n",
       "      <td>21940.394503</td>\n",
       "      <td>housing renovation</td>\n",
       "    </tr>\n",
       "    <tr>\n",
       "      <td>11791</td>\n",
       "      <td>0</td>\n",
       "      <td>2095.293025</td>\n",
       "      <td>47</td>\n",
       "      <td>secondary education</td>\n",
       "      <td>1</td>\n",
       "      <td>married</td>\n",
       "      <td>0</td>\n",
       "      <td>F</td>\n",
       "      <td>employee</td>\n",
       "      <td>False</td>\n",
       "      <td>25820.841683</td>\n",
       "      <td>building a property</td>\n",
       "    </tr>\n",
       "    <tr>\n",
       "      <td>12373</td>\n",
       "      <td>0</td>\n",
       "      <td>2095.293025</td>\n",
       "      <td>58</td>\n",
       "      <td>secondary education</td>\n",
       "      <td>1</td>\n",
       "      <td>married</td>\n",
       "      <td>0</td>\n",
       "      <td>M</td>\n",
       "      <td>employee</td>\n",
       "      <td>False</td>\n",
       "      <td>25820.841683</td>\n",
       "      <td>buy real estate</td>\n",
       "    </tr>\n",
       "    <tr>\n",
       "      <td>12375</td>\n",
       "      <td>1</td>\n",
       "      <td>2095.293025</td>\n",
       "      <td>37</td>\n",
       "      <td>secondary education</td>\n",
       "      <td>1</td>\n",
       "      <td>married</td>\n",
       "      <td>0</td>\n",
       "      <td>F</td>\n",
       "      <td>employee</td>\n",
       "      <td>False</td>\n",
       "      <td>25820.841683</td>\n",
       "      <td>buy real estate</td>\n",
       "    </tr>\n",
       "    <tr>\n",
       "      <td>12736</td>\n",
       "      <td>0</td>\n",
       "      <td>3259.094970</td>\n",
       "      <td>59</td>\n",
       "      <td>secondary education</td>\n",
       "      <td>1</td>\n",
       "      <td>married</td>\n",
       "      <td>0</td>\n",
       "      <td>F</td>\n",
       "      <td>retiree</td>\n",
       "      <td>False</td>\n",
       "      <td>21940.394503</td>\n",
       "      <td>to become educated</td>\n",
       "    </tr>\n",
       "    <tr>\n",
       "      <td>13025</td>\n",
       "      <td>1</td>\n",
       "      <td>2095.293025</td>\n",
       "      <td>44</td>\n",
       "      <td>secondary education</td>\n",
       "      <td>1</td>\n",
       "      <td>married</td>\n",
       "      <td>0</td>\n",
       "      <td>F</td>\n",
       "      <td>employee</td>\n",
       "      <td>False</td>\n",
       "      <td>25820.841683</td>\n",
       "      <td>second-hand car purchase</td>\n",
       "    </tr>\n",
       "    <tr>\n",
       "      <td>13639</td>\n",
       "      <td>0</td>\n",
       "      <td>3259.094970</td>\n",
       "      <td>64</td>\n",
       "      <td>secondary education</td>\n",
       "      <td>1</td>\n",
       "      <td>married</td>\n",
       "      <td>0</td>\n",
       "      <td>F</td>\n",
       "      <td>retiree</td>\n",
       "      <td>False</td>\n",
       "      <td>21940.394503</td>\n",
       "      <td>car</td>\n",
       "    </tr>\n",
       "    <tr>\n",
       "      <td>13773</td>\n",
       "      <td>0</td>\n",
       "      <td>2095.293025</td>\n",
       "      <td>35</td>\n",
       "      <td>secondary education</td>\n",
       "      <td>1</td>\n",
       "      <td>civil partnership</td>\n",
       "      <td>1</td>\n",
       "      <td>F</td>\n",
       "      <td>employee</td>\n",
       "      <td>False</td>\n",
       "      <td>25820.841683</td>\n",
       "      <td>to have a wedding</td>\n",
       "    </tr>\n",
       "    <tr>\n",
       "      <td>13878</td>\n",
       "      <td>1</td>\n",
       "      <td>1900.579581</td>\n",
       "      <td>31</td>\n",
       "      <td>secondary education</td>\n",
       "      <td>1</td>\n",
       "      <td>married</td>\n",
       "      <td>0</td>\n",
       "      <td>F</td>\n",
       "      <td>business</td>\n",
       "      <td>False</td>\n",
       "      <td>32386.793835</td>\n",
       "      <td>purchase of the house</td>\n",
       "    </tr>\n",
       "    <tr>\n",
       "      <td>13942</td>\n",
       "      <td>0</td>\n",
       "      <td>2095.293025</td>\n",
       "      <td>44</td>\n",
       "      <td>secondary education</td>\n",
       "      <td>1</td>\n",
       "      <td>married</td>\n",
       "      <td>0</td>\n",
       "      <td>F</td>\n",
       "      <td>employee</td>\n",
       "      <td>False</td>\n",
       "      <td>25820.841683</td>\n",
       "      <td>car purchase</td>\n",
       "    </tr>\n",
       "    <tr>\n",
       "      <td>14432</td>\n",
       "      <td>2</td>\n",
       "      <td>3057.343890</td>\n",
       "      <td>36</td>\n",
       "      <td>bachelor's degree</td>\n",
       "      <td>0</td>\n",
       "      <td>married</td>\n",
       "      <td>0</td>\n",
       "      <td>F</td>\n",
       "      <td>civil servant</td>\n",
       "      <td>False</td>\n",
       "      <td>27343.729582</td>\n",
       "      <td>getting an education</td>\n",
       "    </tr>\n",
       "    <tr>\n",
       "      <td>14832</td>\n",
       "      <td>0</td>\n",
       "      <td>2095.293025</td>\n",
       "      <td>50</td>\n",
       "      <td>secondary education</td>\n",
       "      <td>1</td>\n",
       "      <td>unmarried</td>\n",
       "      <td>4</td>\n",
       "      <td>F</td>\n",
       "      <td>employee</td>\n",
       "      <td>False</td>\n",
       "      <td>25820.841683</td>\n",
       "      <td>property</td>\n",
       "    </tr>\n",
       "    <tr>\n",
       "      <td>15091</td>\n",
       "      <td>0</td>\n",
       "      <td>2095.293025</td>\n",
       "      <td>58</td>\n",
       "      <td>secondary education</td>\n",
       "      <td>1</td>\n",
       "      <td>civil partnership</td>\n",
       "      <td>1</td>\n",
       "      <td>M</td>\n",
       "      <td>employee</td>\n",
       "      <td>False</td>\n",
       "      <td>25820.841683</td>\n",
       "      <td>having a wedding</td>\n",
       "    </tr>\n",
       "    <tr>\n",
       "      <td>15188</td>\n",
       "      <td>0</td>\n",
       "      <td>2095.293025</td>\n",
       "      <td>60</td>\n",
       "      <td>secondary education</td>\n",
       "      <td>1</td>\n",
       "      <td>married</td>\n",
       "      <td>0</td>\n",
       "      <td>M</td>\n",
       "      <td>employee</td>\n",
       "      <td>False</td>\n",
       "      <td>25820.841683</td>\n",
       "      <td>buy real estate</td>\n",
       "    </tr>\n",
       "    <tr>\n",
       "      <td>15273</td>\n",
       "      <td>0</td>\n",
       "      <td>3259.094970</td>\n",
       "      <td>57</td>\n",
       "      <td>secondary education</td>\n",
       "      <td>1</td>\n",
       "      <td>civil partnership</td>\n",
       "      <td>1</td>\n",
       "      <td>F</td>\n",
       "      <td>retiree</td>\n",
       "      <td>False</td>\n",
       "      <td>21940.394503</td>\n",
       "      <td>wedding ceremony</td>\n",
       "    </tr>\n",
       "    <tr>\n",
       "      <td>16176</td>\n",
       "      <td>0</td>\n",
       "      <td>2095.293025</td>\n",
       "      <td>47</td>\n",
       "      <td>secondary education</td>\n",
       "      <td>1</td>\n",
       "      <td>married</td>\n",
       "      <td>0</td>\n",
       "      <td>F</td>\n",
       "      <td>employee</td>\n",
       "      <td>False</td>\n",
       "      <td>25820.841683</td>\n",
       "      <td>housing renovation</td>\n",
       "    </tr>\n",
       "    <tr>\n",
       "      <td>16378</td>\n",
       "      <td>0</td>\n",
       "      <td>2095.293025</td>\n",
       "      <td>46</td>\n",
       "      <td>secondary education</td>\n",
       "      <td>1</td>\n",
       "      <td>married</td>\n",
       "      <td>0</td>\n",
       "      <td>F</td>\n",
       "      <td>employee</td>\n",
       "      <td>False</td>\n",
       "      <td>25820.841683</td>\n",
       "      <td>university education</td>\n",
       "    </tr>\n",
       "    <tr>\n",
       "      <td>16902</td>\n",
       "      <td>2</td>\n",
       "      <td>2095.293025</td>\n",
       "      <td>39</td>\n",
       "      <td>secondary education</td>\n",
       "      <td>1</td>\n",
       "      <td>civil partnership</td>\n",
       "      <td>1</td>\n",
       "      <td>F</td>\n",
       "      <td>employee</td>\n",
       "      <td>False</td>\n",
       "      <td>25820.841683</td>\n",
       "      <td>to have a wedding</td>\n",
       "    </tr>\n",
       "    <tr>\n",
       "      <td>16904</td>\n",
       "      <td>1</td>\n",
       "      <td>2095.293025</td>\n",
       "      <td>32</td>\n",
       "      <td>bachelor's degree</td>\n",
       "      <td>0</td>\n",
       "      <td>married</td>\n",
       "      <td>0</td>\n",
       "      <td>F</td>\n",
       "      <td>employee</td>\n",
       "      <td>False</td>\n",
       "      <td>25820.841683</td>\n",
       "      <td>buying a second-hand car</td>\n",
       "    </tr>\n",
       "    <tr>\n",
       "      <td>17379</td>\n",
       "      <td>0</td>\n",
       "      <td>1900.579581</td>\n",
       "      <td>54</td>\n",
       "      <td>bachelor's degree</td>\n",
       "      <td>0</td>\n",
       "      <td>married</td>\n",
       "      <td>0</td>\n",
       "      <td>M</td>\n",
       "      <td>business</td>\n",
       "      <td>False</td>\n",
       "      <td>32386.793835</td>\n",
       "      <td>transactions with commercial real estate</td>\n",
       "    </tr>\n",
       "    <tr>\n",
       "      <td>17755</td>\n",
       "      <td>1</td>\n",
       "      <td>2095.293025</td>\n",
       "      <td>43</td>\n",
       "      <td>secondary education</td>\n",
       "      <td>1</td>\n",
       "      <td>married</td>\n",
       "      <td>0</td>\n",
       "      <td>M</td>\n",
       "      <td>employee</td>\n",
       "      <td>False</td>\n",
       "      <td>25820.841683</td>\n",
       "      <td>to become educated</td>\n",
       "    </tr>\n",
       "    <tr>\n",
       "      <td>17774</td>\n",
       "      <td>1</td>\n",
       "      <td>1900.579581</td>\n",
       "      <td>40</td>\n",
       "      <td>secondary education</td>\n",
       "      <td>1</td>\n",
       "      <td>civil partnership</td>\n",
       "      <td>1</td>\n",
       "      <td>F</td>\n",
       "      <td>business</td>\n",
       "      <td>False</td>\n",
       "      <td>32386.793835</td>\n",
       "      <td>building a real estate</td>\n",
       "    </tr>\n",
       "    <tr>\n",
       "      <td>18328</td>\n",
       "      <td>0</td>\n",
       "      <td>2095.293025</td>\n",
       "      <td>29</td>\n",
       "      <td>bachelor's degree</td>\n",
       "      <td>0</td>\n",
       "      <td>married</td>\n",
       "      <td>0</td>\n",
       "      <td>M</td>\n",
       "      <td>employee</td>\n",
       "      <td>False</td>\n",
       "      <td>25820.841683</td>\n",
       "      <td>buy residential real estate</td>\n",
       "    </tr>\n",
       "    <tr>\n",
       "      <td>18349</td>\n",
       "      <td>1</td>\n",
       "      <td>3057.343890</td>\n",
       "      <td>30</td>\n",
       "      <td>bachelor's degree</td>\n",
       "      <td>0</td>\n",
       "      <td>married</td>\n",
       "      <td>0</td>\n",
       "      <td>F</td>\n",
       "      <td>civil servant</td>\n",
       "      <td>False</td>\n",
       "      <td>27343.729582</td>\n",
       "      <td>purchase of the house for my family</td>\n",
       "    </tr>\n",
       "    <tr>\n",
       "      <td>18428</td>\n",
       "      <td>0</td>\n",
       "      <td>3259.094970</td>\n",
       "      <td>64</td>\n",
       "      <td>secondary education</td>\n",
       "      <td>1</td>\n",
       "      <td>married</td>\n",
       "      <td>0</td>\n",
       "      <td>F</td>\n",
       "      <td>retiree</td>\n",
       "      <td>False</td>\n",
       "      <td>21940.394503</td>\n",
       "      <td>housing</td>\n",
       "    </tr>\n",
       "    <tr>\n",
       "      <td>18521</td>\n",
       "      <td>0</td>\n",
       "      <td>2095.293025</td>\n",
       "      <td>56</td>\n",
       "      <td>secondary education</td>\n",
       "      <td>1</td>\n",
       "      <td>civil partnership</td>\n",
       "      <td>1</td>\n",
       "      <td>F</td>\n",
       "      <td>employee</td>\n",
       "      <td>False</td>\n",
       "      <td>25820.841683</td>\n",
       "      <td>to have a wedding</td>\n",
       "    </tr>\n",
       "    <tr>\n",
       "      <td>18563</td>\n",
       "      <td>0</td>\n",
       "      <td>2095.293025</td>\n",
       "      <td>54</td>\n",
       "      <td>secondary education</td>\n",
       "      <td>1</td>\n",
       "      <td>married</td>\n",
       "      <td>0</td>\n",
       "      <td>F</td>\n",
       "      <td>employee</td>\n",
       "      <td>False</td>\n",
       "      <td>25820.841683</td>\n",
       "      <td>transactions with my real estate</td>\n",
       "    </tr>\n",
       "    <tr>\n",
       "      <td>18755</td>\n",
       "      <td>0</td>\n",
       "      <td>3259.094970</td>\n",
       "      <td>58</td>\n",
       "      <td>secondary education</td>\n",
       "      <td>1</td>\n",
       "      <td>married</td>\n",
       "      <td>0</td>\n",
       "      <td>F</td>\n",
       "      <td>retiree</td>\n",
       "      <td>False</td>\n",
       "      <td>21940.394503</td>\n",
       "      <td>to become educated</td>\n",
       "    </tr>\n",
       "    <tr>\n",
       "      <td>19041</td>\n",
       "      <td>0</td>\n",
       "      <td>2095.293025</td>\n",
       "      <td>56</td>\n",
       "      <td>secondary education</td>\n",
       "      <td>1</td>\n",
       "      <td>civil partnership</td>\n",
       "      <td>1</td>\n",
       "      <td>F</td>\n",
       "      <td>employee</td>\n",
       "      <td>False</td>\n",
       "      <td>25820.841683</td>\n",
       "      <td>having a wedding</td>\n",
       "    </tr>\n",
       "    <tr>\n",
       "      <td>19184</td>\n",
       "      <td>0</td>\n",
       "      <td>2095.293025</td>\n",
       "      <td>46</td>\n",
       "      <td>secondary education</td>\n",
       "      <td>1</td>\n",
       "      <td>married</td>\n",
       "      <td>0</td>\n",
       "      <td>F</td>\n",
       "      <td>employee</td>\n",
       "      <td>False</td>\n",
       "      <td>25820.841683</td>\n",
       "      <td>to own a car</td>\n",
       "    </tr>\n",
       "    <tr>\n",
       "      <td>19321</td>\n",
       "      <td>0</td>\n",
       "      <td>2095.293025</td>\n",
       "      <td>23</td>\n",
       "      <td>secondary education</td>\n",
       "      <td>1</td>\n",
       "      <td>unmarried</td>\n",
       "      <td>4</td>\n",
       "      <td>F</td>\n",
       "      <td>employee</td>\n",
       "      <td>False</td>\n",
       "      <td>25820.841683</td>\n",
       "      <td>second-hand car purchase</td>\n",
       "    </tr>\n",
       "    <tr>\n",
       "      <td>19387</td>\n",
       "      <td>0</td>\n",
       "      <td>1900.579581</td>\n",
       "      <td>38</td>\n",
       "      <td>bachelor's degree</td>\n",
       "      <td>0</td>\n",
       "      <td>civil partnership</td>\n",
       "      <td>1</td>\n",
       "      <td>F</td>\n",
       "      <td>business</td>\n",
       "      <td>False</td>\n",
       "      <td>32386.793835</td>\n",
       "      <td>having a wedding</td>\n",
       "    </tr>\n",
       "    <tr>\n",
       "      <td>19688</td>\n",
       "      <td>0</td>\n",
       "      <td>3259.094970</td>\n",
       "      <td>61</td>\n",
       "      <td>secondary education</td>\n",
       "      <td>1</td>\n",
       "      <td>married</td>\n",
       "      <td>0</td>\n",
       "      <td>F</td>\n",
       "      <td>retiree</td>\n",
       "      <td>False</td>\n",
       "      <td>21940.394503</td>\n",
       "      <td>real estate transactions</td>\n",
       "    </tr>\n",
       "    <tr>\n",
       "      <td>19832</td>\n",
       "      <td>0</td>\n",
       "      <td>2095.293025</td>\n",
       "      <td>48</td>\n",
       "      <td>secondary education</td>\n",
       "      <td>1</td>\n",
       "      <td>married</td>\n",
       "      <td>0</td>\n",
       "      <td>F</td>\n",
       "      <td>employee</td>\n",
       "      <td>False</td>\n",
       "      <td>25820.841683</td>\n",
       "      <td>housing renovation</td>\n",
       "    </tr>\n",
       "    <tr>\n",
       "      <td>19946</td>\n",
       "      <td>0</td>\n",
       "      <td>2095.293025</td>\n",
       "      <td>57</td>\n",
       "      <td>secondary education</td>\n",
       "      <td>1</td>\n",
       "      <td>married</td>\n",
       "      <td>0</td>\n",
       "      <td>F</td>\n",
       "      <td>employee</td>\n",
       "      <td>False</td>\n",
       "      <td>25820.841683</td>\n",
       "      <td>second-hand car purchase</td>\n",
       "    </tr>\n",
       "    <tr>\n",
       "      <td>20116</td>\n",
       "      <td>0</td>\n",
       "      <td>3259.094970</td>\n",
       "      <td>57</td>\n",
       "      <td>secondary education</td>\n",
       "      <td>1</td>\n",
       "      <td>civil partnership</td>\n",
       "      <td>1</td>\n",
       "      <td>M</td>\n",
       "      <td>retiree</td>\n",
       "      <td>False</td>\n",
       "      <td>21940.394503</td>\n",
       "      <td>wedding ceremony</td>\n",
       "    </tr>\n",
       "    <tr>\n",
       "      <td>20165</td>\n",
       "      <td>0</td>\n",
       "      <td>2095.293025</td>\n",
       "      <td>42</td>\n",
       "      <td>secondary education</td>\n",
       "      <td>1</td>\n",
       "      <td>married</td>\n",
       "      <td>0</td>\n",
       "      <td>F</td>\n",
       "      <td>employee</td>\n",
       "      <td>False</td>\n",
       "      <td>25820.841683</td>\n",
       "      <td>purchase of the house for my family</td>\n",
       "    </tr>\n",
       "    <tr>\n",
       "      <td>20702</td>\n",
       "      <td>0</td>\n",
       "      <td>3259.094970</td>\n",
       "      <td>64</td>\n",
       "      <td>secondary education</td>\n",
       "      <td>1</td>\n",
       "      <td>married</td>\n",
       "      <td>0</td>\n",
       "      <td>F</td>\n",
       "      <td>retiree</td>\n",
       "      <td>False</td>\n",
       "      <td>21940.394503</td>\n",
       "      <td>supplementary education</td>\n",
       "    </tr>\n",
       "    <tr>\n",
       "      <td>21032</td>\n",
       "      <td>0</td>\n",
       "      <td>3259.094970</td>\n",
       "      <td>60</td>\n",
       "      <td>secondary education</td>\n",
       "      <td>1</td>\n",
       "      <td>married</td>\n",
       "      <td>0</td>\n",
       "      <td>F</td>\n",
       "      <td>retiree</td>\n",
       "      <td>False</td>\n",
       "      <td>21940.394503</td>\n",
       "      <td>to become educated</td>\n",
       "    </tr>\n",
       "    <tr>\n",
       "      <td>21132</td>\n",
       "      <td>0</td>\n",
       "      <td>2095.293025</td>\n",
       "      <td>47</td>\n",
       "      <td>secondary education</td>\n",
       "      <td>1</td>\n",
       "      <td>married</td>\n",
       "      <td>0</td>\n",
       "      <td>F</td>\n",
       "      <td>employee</td>\n",
       "      <td>False</td>\n",
       "      <td>25820.841683</td>\n",
       "      <td>housing renovation</td>\n",
       "    </tr>\n",
       "    <tr>\n",
       "      <td>21281</td>\n",
       "      <td>1</td>\n",
       "      <td>2095.293025</td>\n",
       "      <td>30</td>\n",
       "      <td>bachelor's degree</td>\n",
       "      <td>0</td>\n",
       "      <td>married</td>\n",
       "      <td>0</td>\n",
       "      <td>F</td>\n",
       "      <td>employee</td>\n",
       "      <td>False</td>\n",
       "      <td>25820.841683</td>\n",
       "      <td>buy commercial real estate</td>\n",
       "    </tr>\n",
       "    <tr>\n",
       "      <td>21415</td>\n",
       "      <td>0</td>\n",
       "      <td>3259.094970</td>\n",
       "      <td>54</td>\n",
       "      <td>secondary education</td>\n",
       "      <td>1</td>\n",
       "      <td>married</td>\n",
       "      <td>0</td>\n",
       "      <td>F</td>\n",
       "      <td>retiree</td>\n",
       "      <td>False</td>\n",
       "      <td>21940.394503</td>\n",
       "      <td>housing transactions</td>\n",
       "    </tr>\n",
       "  </tbody>\n",
       "</table>\n",
       "</div>"
      ],
      "text/plain": [
       "       children  days_employed  dob_years            education  education_id  \\\n",
       "2849          0    2095.293025         41  secondary education             1   \n",
       "4182          1    2095.293025         34    BACHELOR'S DEGREE             0   \n",
       "4851          0    3259.094970         60  secondary education             1   \n",
       "5557          0    3259.094970         58  secondary education             1   \n",
       "7808          0    3259.094970         57  secondary education             1   \n",
       "8583          0    3259.094970         58    bachelor's degree             0   \n",
       "9238          2    2095.293025         34  secondary education             1   \n",
       "9528          0    3259.094970         66  secondary education             1   \n",
       "9627          0    3259.094970         56  secondary education             1   \n",
       "10462         0    3259.094970         62  secondary education             1   \n",
       "10697         0    1900.579581         40  secondary education             1   \n",
       "10864         0    3259.094970         62  secondary education             1   \n",
       "10994         0    3259.094970         62  secondary education             1   \n",
       "11791         0    2095.293025         47  secondary education             1   \n",
       "12373         0    2095.293025         58  secondary education             1   \n",
       "12375         1    2095.293025         37  secondary education             1   \n",
       "12736         0    3259.094970         59  secondary education             1   \n",
       "13025         1    2095.293025         44  secondary education             1   \n",
       "13639         0    3259.094970         64  secondary education             1   \n",
       "13773         0    2095.293025         35  secondary education             1   \n",
       "13878         1    1900.579581         31  secondary education             1   \n",
       "13942         0    2095.293025         44  secondary education             1   \n",
       "14432         2    3057.343890         36    bachelor's degree             0   \n",
       "14832         0    2095.293025         50  secondary education             1   \n",
       "15091         0    2095.293025         58  secondary education             1   \n",
       "15188         0    2095.293025         60  secondary education             1   \n",
       "15273         0    3259.094970         57  secondary education             1   \n",
       "16176         0    2095.293025         47  secondary education             1   \n",
       "16378         0    2095.293025         46  secondary education             1   \n",
       "16902         2    2095.293025         39  secondary education             1   \n",
       "16904         1    2095.293025         32    bachelor's degree             0   \n",
       "17379         0    1900.579581         54    bachelor's degree             0   \n",
       "17755         1    2095.293025         43  secondary education             1   \n",
       "17774         1    1900.579581         40  secondary education             1   \n",
       "18328         0    2095.293025         29    bachelor's degree             0   \n",
       "18349         1    3057.343890         30    bachelor's degree             0   \n",
       "18428         0    3259.094970         64  secondary education             1   \n",
       "18521         0    2095.293025         56  secondary education             1   \n",
       "18563         0    2095.293025         54  secondary education             1   \n",
       "18755         0    3259.094970         58  secondary education             1   \n",
       "19041         0    2095.293025         56  secondary education             1   \n",
       "19184         0    2095.293025         46  secondary education             1   \n",
       "19321         0    2095.293025         23  secondary education             1   \n",
       "19387         0    1900.579581         38    bachelor's degree             0   \n",
       "19688         0    3259.094970         61  secondary education             1   \n",
       "19832         0    2095.293025         48  secondary education             1   \n",
       "19946         0    2095.293025         57  secondary education             1   \n",
       "20116         0    3259.094970         57  secondary education             1   \n",
       "20165         0    2095.293025         42  secondary education             1   \n",
       "20702         0    3259.094970         64  secondary education             1   \n",
       "21032         0    3259.094970         60  secondary education             1   \n",
       "21132         0    2095.293025         47  secondary education             1   \n",
       "21281         1    2095.293025         30    bachelor's degree             0   \n",
       "21415         0    3259.094970         54  secondary education             1   \n",
       "\n",
       "           family_status  family_status_id gender    income_type   debt  \\\n",
       "2849             married                 0      F       employee  False   \n",
       "4182   civil partnership                 1      F       employee  False   \n",
       "4851   civil partnership                 1      F        retiree  False   \n",
       "5557   civil partnership                 1      F        retiree  False   \n",
       "7808   civil partnership                 1      F        retiree  False   \n",
       "8583           unmarried                 4      F        retiree  False   \n",
       "9238             married                 0      F       employee  False   \n",
       "9528     widow / widower                 2      F        retiree  False   \n",
       "9627             married                 0      F        retiree  False   \n",
       "10462            married                 0      F        retiree  False   \n",
       "10697  civil partnership                 1      F       business  False   \n",
       "10864            married                 0      F        retiree  False   \n",
       "10994            married                 0      F        retiree  False   \n",
       "11791            married                 0      F       employee  False   \n",
       "12373            married                 0      M       employee  False   \n",
       "12375            married                 0      F       employee  False   \n",
       "12736            married                 0      F        retiree  False   \n",
       "13025            married                 0      F       employee  False   \n",
       "13639            married                 0      F        retiree  False   \n",
       "13773  civil partnership                 1      F       employee  False   \n",
       "13878            married                 0      F       business  False   \n",
       "13942            married                 0      F       employee  False   \n",
       "14432            married                 0      F  civil servant  False   \n",
       "14832          unmarried                 4      F       employee  False   \n",
       "15091  civil partnership                 1      M       employee  False   \n",
       "15188            married                 0      M       employee  False   \n",
       "15273  civil partnership                 1      F        retiree  False   \n",
       "16176            married                 0      F       employee  False   \n",
       "16378            married                 0      F       employee  False   \n",
       "16902  civil partnership                 1      F       employee  False   \n",
       "16904            married                 0      F       employee  False   \n",
       "17379            married                 0      M       business  False   \n",
       "17755            married                 0      M       employee  False   \n",
       "17774  civil partnership                 1      F       business  False   \n",
       "18328            married                 0      M       employee  False   \n",
       "18349            married                 0      F  civil servant  False   \n",
       "18428            married                 0      F        retiree  False   \n",
       "18521  civil partnership                 1      F       employee  False   \n",
       "18563            married                 0      F       employee  False   \n",
       "18755            married                 0      F        retiree  False   \n",
       "19041  civil partnership                 1      F       employee  False   \n",
       "19184            married                 0      F       employee  False   \n",
       "19321          unmarried                 4      F       employee  False   \n",
       "19387  civil partnership                 1      F       business  False   \n",
       "19688            married                 0      F        retiree  False   \n",
       "19832            married                 0      F       employee  False   \n",
       "19946            married                 0      F       employee  False   \n",
       "20116  civil partnership                 1      M        retiree  False   \n",
       "20165            married                 0      F       employee  False   \n",
       "20702            married                 0      F        retiree  False   \n",
       "21032            married                 0      F        retiree  False   \n",
       "21132            married                 0      F       employee  False   \n",
       "21281            married                 0      F       employee  False   \n",
       "21415            married                 0      F        retiree  False   \n",
       "\n",
       "       total_income                                   purpose  \n",
       "2849   25820.841683       purchase of the house for my family  \n",
       "4182   25820.841683                          wedding ceremony  \n",
       "4851   21940.394503                          wedding ceremony  \n",
       "5557   21940.394503                         to have a wedding  \n",
       "7808   21940.394503                          having a wedding  \n",
       "8583   21940.394503                   supplementary education  \n",
       "9238   25820.841683           buying property for renting out  \n",
       "9528   21940.394503          transactions with my real estate  \n",
       "9627   21940.394503          transactions with my real estate  \n",
       "10462  21940.394503                buy commercial real estate  \n",
       "10697  32386.793835                         to have a wedding  \n",
       "10864  21940.394503                        housing renovation  \n",
       "10994  21940.394503                        housing renovation  \n",
       "11791  25820.841683                       building a property  \n",
       "12373  25820.841683                           buy real estate  \n",
       "12375  25820.841683                           buy real estate  \n",
       "12736  21940.394503                        to become educated  \n",
       "13025  25820.841683                  second-hand car purchase  \n",
       "13639  21940.394503                                       car  \n",
       "13773  25820.841683                         to have a wedding  \n",
       "13878  32386.793835                     purchase of the house  \n",
       "13942  25820.841683                              car purchase  \n",
       "14432  27343.729582                      getting an education  \n",
       "14832  25820.841683                                  property  \n",
       "15091  25820.841683                          having a wedding  \n",
       "15188  25820.841683                           buy real estate  \n",
       "15273  21940.394503                          wedding ceremony  \n",
       "16176  25820.841683                        housing renovation  \n",
       "16378  25820.841683                      university education  \n",
       "16902  25820.841683                         to have a wedding  \n",
       "16904  25820.841683                  buying a second-hand car  \n",
       "17379  32386.793835  transactions with commercial real estate  \n",
       "17755  25820.841683                        to become educated  \n",
       "17774  32386.793835                    building a real estate  \n",
       "18328  25820.841683               buy residential real estate  \n",
       "18349  27343.729582       purchase of the house for my family  \n",
       "18428  21940.394503                                   housing  \n",
       "18521  25820.841683                         to have a wedding  \n",
       "18563  25820.841683          transactions with my real estate  \n",
       "18755  21940.394503                        to become educated  \n",
       "19041  25820.841683                          having a wedding  \n",
       "19184  25820.841683                              to own a car  \n",
       "19321  25820.841683                  second-hand car purchase  \n",
       "19387  32386.793835                          having a wedding  \n",
       "19688  21940.394503                  real estate transactions  \n",
       "19832  25820.841683                        housing renovation  \n",
       "19946  25820.841683                  second-hand car purchase  \n",
       "20116  21940.394503                          wedding ceremony  \n",
       "20165  25820.841683       purchase of the house for my family  \n",
       "20702  21940.394503                   supplementary education  \n",
       "21032  21940.394503                        to become educated  \n",
       "21132  25820.841683                        housing renovation  \n",
       "21281  25820.841683                buy commercial real estate  \n",
       "21415  21940.394503                      housing transactions  "
      ]
     },
     "execution_count": 21,
     "metadata": {},
     "output_type": "execute_result"
    }
   ],
   "source": [
    "#Go through the duplicates and find conclusions \n",
    "data[data.duplicated()]"
   ]
  },
  {
   "cell_type": "code",
   "execution_count": 22,
   "metadata": {},
   "outputs": [
    {
     "data": {
      "text/plain": [
       "gender\n",
       "F    47\n",
       "M     7\n",
       "Name: gender, dtype: int64"
      ]
     },
     "execution_count": 22,
     "metadata": {},
     "output_type": "execute_result"
    }
   ],
   "source": [
    "#Check how many duplicated for each gender\n",
    "data[data.duplicated()].groupby('gender')['gender'].count()"
   ]
  },
  {
   "cell_type": "code",
   "execution_count": 23,
   "metadata": {},
   "outputs": [
    {
     "data": {
      "text/plain": [
       "gender\n",
       "F      14236\n",
       "M       7288\n",
       "XNA        1\n",
       "Name: gender, dtype: int64"
      ]
     },
     "execution_count": 23,
     "metadata": {},
     "output_type": "execute_result"
    }
   ],
   "source": [
    "#Check total population for each gender\n",
    "data.groupby('gender')['gender'].count()"
   ]
  },
  {
   "cell_type": "code",
   "execution_count": 24,
   "metadata": {
    "scrolled": true
   },
   "outputs": [
    {
     "data": {
      "text/plain": [
       "0"
      ]
     },
     "execution_count": 24,
     "metadata": {},
     "output_type": "execute_result"
    }
   ],
   "source": [
    "#Drop duplicates\n",
    "data.drop_duplicates(inplace=True)\n",
    "#Varify there are no duplicates \n",
    "data.duplicated().sum()"
   ]
  },
  {
   "cell_type": "markdown",
   "metadata": {},
   "source": [
    "### Conclusion"
   ]
  },
  {
   "cell_type": "markdown",
   "metadata": {},
   "source": [
    "1. There are more duplicated rows for female then men.\n",
    "     female = 47\n",
    "     men = 7\n",
    "2. The ratio of duplecates(54) to the total population is negligible \n",
    "   And also the ratio of duplicates by gender to the total population  is negligible\n",
    "3. The 'days_employed' and 'debt' values of the duplicates is 0\n",
    "4. Looks like the duplicates are a typo\n",
    "5.  Conclusion - we can delete the duplicates rows"
   ]
  },
  {
   "cell_type": "markdown",
   "metadata": {},
   "source": [
    "### Categorizing Data"
   ]
  },
  {
   "cell_type": "code",
   "execution_count": 25,
   "metadata": {},
   "outputs": [],
   "source": [
    "import nltk\n",
    "from nltk.stem import WordNetLemmatizer\n",
    "#Working with lemmatzation\n",
    "wordnet_lemma = WordNetLemmatizer() "
   ]
  },
  {
   "cell_type": "code",
   "execution_count": 26,
   "metadata": {},
   "outputs": [
    {
     "data": {
      "text/plain": [
       "wedding ceremony                            793\n",
       "having a wedding                            773\n",
       "to have a wedding                           769\n",
       "real estate transactions                    675\n",
       "buy commercial real estate                  662\n",
       "housing transactions                        652\n",
       "buying property for renting out             652\n",
       "transactions with commercial real estate    650\n",
       "purchase of the house                       646\n",
       "housing                                     646\n",
       "purchase of the house for my family         638\n",
       "construction of own property                635\n",
       "property                                    633\n",
       "transactions with my real estate            627\n",
       "building a real estate                      625\n",
       "buy real estate                             621\n",
       "purchase of my own house                    620\n",
       "building a property                         619\n",
       "housing renovation                          607\n",
       "buy residential real estate                 606\n",
       "buying my own car                           505\n",
       "going to university                         496\n",
       "car                                         494\n",
       "second-hand car purchase                    486\n",
       "to own a car                                479\n",
       "buying a second-hand car                    478\n",
       "cars                                        478\n",
       "to buy a car                                472\n",
       "car purchase                                461\n",
       "supplementary education                     460\n",
       "purchase of a car                           455\n",
       "university education                        452\n",
       "education                                   447\n",
       "to get a supplementary education            447\n",
       "getting an education                        442\n",
       "profile education                           436\n",
       "getting higher education                    426\n",
       "to become educated                          408\n",
       "Name: purpose, dtype: int64"
      ]
     },
     "execution_count": 26,
     "metadata": {},
     "output_type": "execute_result"
    }
   ],
   "source": [
    "#Diagnosis the values of 'purpose' column\n",
    "data['purpose'].value_counts()"
   ]
  },
  {
   "cell_type": "code",
   "execution_count": 27,
   "metadata": {},
   "outputs": [
    {
     "data": {
      "text/html": [
       "<div>\n",
       "<style scoped>\n",
       "    .dataframe tbody tr th:only-of-type {\n",
       "        vertical-align: middle;\n",
       "    }\n",
       "\n",
       "    .dataframe tbody tr th {\n",
       "        vertical-align: top;\n",
       "    }\n",
       "\n",
       "    .dataframe thead th {\n",
       "        text-align: right;\n",
       "    }\n",
       "</style>\n",
       "<table border=\"1\" class=\"dataframe\">\n",
       "  <thead>\n",
       "    <tr style=\"text-align: right;\">\n",
       "      <th></th>\n",
       "      <th>children</th>\n",
       "      <th>days_employed</th>\n",
       "      <th>dob_years</th>\n",
       "      <th>education</th>\n",
       "      <th>education_id</th>\n",
       "      <th>family_status</th>\n",
       "      <th>family_status_id</th>\n",
       "      <th>gender</th>\n",
       "      <th>income_type</th>\n",
       "      <th>debt</th>\n",
       "      <th>total_income</th>\n",
       "      <th>purpose</th>\n",
       "      <th>purpose_category</th>\n",
       "    </tr>\n",
       "  </thead>\n",
       "  <tbody>\n",
       "    <tr>\n",
       "      <td>0</td>\n",
       "      <td>1</td>\n",
       "      <td>8437.673028</td>\n",
       "      <td>42</td>\n",
       "      <td>bachelor's degree</td>\n",
       "      <td>0</td>\n",
       "      <td>married</td>\n",
       "      <td>0</td>\n",
       "      <td>F</td>\n",
       "      <td>employee</td>\n",
       "      <td>False</td>\n",
       "      <td>40620.102</td>\n",
       "      <td>purchase of the house</td>\n",
       "      <td>real estate</td>\n",
       "    </tr>\n",
       "    <tr>\n",
       "      <td>1</td>\n",
       "      <td>1</td>\n",
       "      <td>4024.803754</td>\n",
       "      <td>36</td>\n",
       "      <td>secondary education</td>\n",
       "      <td>1</td>\n",
       "      <td>married</td>\n",
       "      <td>0</td>\n",
       "      <td>F</td>\n",
       "      <td>employee</td>\n",
       "      <td>False</td>\n",
       "      <td>17932.802</td>\n",
       "      <td>car purchase</td>\n",
       "      <td>car</td>\n",
       "    </tr>\n",
       "    <tr>\n",
       "      <td>2</td>\n",
       "      <td>0</td>\n",
       "      <td>5623.422610</td>\n",
       "      <td>33</td>\n",
       "      <td>Secondary Education</td>\n",
       "      <td>1</td>\n",
       "      <td>married</td>\n",
       "      <td>0</td>\n",
       "      <td>M</td>\n",
       "      <td>employee</td>\n",
       "      <td>False</td>\n",
       "      <td>23341.752</td>\n",
       "      <td>purchase of the house</td>\n",
       "      <td>real estate</td>\n",
       "    </tr>\n",
       "    <tr>\n",
       "      <td>3</td>\n",
       "      <td>3</td>\n",
       "      <td>4124.747207</td>\n",
       "      <td>32</td>\n",
       "      <td>secondary education</td>\n",
       "      <td>1</td>\n",
       "      <td>married</td>\n",
       "      <td>0</td>\n",
       "      <td>M</td>\n",
       "      <td>employee</td>\n",
       "      <td>False</td>\n",
       "      <td>42820.568</td>\n",
       "      <td>supplementary education</td>\n",
       "      <td>education</td>\n",
       "    </tr>\n",
       "    <tr>\n",
       "      <td>4</td>\n",
       "      <td>0</td>\n",
       "      <td>3402.660720</td>\n",
       "      <td>53</td>\n",
       "      <td>secondary education</td>\n",
       "      <td>1</td>\n",
       "      <td>civil partnership</td>\n",
       "      <td>1</td>\n",
       "      <td>F</td>\n",
       "      <td>retiree</td>\n",
       "      <td>False</td>\n",
       "      <td>25378.572</td>\n",
       "      <td>to have a wedding</td>\n",
       "      <td>wedding</td>\n",
       "    </tr>\n",
       "    <tr>\n",
       "      <td>...</td>\n",
       "      <td>...</td>\n",
       "      <td>...</td>\n",
       "      <td>...</td>\n",
       "      <td>...</td>\n",
       "      <td>...</td>\n",
       "      <td>...</td>\n",
       "      <td>...</td>\n",
       "      <td>...</td>\n",
       "      <td>...</td>\n",
       "      <td>...</td>\n",
       "      <td>...</td>\n",
       "      <td>...</td>\n",
       "      <td>...</td>\n",
       "    </tr>\n",
       "    <tr>\n",
       "      <td>21520</td>\n",
       "      <td>1</td>\n",
       "      <td>4529.316663</td>\n",
       "      <td>43</td>\n",
       "      <td>secondary education</td>\n",
       "      <td>1</td>\n",
       "      <td>civil partnership</td>\n",
       "      <td>1</td>\n",
       "      <td>F</td>\n",
       "      <td>business</td>\n",
       "      <td>False</td>\n",
       "      <td>35966.698</td>\n",
       "      <td>housing transactions</td>\n",
       "      <td>real estate</td>\n",
       "    </tr>\n",
       "    <tr>\n",
       "      <td>21521</td>\n",
       "      <td>0</td>\n",
       "      <td>3439.374041</td>\n",
       "      <td>67</td>\n",
       "      <td>secondary education</td>\n",
       "      <td>1</td>\n",
       "      <td>married</td>\n",
       "      <td>0</td>\n",
       "      <td>F</td>\n",
       "      <td>retiree</td>\n",
       "      <td>False</td>\n",
       "      <td>24959.969</td>\n",
       "      <td>purchase of a car</td>\n",
       "      <td>car</td>\n",
       "    </tr>\n",
       "    <tr>\n",
       "      <td>21522</td>\n",
       "      <td>1</td>\n",
       "      <td>2113.346888</td>\n",
       "      <td>38</td>\n",
       "      <td>secondary education</td>\n",
       "      <td>1</td>\n",
       "      <td>civil partnership</td>\n",
       "      <td>1</td>\n",
       "      <td>M</td>\n",
       "      <td>employee</td>\n",
       "      <td>True</td>\n",
       "      <td>14347.610</td>\n",
       "      <td>property</td>\n",
       "      <td>real estate</td>\n",
       "    </tr>\n",
       "    <tr>\n",
       "      <td>21523</td>\n",
       "      <td>3</td>\n",
       "      <td>3112.481705</td>\n",
       "      <td>38</td>\n",
       "      <td>secondary education</td>\n",
       "      <td>1</td>\n",
       "      <td>married</td>\n",
       "      <td>0</td>\n",
       "      <td>M</td>\n",
       "      <td>employee</td>\n",
       "      <td>True</td>\n",
       "      <td>39054.888</td>\n",
       "      <td>buying my own car</td>\n",
       "      <td>car</td>\n",
       "    </tr>\n",
       "    <tr>\n",
       "      <td>21524</td>\n",
       "      <td>2</td>\n",
       "      <td>1984.507589</td>\n",
       "      <td>40</td>\n",
       "      <td>secondary education</td>\n",
       "      <td>1</td>\n",
       "      <td>married</td>\n",
       "      <td>0</td>\n",
       "      <td>F</td>\n",
       "      <td>employee</td>\n",
       "      <td>False</td>\n",
       "      <td>13127.587</td>\n",
       "      <td>to buy a car</td>\n",
       "      <td>car</td>\n",
       "    </tr>\n",
       "  </tbody>\n",
       "</table>\n",
       "<p>21471 rows × 13 columns</p>\n",
       "</div>"
      ],
      "text/plain": [
       "       children  days_employed  dob_years            education  education_id  \\\n",
       "0             1    8437.673028         42    bachelor's degree             0   \n",
       "1             1    4024.803754         36  secondary education             1   \n",
       "2             0    5623.422610         33  Secondary Education             1   \n",
       "3             3    4124.747207         32  secondary education             1   \n",
       "4             0    3402.660720         53  secondary education             1   \n",
       "...         ...            ...        ...                  ...           ...   \n",
       "21520         1    4529.316663         43  secondary education             1   \n",
       "21521         0    3439.374041         67  secondary education             1   \n",
       "21522         1    2113.346888         38  secondary education             1   \n",
       "21523         3    3112.481705         38  secondary education             1   \n",
       "21524         2    1984.507589         40  secondary education             1   \n",
       "\n",
       "           family_status  family_status_id gender income_type   debt  \\\n",
       "0                married                 0      F    employee  False   \n",
       "1                married                 0      F    employee  False   \n",
       "2                married                 0      M    employee  False   \n",
       "3                married                 0      M    employee  False   \n",
       "4      civil partnership                 1      F     retiree  False   \n",
       "...                  ...               ...    ...         ...    ...   \n",
       "21520  civil partnership                 1      F    business  False   \n",
       "21521            married                 0      F     retiree  False   \n",
       "21522  civil partnership                 1      M    employee   True   \n",
       "21523            married                 0      M    employee   True   \n",
       "21524            married                 0      F    employee  False   \n",
       "\n",
       "       total_income                  purpose purpose_category  \n",
       "0         40620.102    purchase of the house      real estate  \n",
       "1         17932.802             car purchase              car  \n",
       "2         23341.752    purchase of the house      real estate  \n",
       "3         42820.568  supplementary education        education  \n",
       "4         25378.572        to have a wedding          wedding  \n",
       "...             ...                      ...              ...  \n",
       "21520     35966.698     housing transactions      real estate  \n",
       "21521     24959.969        purchase of a car              car  \n",
       "21522     14347.610                 property      real estate  \n",
       "21523     39054.888        buying my own car              car  \n",
       "21524     13127.587             to buy a car              car  \n",
       "\n",
       "[21471 rows x 13 columns]"
      ]
     },
     "execution_count": 27,
     "metadata": {},
     "output_type": "execute_result"
    }
   ],
   "source": [
    "# find consecutive words\n",
    "#example ['buy', 'commercial', 'real', 'estate'] will return ['buy', 'commercial', 'real estate']\n",
    "def find_consecutive_words(lemmas_list, list_to_check):\n",
    "    for i, word in enumerate(list_to_check):\n",
    "         if i+1 < len(list_to_check):\n",
    "            word_pair = word + ' '+ list_to_check[i+1]   #Get pair of words         \n",
    "            if word_pair in lemmas_list: #Check if  exist in lemmas_list\n",
    "                del list_to_check[i+1]   #Delete word  for example 'real'\n",
    "                del list_to_check[i]     #Delete word  foer example 'state'\n",
    "                list_to_check.insert(i,word_pair) # Add onsecutive word 'real estate' \n",
    "    return list_to_check\n",
    "#create purpose categories \n",
    "def get_purpose_category(purpose,real_estate_lemmas,education_list_lemmas,car_lemma,wedding_lemma):\n",
    "    \n",
    "    purpose_words = nltk.word_tokenize(purpose)\n",
    "    purpose_words_lemmas = [wordnet_lemma.lemmatize(word,pos=\"n\") for word in purpose_words]\n",
    "    purpose_words_lemmas.extend([wordnet_lemma.lemmatize(word,pos=\"v\") for word in purpose_words])\n",
    "     \n",
    "    #  find consecutive words   \n",
    "    purpose_words_lemmas = find_consecutive_words(real_estate_lemmas, purpose_words_lemmas)\n",
    "    #get unique values/distinct values\n",
    "    purpose_words_lemmas = set(purpose_words_lemmas)\n",
    "\n",
    "    purpose_category = None\n",
    "    for word in purpose_words_lemmas:     \n",
    "        if word in real_estate_lemmas:\n",
    "            purpose_category = 'real estate'\n",
    "            break;\n",
    "        elif word in education_list_lemmas:\n",
    "            purpose_category = 'education'\n",
    "            break;\n",
    "        elif word in car_lemma:\n",
    "            purpose_category = 'car'\n",
    "            break;\n",
    "        elif word in wedding_lemma:\n",
    "            purpose_category = 'wedding'\n",
    "            break;       \n",
    "    return purpose_category\n",
    "\n",
    "#real estate category\n",
    "real_estate_list = ['house', 'property', 'real estate']\n",
    "real_estate_lemmas = [wordnet_lemma.lemmatize(x,pos=\"n\") for x in real_estate_list]\n",
    "real_estate_lemmas.extend([wordnet_lemma.lemmatize(x,pos=\"v\") for x in real_estate_list])\n",
    "#get unique values/distinct values\n",
    "real_estate_lemmas = set(real_estate_lemmas)\n",
    "\n",
    "#education category\n",
    "education_list = ['education', 'university','educate','educated']\n",
    "education_list_lemmas =  [wordnet_lemma.lemmatize(x,pos=\"n\") for x in education_list]\n",
    "education_list_lemmas.extend([wordnet_lemma.lemmatize(x,pos=\"v\") for x in education_list])\n",
    "\n",
    "#get unique values/distinct values\n",
    "education_list_lemmas = set(education_list_lemmas)\n",
    "\n",
    "#car category\n",
    "car_lemma = []\n",
    "car_lemma.append(wordnet_lemma.lemmatize('car',pos=\"n\"))\n",
    "car_lemma.append(wordnet_lemma.lemmatize('car',pos=\"v\"))\n",
    "\n",
    "#wedding category\n",
    "wedding_lemma = []\n",
    "wedding_lemma.append(wordnet_lemma.lemmatize('wedding',pos=\"n\"))\n",
    "wedding_lemma.append(wordnet_lemma.lemmatize('wedding',pos=\"v\"))\n",
    "\n",
    "#create 'purpose_category' column\n",
    "data['purpose_category'] = data['purpose'].apply(get_purpose_category,args=(real_estate_lemmas,education_list_lemmas,car_lemma,wedding_lemma ))\n",
    "data\n"
   ]
  },
  {
   "cell_type": "markdown",
   "metadata": {},
   "source": [
    "######   Categoriz 'total_income' column"
   ]
  },
  {
   "cell_type": "code",
   "execution_count": 29,
   "metadata": {},
   "outputs": [
    {
     "data": {
      "text/html": [
       "<div>\n",
       "<style scoped>\n",
       "    .dataframe tbody tr th:only-of-type {\n",
       "        vertical-align: middle;\n",
       "    }\n",
       "\n",
       "    .dataframe tbody tr th {\n",
       "        vertical-align: top;\n",
       "    }\n",
       "\n",
       "    .dataframe thead th {\n",
       "        text-align: right;\n",
       "    }\n",
       "</style>\n",
       "<table border=\"1\" class=\"dataframe\">\n",
       "  <thead>\n",
       "    <tr style=\"text-align: right;\">\n",
       "      <th></th>\n",
       "      <th>children</th>\n",
       "      <th>days_employed</th>\n",
       "      <th>dob_years</th>\n",
       "      <th>education_id</th>\n",
       "      <th>family_status_id</th>\n",
       "      <th>total_income</th>\n",
       "    </tr>\n",
       "  </thead>\n",
       "  <tbody>\n",
       "    <tr>\n",
       "      <td>count</td>\n",
       "      <td>21471.000000</td>\n",
       "      <td>21471.000000</td>\n",
       "      <td>21471.000000</td>\n",
       "      <td>21471.000000</td>\n",
       "      <td>21471.000000</td>\n",
       "      <td>21471.000000</td>\n",
       "    </tr>\n",
       "    <tr>\n",
       "      <td>mean</td>\n",
       "      <td>0.504541</td>\n",
       "      <td>2558.881781</td>\n",
       "      <td>43.279074</td>\n",
       "      <td>0.817195</td>\n",
       "      <td>0.973685</td>\n",
       "      <td>26787.530220</td>\n",
       "    </tr>\n",
       "    <tr>\n",
       "      <td>std</td>\n",
       "      <td>1.040344</td>\n",
       "      <td>2048.105302</td>\n",
       "      <td>12.574291</td>\n",
       "      <td>0.548508</td>\n",
       "      <td>1.421082</td>\n",
       "      <td>15683.865445</td>\n",
       "    </tr>\n",
       "    <tr>\n",
       "      <td>min</td>\n",
       "      <td>0.000000</td>\n",
       "      <td>24.141633</td>\n",
       "      <td>0.000000</td>\n",
       "      <td>0.000000</td>\n",
       "      <td>0.000000</td>\n",
       "      <td>3306.762000</td>\n",
       "    </tr>\n",
       "    <tr>\n",
       "      <td>25%</td>\n",
       "      <td>0.000000</td>\n",
       "      <td>1024.119744</td>\n",
       "      <td>33.000000</td>\n",
       "      <td>1.000000</td>\n",
       "      <td>0.000000</td>\n",
       "      <td>17224.844000</td>\n",
       "    </tr>\n",
       "    <tr>\n",
       "      <td>50%</td>\n",
       "      <td>0.000000</td>\n",
       "      <td>2095.293025</td>\n",
       "      <td>42.000000</td>\n",
       "      <td>1.000000</td>\n",
       "      <td>0.000000</td>\n",
       "      <td>24303.791000</td>\n",
       "    </tr>\n",
       "    <tr>\n",
       "      <td>75%</td>\n",
       "      <td>1.000000</td>\n",
       "      <td>3568.078677</td>\n",
       "      <td>53.000000</td>\n",
       "      <td>1.000000</td>\n",
       "      <td>1.000000</td>\n",
       "      <td>32386.793835</td>\n",
       "    </tr>\n",
       "    <tr>\n",
       "      <td>max</td>\n",
       "      <td>20.000000</td>\n",
       "      <td>18388.949901</td>\n",
       "      <td>75.000000</td>\n",
       "      <td>4.000000</td>\n",
       "      <td>4.000000</td>\n",
       "      <td>362496.645000</td>\n",
       "    </tr>\n",
       "  </tbody>\n",
       "</table>\n",
       "</div>"
      ],
      "text/plain": [
       "           children  days_employed     dob_years  education_id  \\\n",
       "count  21471.000000   21471.000000  21471.000000  21471.000000   \n",
       "mean       0.504541    2558.881781     43.279074      0.817195   \n",
       "std        1.040344    2048.105302     12.574291      0.548508   \n",
       "min        0.000000      24.141633      0.000000      0.000000   \n",
       "25%        0.000000    1024.119744     33.000000      1.000000   \n",
       "50%        0.000000    2095.293025     42.000000      1.000000   \n",
       "75%        1.000000    3568.078677     53.000000      1.000000   \n",
       "max       20.000000   18388.949901     75.000000      4.000000   \n",
       "\n",
       "       family_status_id   total_income  \n",
       "count      21471.000000   21471.000000  \n",
       "mean           0.973685   26787.530220  \n",
       "std            1.421082   15683.865445  \n",
       "min            0.000000    3306.762000  \n",
       "25%            0.000000   17224.844000  \n",
       "50%            0.000000   24303.791000  \n",
       "75%            1.000000   32386.793835  \n",
       "max            4.000000  362496.645000  "
      ]
     },
     "execution_count": 29,
     "metadata": {},
     "output_type": "execute_result"
    }
   ],
   "source": [
    "data.describe()\n"
   ]
  },
  {
   "cell_type": "code",
   "execution_count": 30,
   "metadata": {},
   "outputs": [],
   "source": [
    "#return the  total_income_category for each total_income\n",
    "def get_total_income_category(total_income):\n",
    "    total_income_category = None\n",
    "    \n",
    "    if total_income<16488.504500:\n",
    "        total_income_category = 'low'\n",
    "    elif 16488.504500 <total_income< 23202.870000:\n",
    "        total_income_category = 'medium'\n",
    "    elif 23202.870000<total_income<  32549.611000:\n",
    "        total_income_category = 'high'\n",
    "    elif total_income>  32549.611000:\n",
    "        total_income_category = 'super high'\n",
    "    return total_income_category\n",
    "\n",
    "data['total_income_category'] = data['total_income'].apply(get_total_income_category)\n"
   ]
  },
  {
   "cell_type": "markdown",
   "metadata": {},
   "source": [
    "### Conclusion"
   ]
  },
  {
   "cell_type": "markdown",
   "metadata": {},
   "source": [
    "1. There are 4 main types of  loans:\n",
    "    real estate\n",
    "    wedding\n",
    "    education\n",
    "    car\n",
    "    \n",
    "2. The categories and there values  will be:\n",
    "    real estate - house, property, real estate\n",
    "    wedding - wedding(there are no Synonyms)\n",
    "    education - education, university,educate,educated\n",
    "    car - car (there are no Synonyms)\n",
    "3. build 4 categories for 'total_income'\n",
    "    1. low  = total_income<16488.504500    25% of  customers salary\n",
    "    2. medium = 16488.504500 <total_income<23202.870000  25% - 50% of  customers salary\n",
    "    3 high = 23202.870000<total_income<  32549.611000     50% - 75% of  customers salary\n",
    "    4 super high = total_income>  32549.611000   75% of  customers salary"
   ]
  },
  {
   "cell_type": "markdown",
   "metadata": {},
   "source": [
    "## Answer these questions"
   ]
  },
  {
   "cell_type": "markdown",
   "metadata": {},
   "source": [
    "- Is there a relation between having kids and repaying a loan on time?"
   ]
  },
  {
   "cell_type": "code",
   "execution_count": 31,
   "metadata": {},
   "outputs": [
    {
     "data": {
      "text/html": [
       "<div>\n",
       "<style scoped>\n",
       "    .dataframe tbody tr th:only-of-type {\n",
       "        vertical-align: middle;\n",
       "    }\n",
       "\n",
       "    .dataframe tbody tr th {\n",
       "        vertical-align: top;\n",
       "    }\n",
       "\n",
       "    .dataframe thead th {\n",
       "        text-align: right;\n",
       "    }\n",
       "</style>\n",
       "<table border=\"1\" class=\"dataframe\">\n",
       "  <thead>\n",
       "    <tr style=\"text-align: right;\">\n",
       "      <th>debt</th>\n",
       "      <th>False</th>\n",
       "      <th>True</th>\n",
       "      <th>ratio</th>\n",
       "    </tr>\n",
       "    <tr>\n",
       "      <th>children</th>\n",
       "      <th></th>\n",
       "      <th></th>\n",
       "      <th></th>\n",
       "    </tr>\n",
       "  </thead>\n",
       "  <tbody>\n",
       "    <tr>\n",
       "      <td>0</td>\n",
       "      <td>13044.0</td>\n",
       "      <td>1063.0</td>\n",
       "      <td>0.081493</td>\n",
       "    </tr>\n",
       "    <tr>\n",
       "      <td>1</td>\n",
       "      <td>4411.0</td>\n",
       "      <td>445.0</td>\n",
       "      <td>0.100884</td>\n",
       "    </tr>\n",
       "    <tr>\n",
       "      <td>2</td>\n",
       "      <td>1901.0</td>\n",
       "      <td>198.0</td>\n",
       "      <td>0.104156</td>\n",
       "    </tr>\n",
       "    <tr>\n",
       "      <td>3</td>\n",
       "      <td>303.0</td>\n",
       "      <td>27.0</td>\n",
       "      <td>0.089109</td>\n",
       "    </tr>\n",
       "    <tr>\n",
       "      <td>4</td>\n",
       "      <td>37.0</td>\n",
       "      <td>4.0</td>\n",
       "      <td>0.108108</td>\n",
       "    </tr>\n",
       "    <tr>\n",
       "      <td>5</td>\n",
       "      <td>9.0</td>\n",
       "      <td>0.0</td>\n",
       "      <td>0.000000</td>\n",
       "    </tr>\n",
       "    <tr>\n",
       "      <td>20</td>\n",
       "      <td>25.0</td>\n",
       "      <td>4.0</td>\n",
       "      <td>0.160000</td>\n",
       "    </tr>\n",
       "  </tbody>\n",
       "</table>\n",
       "</div>"
      ],
      "text/plain": [
       "debt        False    True     ratio\n",
       "children                           \n",
       "0         13044.0  1063.0  0.081493\n",
       "1          4411.0   445.0  0.100884\n",
       "2          1901.0   198.0  0.104156\n",
       "3           303.0    27.0  0.089109\n",
       "4            37.0     4.0  0.108108\n",
       "5             9.0     0.0  0.000000\n",
       "20           25.0     4.0  0.160000"
      ]
     },
     "execution_count": 31,
     "metadata": {},
     "output_type": "execute_result"
    }
   ],
   "source": [
    "#use pivot_table\n",
    "data_pivot = data.pivot_table(\n",
    "    index='children',\n",
    "    columns='debt',\n",
    "    values='education_id',\n",
    "    aggfunc='count',\n",
    ")\n",
    "#Replace NaN with 0\n",
    "data_pivot.fillna(0, inplace=True)\n",
    "#Check if we take care of all NaN \n",
    "data_pivot.isnull().sum()\n",
    "\n",
    "#Calculate 'ratio' column to see if there is a relation between having kids and repaying a loan on time \n",
    "data_pivot['ratio'] = data_pivot[1] / data_pivot[0]\n",
    "\n",
    "data_pivot"
   ]
  },
  {
   "cell_type": "markdown",
   "metadata": {},
   "source": [
    "### Conclusion"
   ]
  },
  {
   "cell_type": "markdown",
   "metadata": {},
   "source": [
    "1. As we can see by the 'ratio' column, the increcment of children  affecting repaying a loan on time"
   ]
  },
  {
   "cell_type": "markdown",
   "metadata": {},
   "source": [
    "- Is there a relation between marital status and repaying a loan on time?"
   ]
  },
  {
   "cell_type": "code",
   "execution_count": 32,
   "metadata": {},
   "outputs": [
    {
     "data": {
      "text/html": [
       "<div>\n",
       "<style scoped>\n",
       "    .dataframe tbody tr th:only-of-type {\n",
       "        vertical-align: middle;\n",
       "    }\n",
       "\n",
       "    .dataframe tbody tr th {\n",
       "        vertical-align: top;\n",
       "    }\n",
       "\n",
       "    .dataframe thead th {\n",
       "        text-align: right;\n",
       "    }\n",
       "</style>\n",
       "<table border=\"1\" class=\"dataframe\">\n",
       "  <thead>\n",
       "    <tr style=\"text-align: right;\">\n",
       "      <th>debt</th>\n",
       "      <th>False</th>\n",
       "      <th>True</th>\n",
       "      <th>ratio</th>\n",
       "    </tr>\n",
       "    <tr>\n",
       "      <th>family_status</th>\n",
       "      <th></th>\n",
       "      <th></th>\n",
       "      <th></th>\n",
       "    </tr>\n",
       "  </thead>\n",
       "  <tbody>\n",
       "    <tr>\n",
       "      <td>civil partnership</td>\n",
       "      <td>3775</td>\n",
       "      <td>388</td>\n",
       "      <td>0.102781</td>\n",
       "    </tr>\n",
       "    <tr>\n",
       "      <td>divorced</td>\n",
       "      <td>1110</td>\n",
       "      <td>85</td>\n",
       "      <td>0.076577</td>\n",
       "    </tr>\n",
       "    <tr>\n",
       "      <td>married</td>\n",
       "      <td>11413</td>\n",
       "      <td>931</td>\n",
       "      <td>0.081574</td>\n",
       "    </tr>\n",
       "    <tr>\n",
       "      <td>unmarried</td>\n",
       "      <td>2536</td>\n",
       "      <td>274</td>\n",
       "      <td>0.108044</td>\n",
       "    </tr>\n",
       "    <tr>\n",
       "      <td>widow / widower</td>\n",
       "      <td>896</td>\n",
       "      <td>63</td>\n",
       "      <td>0.070312</td>\n",
       "    </tr>\n",
       "  </tbody>\n",
       "</table>\n",
       "</div>"
      ],
      "text/plain": [
       "debt               False  True     ratio\n",
       "family_status                           \n",
       "civil partnership   3775   388  0.102781\n",
       "divorced            1110    85  0.076577\n",
       "married            11413   931  0.081574\n",
       "unmarried           2536   274  0.108044\n",
       "widow / widower      896    63  0.070312"
      ]
     },
     "execution_count": 32,
     "metadata": {},
     "output_type": "execute_result"
    }
   ],
   "source": [
    "# pivot_table\n",
    "data_pivot = data.pivot_table(\n",
    "    index='family_status',\n",
    "    columns='debt',\n",
    "    values='education_id',\n",
    "    aggfunc='count',\n",
    ")\n",
    "\n",
    "#Calculate 'ratio' column to see if there is a relation between  marital status and repaying a loan on time \n",
    "data_pivot['ratio'] = data_pivot[1] / data_pivot[0]\n",
    "data_pivot"
   ]
  },
  {
   "cell_type": "markdown",
   "metadata": {},
   "source": [
    "### Conclusion"
   ]
  },
  {
   "cell_type": "markdown",
   "metadata": {},
   "source": [
    " As we can see by the 'ratio' column, castumer with civil partnership and unmarried marital are more risky than the others "
   ]
  },
  {
   "cell_type": "markdown",
   "metadata": {},
   "source": [
    "- Is there a relation between income level and repaying a loan on time?"
   ]
  },
  {
   "cell_type": "code",
   "execution_count": 33,
   "metadata": {},
   "outputs": [
    {
     "data": {
      "text/html": [
       "<div>\n",
       "<style scoped>\n",
       "    .dataframe tbody tr th:only-of-type {\n",
       "        vertical-align: middle;\n",
       "    }\n",
       "\n",
       "    .dataframe tbody tr th {\n",
       "        vertical-align: top;\n",
       "    }\n",
       "\n",
       "    .dataframe thead th {\n",
       "        text-align: right;\n",
       "    }\n",
       "</style>\n",
       "<table border=\"1\" class=\"dataframe\">\n",
       "  <thead>\n",
       "    <tr style=\"text-align: right;\">\n",
       "      <th>debt</th>\n",
       "      <th>False</th>\n",
       "      <th>True</th>\n",
       "      <th>ratio</th>\n",
       "    </tr>\n",
       "    <tr>\n",
       "      <th>total_income_category</th>\n",
       "      <th></th>\n",
       "      <th></th>\n",
       "      <th></th>\n",
       "    </tr>\n",
       "  </thead>\n",
       "  <tbody>\n",
       "    <tr>\n",
       "      <td>high</td>\n",
       "      <td>6001</td>\n",
       "      <td>561</td>\n",
       "      <td>0.093484</td>\n",
       "    </tr>\n",
       "    <tr>\n",
       "      <td>low</td>\n",
       "      <td>4455</td>\n",
       "      <td>383</td>\n",
       "      <td>0.085971</td>\n",
       "    </tr>\n",
       "    <tr>\n",
       "      <td>medium</td>\n",
       "      <td>4775</td>\n",
       "      <td>456</td>\n",
       "      <td>0.095497</td>\n",
       "    </tr>\n",
       "    <tr>\n",
       "      <td>super high</td>\n",
       "      <td>4498</td>\n",
       "      <td>341</td>\n",
       "      <td>0.075811</td>\n",
       "    </tr>\n",
       "  </tbody>\n",
       "</table>\n",
       "</div>"
      ],
      "text/plain": [
       "debt                   False  True     ratio\n",
       "total_income_category                       \n",
       "high                    6001   561  0.093484\n",
       "low                     4455   383  0.085971\n",
       "medium                  4775   456  0.095497\n",
       "super high              4498   341  0.075811"
      ]
     },
     "execution_count": 33,
     "metadata": {},
     "output_type": "execute_result"
    }
   ],
   "source": [
    "# pivot_table\n",
    "data_pivot = data.pivot_table(\n",
    "    index='total_income_category',\n",
    "    columns='debt',\n",
    "    values='education_id',\n",
    "    aggfunc='count',\n",
    ")\n",
    "\n",
    "#Calculate 'ratio' column to see if there is a relation between income level and repaying a loan on time \n",
    "data_pivot['ratio'] = data_pivot[1] / data_pivot[0]\n",
    "data_pivot\n"
   ]
  },
  {
   "cell_type": "markdown",
   "metadata": {},
   "source": [
    "### Conclusion"
   ]
  },
  {
   "cell_type": "markdown",
   "metadata": {},
   "source": [
    "As we can see by the 'ratio' column, total_income doesn't affect in repaying a loan on time"
   ]
  },
  {
   "cell_type": "markdown",
   "metadata": {},
   "source": [
    "- How do different loan purposes affect on-time repayment of the loan?"
   ]
  },
  {
   "cell_type": "code",
   "execution_count": 34,
   "metadata": {},
   "outputs": [
    {
     "data": {
      "text/html": [
       "<div>\n",
       "<style scoped>\n",
       "    .dataframe tbody tr th:only-of-type {\n",
       "        vertical-align: middle;\n",
       "    }\n",
       "\n",
       "    .dataframe tbody tr th {\n",
       "        vertical-align: top;\n",
       "    }\n",
       "\n",
       "    .dataframe thead th {\n",
       "        text-align: right;\n",
       "    }\n",
       "</style>\n",
       "<table border=\"1\" class=\"dataframe\">\n",
       "  <thead>\n",
       "    <tr style=\"text-align: right;\">\n",
       "      <th>debt</th>\n",
       "      <th>False</th>\n",
       "      <th>True</th>\n",
       "      <th>ratio</th>\n",
       "    </tr>\n",
       "    <tr>\n",
       "      <th>purpose_category</th>\n",
       "      <th></th>\n",
       "      <th></th>\n",
       "      <th></th>\n",
       "    </tr>\n",
       "  </thead>\n",
       "  <tbody>\n",
       "    <tr>\n",
       "      <td>car</td>\n",
       "      <td>3905</td>\n",
       "      <td>403</td>\n",
       "      <td>0.103201</td>\n",
       "    </tr>\n",
       "    <tr>\n",
       "      <td>education</td>\n",
       "      <td>3644</td>\n",
       "      <td>370</td>\n",
       "      <td>0.101537</td>\n",
       "    </tr>\n",
       "    <tr>\n",
       "      <td>real estate</td>\n",
       "      <td>10032</td>\n",
       "      <td>782</td>\n",
       "      <td>0.077951</td>\n",
       "    </tr>\n",
       "    <tr>\n",
       "      <td>wedding</td>\n",
       "      <td>2149</td>\n",
       "      <td>186</td>\n",
       "      <td>0.086552</td>\n",
       "    </tr>\n",
       "  </tbody>\n",
       "</table>\n",
       "</div>"
      ],
      "text/plain": [
       "debt              False  True     ratio\n",
       "purpose_category                       \n",
       "car                3905   403  0.103201\n",
       "education          3644   370  0.101537\n",
       "real estate       10032   782  0.077951\n",
       "wedding            2149   186  0.086552"
      ]
     },
     "execution_count": 34,
     "metadata": {},
     "output_type": "execute_result"
    }
   ],
   "source": [
    "# pivot_table\n",
    "data_pivot = data.pivot_table(\n",
    "    index='purpose_category',\n",
    "    columns='debt',\n",
    "    values='education_id',\n",
    "    aggfunc='count',\n",
    ")\n",
    "\n",
    "#Calculate 'ratio' column to see if there is a relation between loan purposes and repaying a loan on time \n",
    "data_pivot['ratio'] = data_pivot[1] / data_pivot[0]\n",
    "data_pivot\n"
   ]
  },
  {
   "cell_type": "markdown",
   "metadata": {},
   "source": [
    "### Conclusion"
   ]
  },
  {
   "cell_type": "markdown",
   "metadata": {},
   "source": [
    "car loan and education loan are more risky then real estate and wedding loans"
   ]
  },
  {
   "cell_type": "markdown",
   "metadata": {},
   "source": [
    "## General conclusion"
   ]
  },
  {
   "cell_type": "code",
   "execution_count": 35,
   "metadata": {},
   "outputs": [
    {
     "data": {
      "text/html": [
       "<div>\n",
       "<style scoped>\n",
       "    .dataframe tbody tr th:only-of-type {\n",
       "        vertical-align: middle;\n",
       "    }\n",
       "\n",
       "    .dataframe tbody tr th {\n",
       "        vertical-align: top;\n",
       "    }\n",
       "\n",
       "    .dataframe thead th {\n",
       "        text-align: right;\n",
       "    }\n",
       "</style>\n",
       "<table border=\"1\" class=\"dataframe\">\n",
       "  <thead>\n",
       "    <tr style=\"text-align: right;\">\n",
       "      <th></th>\n",
       "      <th>debt</th>\n",
       "      <th>False</th>\n",
       "      <th>True</th>\n",
       "      <th>ratio</th>\n",
       "    </tr>\n",
       "    <tr>\n",
       "      <th>total_income_category</th>\n",
       "      <th>family_status</th>\n",
       "      <th></th>\n",
       "      <th></th>\n",
       "      <th></th>\n",
       "    </tr>\n",
       "  </thead>\n",
       "  <tbody>\n",
       "    <tr>\n",
       "      <td rowspan=\"5\" valign=\"top\">high</td>\n",
       "      <td>civil partnership</td>\n",
       "      <td>1143</td>\n",
       "      <td>138</td>\n",
       "      <td>0.120735</td>\n",
       "    </tr>\n",
       "    <tr>\n",
       "      <td>divorced</td>\n",
       "      <td>345</td>\n",
       "      <td>25</td>\n",
       "      <td>0.072464</td>\n",
       "    </tr>\n",
       "    <tr>\n",
       "      <td>married</td>\n",
       "      <td>3520</td>\n",
       "      <td>284</td>\n",
       "      <td>0.080682</td>\n",
       "    </tr>\n",
       "    <tr>\n",
       "      <td>unmarried</td>\n",
       "      <td>783</td>\n",
       "      <td>93</td>\n",
       "      <td>0.118774</td>\n",
       "    </tr>\n",
       "    <tr>\n",
       "      <td>widow / widower</td>\n",
       "      <td>210</td>\n",
       "      <td>21</td>\n",
       "      <td>0.100000</td>\n",
       "    </tr>\n",
       "    <tr>\n",
       "      <td rowspan=\"5\" valign=\"top\">low</td>\n",
       "      <td>civil partnership</td>\n",
       "      <td>857</td>\n",
       "      <td>87</td>\n",
       "      <td>0.101517</td>\n",
       "    </tr>\n",
       "    <tr>\n",
       "      <td>divorced</td>\n",
       "      <td>243</td>\n",
       "      <td>21</td>\n",
       "      <td>0.086420</td>\n",
       "    </tr>\n",
       "    <tr>\n",
       "      <td>married</td>\n",
       "      <td>2536</td>\n",
       "      <td>212</td>\n",
       "      <td>0.083596</td>\n",
       "    </tr>\n",
       "    <tr>\n",
       "      <td>unmarried</td>\n",
       "      <td>529</td>\n",
       "      <td>49</td>\n",
       "      <td>0.092628</td>\n",
       "    </tr>\n",
       "    <tr>\n",
       "      <td>widow / widower</td>\n",
       "      <td>290</td>\n",
       "      <td>14</td>\n",
       "      <td>0.048276</td>\n",
       "    </tr>\n",
       "    <tr>\n",
       "      <td rowspan=\"5\" valign=\"top\">medium</td>\n",
       "      <td>civil partnership</td>\n",
       "      <td>903</td>\n",
       "      <td>102</td>\n",
       "      <td>0.112957</td>\n",
       "    </tr>\n",
       "    <tr>\n",
       "      <td>divorced</td>\n",
       "      <td>263</td>\n",
       "      <td>22</td>\n",
       "      <td>0.083650</td>\n",
       "    </tr>\n",
       "    <tr>\n",
       "      <td>married</td>\n",
       "      <td>2699</td>\n",
       "      <td>238</td>\n",
       "      <td>0.088181</td>\n",
       "    </tr>\n",
       "    <tr>\n",
       "      <td>unmarried</td>\n",
       "      <td>654</td>\n",
       "      <td>74</td>\n",
       "      <td>0.113150</td>\n",
       "    </tr>\n",
       "    <tr>\n",
       "      <td>widow / widower</td>\n",
       "      <td>256</td>\n",
       "      <td>20</td>\n",
       "      <td>0.078125</td>\n",
       "    </tr>\n",
       "    <tr>\n",
       "      <td rowspan=\"5\" valign=\"top\">super high</td>\n",
       "      <td>civil partnership</td>\n",
       "      <td>872</td>\n",
       "      <td>61</td>\n",
       "      <td>0.069954</td>\n",
       "    </tr>\n",
       "    <tr>\n",
       "      <td>divorced</td>\n",
       "      <td>259</td>\n",
       "      <td>17</td>\n",
       "      <td>0.065637</td>\n",
       "    </tr>\n",
       "    <tr>\n",
       "      <td>married</td>\n",
       "      <td>2657</td>\n",
       "      <td>197</td>\n",
       "      <td>0.074144</td>\n",
       "    </tr>\n",
       "    <tr>\n",
       "      <td>unmarried</td>\n",
       "      <td>570</td>\n",
       "      <td>58</td>\n",
       "      <td>0.101754</td>\n",
       "    </tr>\n",
       "    <tr>\n",
       "      <td>widow / widower</td>\n",
       "      <td>140</td>\n",
       "      <td>8</td>\n",
       "      <td>0.057143</td>\n",
       "    </tr>\n",
       "  </tbody>\n",
       "</table>\n",
       "</div>"
      ],
      "text/plain": [
       "debt                                     False  True     ratio\n",
       "total_income_category family_status                           \n",
       "high                  civil partnership   1143   138  0.120735\n",
       "                      divorced             345    25  0.072464\n",
       "                      married             3520   284  0.080682\n",
       "                      unmarried            783    93  0.118774\n",
       "                      widow / widower      210    21  0.100000\n",
       "low                   civil partnership    857    87  0.101517\n",
       "                      divorced             243    21  0.086420\n",
       "                      married             2536   212  0.083596\n",
       "                      unmarried            529    49  0.092628\n",
       "                      widow / widower      290    14  0.048276\n",
       "medium                civil partnership    903   102  0.112957\n",
       "                      divorced             263    22  0.083650\n",
       "                      married             2699   238  0.088181\n",
       "                      unmarried            654    74  0.113150\n",
       "                      widow / widower      256    20  0.078125\n",
       "super high            civil partnership    872    61  0.069954\n",
       "                      divorced             259    17  0.065637\n",
       "                      married             2657   197  0.074144\n",
       "                      unmarried            570    58  0.101754\n",
       "                      widow / widower      140     8  0.057143"
      ]
     },
     "execution_count": 35,
     "metadata": {},
     "output_type": "execute_result"
    }
   ],
   "source": [
    "#pivot table\n",
    "data_pivot = data.pivot_table(\n",
    "    index=['total_income_category','family_status'],\n",
    "    columns='debt',\n",
    "    values='education_id',\n",
    "    aggfunc='count',\n",
    ")\n",
    "\n",
    "#Calculate 'ratio' column to see if there is a relation between income level and repaying a loan on time \n",
    "data_pivot['ratio'] = data_pivot[1] / data_pivot[0]\n",
    "data_pivot.head(50)"
   ]
  },
  {
   "cell_type": "markdown",
   "metadata": {},
   "source": [
    "Customers  that has super high income and thay are NOT unmarried have the best credit score  "
   ]
  }
 ],
 "metadata": {
  "ExecuteTimeLog": [
   {
    "duration": 96,
    "start_time": "2021-06-15T17:42:28.418Z"
   },
   {
    "duration": 406,
    "start_time": "2021-06-15T17:43:29.058Z"
   },
   {
    "duration": 762,
    "start_time": "2021-06-15T17:43:46.975Z"
   },
   {
    "duration": 59,
    "start_time": "2021-06-15T17:43:48.602Z"
   },
   {
    "duration": 56,
    "start_time": "2021-06-15T17:43:56.905Z"
   },
   {
    "duration": 91,
    "start_time": "2021-06-15T17:44:39.025Z"
   },
   {
    "duration": 86,
    "start_time": "2021-06-15T17:45:43.306Z"
   },
   {
    "duration": 63,
    "start_time": "2021-06-15T18:11:59.912Z"
   },
   {
    "duration": 69,
    "start_time": "2021-06-15T18:13:07.887Z"
   },
   {
    "duration": 135,
    "start_time": "2021-06-15T18:31:40.689Z"
   },
   {
    "duration": 30,
    "start_time": "2021-06-15T18:52:34.480Z"
   },
   {
    "duration": 15,
    "start_time": "2021-06-15T18:52:45.284Z"
   },
   {
    "duration": 39,
    "start_time": "2021-06-15T18:53:18.988Z"
   },
   {
    "duration": 13,
    "start_time": "2021-06-15T18:53:29.261Z"
   },
   {
    "duration": 13,
    "start_time": "2021-06-15T18:55:43.501Z"
   },
   {
    "duration": 91,
    "start_time": "2021-06-15T18:56:46.679Z"
   },
   {
    "duration": 95,
    "start_time": "2021-06-15T18:57:16.982Z"
   },
   {
    "duration": 17,
    "start_time": "2021-06-15T19:22:49.605Z"
   },
   {
    "duration": 47,
    "start_time": "2021-06-15T19:22:59.636Z"
   },
   {
    "duration": 16,
    "start_time": "2021-06-16T05:09:42.109Z"
   },
   {
    "duration": 19,
    "start_time": "2021-06-16T05:11:38.554Z"
   },
   {
    "duration": 75,
    "start_time": "2021-06-16T05:38:29.220Z"
   },
   {
    "duration": 350,
    "start_time": "2021-06-16T05:52:21.838Z"
   },
   {
    "duration": 314,
    "start_time": "2021-06-16T05:52:37.322Z"
   },
   {
    "duration": 19,
    "start_time": "2021-06-16T05:52:46.796Z"
   },
   {
    "duration": 318,
    "start_time": "2021-06-16T05:52:57.684Z"
   },
   {
    "duration": 19,
    "start_time": "2021-06-16T05:53:24.876Z"
   },
   {
    "duration": 20,
    "start_time": "2021-06-16T05:54:40.500Z"
   },
   {
    "duration": 20,
    "start_time": "2021-06-16T05:55:03.461Z"
   },
   {
    "duration": 306,
    "start_time": "2021-06-16T05:55:46.085Z"
   },
   {
    "duration": 333,
    "start_time": "2021-06-16T05:56:15.445Z"
   },
   {
    "duration": 22,
    "start_time": "2021-06-16T05:57:07.569Z"
   },
   {
    "duration": 329,
    "start_time": "2021-06-16T06:03:14.866Z"
   },
   {
    "duration": 19,
    "start_time": "2021-06-16T06:38:37.385Z"
   },
   {
    "duration": 41,
    "start_time": "2021-06-16T06:40:06.981Z"
   },
   {
    "duration": 412,
    "start_time": "2021-06-16T06:42:30.978Z"
   },
   {
    "duration": 464,
    "start_time": "2021-06-16T06:44:13.733Z"
   },
   {
    "duration": 39,
    "start_time": "2021-06-16T06:44:45.905Z"
   },
   {
    "duration": 16,
    "start_time": "2021-06-16T06:46:23.843Z"
   },
   {
    "duration": 31,
    "start_time": "2021-06-16T06:46:38.962Z"
   },
   {
    "duration": 28,
    "start_time": "2021-06-16T06:47:27.184Z"
   },
   {
    "duration": 16,
    "start_time": "2021-06-16T06:48:28.824Z"
   },
   {
    "duration": 14,
    "start_time": "2021-06-16T07:04:16.932Z"
   },
   {
    "duration": 17,
    "start_time": "2021-06-16T07:05:41.384Z"
   },
   {
    "duration": 18,
    "start_time": "2021-06-16T07:06:21.566Z"
   },
   {
    "duration": 27,
    "start_time": "2021-06-16T07:06:28.872Z"
   },
   {
    "duration": 18,
    "start_time": "2021-06-16T07:07:00.554Z"
   },
   {
    "duration": 18,
    "start_time": "2021-06-16T07:07:14.090Z"
   },
   {
    "duration": 18,
    "start_time": "2021-06-16T07:07:25.724Z"
   },
   {
    "duration": 18,
    "start_time": "2021-06-16T07:10:15.302Z"
   },
   {
    "duration": 18,
    "start_time": "2021-06-16T07:10:32.518Z"
   },
   {
    "duration": 332,
    "start_time": "2021-06-16T07:12:25.163Z"
   },
   {
    "duration": 30,
    "start_time": "2021-06-16T07:12:33.426Z"
   },
   {
    "duration": 43,
    "start_time": "2021-06-16T07:13:08.787Z"
   },
   {
    "duration": 43,
    "start_time": "2021-06-16T07:14:52.596Z"
   },
   {
    "duration": 44,
    "start_time": "2021-06-16T07:22:11.414Z"
   },
   {
    "duration": 44,
    "start_time": "2021-06-16T07:22:22.703Z"
   },
   {
    "duration": 36,
    "start_time": "2021-06-16T07:22:48.275Z"
   },
   {
    "duration": 38,
    "start_time": "2021-06-16T07:22:52.355Z"
   },
   {
    "duration": 115,
    "start_time": "2021-06-16T07:23:32.083Z"
   },
   {
    "duration": 19,
    "start_time": "2021-06-16T07:23:54.204Z"
   },
   {
    "duration": 18,
    "start_time": "2021-06-16T07:24:07.202Z"
   },
   {
    "duration": 17,
    "start_time": "2021-06-16T07:29:18.744Z"
   },
   {
    "duration": 18,
    "start_time": "2021-06-16T07:29:42.421Z"
   },
   {
    "duration": 20,
    "start_time": "2021-06-16T07:29:48.612Z"
   },
   {
    "duration": 36,
    "start_time": "2021-06-16T07:30:49.612Z"
   },
   {
    "duration": 39,
    "start_time": "2021-06-16T07:30:53.830Z"
   },
   {
    "duration": 38,
    "start_time": "2021-06-16T07:30:56.962Z"
   },
   {
    "duration": 47,
    "start_time": "2021-06-16T07:31:00.833Z"
   },
   {
    "duration": 47,
    "start_time": "2021-06-16T07:34:19.731Z"
   },
   {
    "duration": 38,
    "start_time": "2021-06-16T07:34:27.486Z"
   },
   {
    "duration": 55,
    "start_time": "2021-06-16T07:34:42.509Z"
   },
   {
    "duration": 491,
    "start_time": "2021-06-16T07:38:46.390Z"
   },
   {
    "duration": 38,
    "start_time": "2021-06-16T07:39:19.246Z"
   },
   {
    "duration": 39,
    "start_time": "2021-06-16T07:39:29.117Z"
   },
   {
    "duration": 37,
    "start_time": "2021-06-16T07:39:32.603Z"
   },
   {
    "duration": 378,
    "start_time": "2021-06-16T07:39:49.736Z"
   },
   {
    "duration": 326,
    "start_time": "2021-06-16T07:39:58.080Z"
   },
   {
    "duration": 52,
    "start_time": "2021-06-16T07:40:03.297Z"
   },
   {
    "duration": 50,
    "start_time": "2021-06-16T07:40:16.102Z"
   },
   {
    "duration": 314,
    "start_time": "2021-06-16T07:40:41.528Z"
   },
   {
    "duration": 534,
    "start_time": "2021-06-16T07:40:59.119Z"
   },
   {
    "duration": 396,
    "start_time": "2021-06-16T07:42:39.483Z"
   },
   {
    "duration": 45,
    "start_time": "2021-06-16T07:43:18.517Z"
   },
   {
    "duration": 520,
    "start_time": "2021-06-16T07:44:22.802Z"
   },
   {
    "duration": 40,
    "start_time": "2021-06-16T07:44:34.451Z"
   },
   {
    "duration": 40,
    "start_time": "2021-06-16T07:44:46.210Z"
   },
   {
    "duration": 36,
    "start_time": "2021-06-16T07:45:09.648Z"
   },
   {
    "duration": 39,
    "start_time": "2021-06-16T07:51:41.952Z"
   },
   {
    "duration": 47,
    "start_time": "2021-06-16T07:53:49.656Z"
   },
   {
    "duration": 48,
    "start_time": "2021-06-16T07:54:12.232Z"
   },
   {
    "duration": 988,
    "start_time": "2021-06-16T07:54:54.789Z"
   },
   {
    "duration": 320,
    "start_time": "2021-06-16T07:55:51.680Z"
   },
   {
    "duration": 50,
    "start_time": "2021-06-16T07:56:08.264Z"
   },
   {
    "duration": 333,
    "start_time": "2021-06-16T07:57:08.306Z"
   },
   {
    "duration": 330,
    "start_time": "2021-06-16T07:57:21.023Z"
   },
   {
    "duration": 37,
    "start_time": "2021-06-16T07:57:31.566Z"
   },
   {
    "duration": 42,
    "start_time": "2021-06-16T07:58:35.384Z"
   },
   {
    "duration": 362,
    "start_time": "2021-06-16T07:59:50.317Z"
   },
   {
    "duration": 45,
    "start_time": "2021-06-16T09:19:31.285Z"
   },
   {
    "duration": 28,
    "start_time": "2021-06-16T09:19:45.864Z"
   },
   {
    "duration": 47,
    "start_time": "2021-06-16T09:20:07.356Z"
   },
   {
    "duration": 41,
    "start_time": "2021-06-16T09:20:50.329Z"
   },
   {
    "duration": 43,
    "start_time": "2021-06-16T09:21:26.256Z"
   },
   {
    "duration": 67,
    "start_time": "2021-06-16T09:21:41.531Z"
   },
   {
    "duration": 42,
    "start_time": "2021-06-16T09:41:43.712Z"
   },
   {
    "duration": 111,
    "start_time": "2021-06-16T09:43:00.705Z"
   },
   {
    "duration": 44,
    "start_time": "2021-06-16T09:43:05.417Z"
   },
   {
    "duration": 17,
    "start_time": "2021-06-16T09:46:46.137Z"
   },
   {
    "duration": 19,
    "start_time": "2021-06-16T09:46:57.564Z"
   },
   {
    "duration": 19,
    "start_time": "2021-06-16T09:47:29.837Z"
   },
   {
    "duration": 321,
    "start_time": "2021-06-16T09:49:06.116Z"
   },
   {
    "duration": 28,
    "start_time": "2021-06-16T09:49:35.747Z"
   },
   {
    "duration": 17,
    "start_time": "2021-06-16T09:50:08.499Z"
   },
   {
    "duration": 16,
    "start_time": "2021-06-16T09:50:17.853Z"
   },
   {
    "duration": 18,
    "start_time": "2021-06-16T09:50:23.551Z"
   },
   {
    "duration": 46,
    "start_time": "2021-06-16T10:08:53.596Z"
   },
   {
    "duration": 98,
    "start_time": "2021-06-16T10:09:55.014Z"
   },
   {
    "duration": 47,
    "start_time": "2021-06-16T10:10:05.905Z"
   },
   {
    "duration": 19,
    "start_time": "2021-06-16T10:10:12.170Z"
   },
   {
    "duration": 28,
    "start_time": "2021-06-16T10:10:21.576Z"
   },
   {
    "duration": 19,
    "start_time": "2021-06-16T10:14:47.223Z"
   },
   {
    "duration": 334,
    "start_time": "2021-06-16T10:19:25.150Z"
   },
   {
    "duration": 16,
    "start_time": "2021-06-16T10:19:44.463Z"
   },
   {
    "duration": 8,
    "start_time": "2021-06-16T10:21:04.882Z"
   },
   {
    "duration": 6,
    "start_time": "2021-06-16T10:21:20.430Z"
   },
   {
    "duration": 15,
    "start_time": "2021-06-16T10:21:54.105Z"
   },
   {
    "duration": 16,
    "start_time": "2021-06-16T10:23:10.168Z"
   },
   {
    "duration": 16,
    "start_time": "2021-06-16T10:24:40.170Z"
   },
   {
    "duration": 46,
    "start_time": "2021-06-16T10:25:31.571Z"
   },
   {
    "duration": 451,
    "start_time": "2021-06-16T10:52:54.494Z"
   },
   {
    "duration": 22,
    "start_time": "2021-06-16T10:53:04.412Z"
   },
   {
    "duration": 33,
    "start_time": "2021-06-16T10:54:04.060Z"
   },
   {
    "duration": 22,
    "start_time": "2021-06-16T10:54:16.383Z"
   },
   {
    "duration": 54,
    "start_time": "2021-06-16T11:02:00.887Z"
   },
   {
    "duration": 340,
    "start_time": "2021-06-16T11:03:24.535Z"
   },
   {
    "duration": 345,
    "start_time": "2021-06-16T11:03:41.181Z"
   },
   {
    "duration": 23,
    "start_time": "2021-06-16T11:03:58.206Z"
   },
   {
    "duration": 32,
    "start_time": "2021-06-16T11:04:10.973Z"
   },
   {
    "duration": 34,
    "start_time": "2021-06-16T11:04:23.117Z"
   },
   {
    "duration": 33,
    "start_time": "2021-06-16T11:04:42.318Z"
   },
   {
    "duration": 342,
    "start_time": "2021-06-16T11:06:21.752Z"
   },
   {
    "duration": 25,
    "start_time": "2021-06-16T11:06:29.496Z"
   },
   {
    "duration": 25,
    "start_time": "2021-06-16T11:06:44.320Z"
   },
   {
    "duration": 24,
    "start_time": "2021-06-16T11:06:48.121Z"
   },
   {
    "duration": 23,
    "start_time": "2021-06-16T11:06:52.495Z"
   },
   {
    "duration": 24,
    "start_time": "2021-06-16T11:08:23.217Z"
   },
   {
    "duration": 10,
    "start_time": "2021-06-16T11:11:16.676Z"
   },
   {
    "duration": 52,
    "start_time": "2021-06-16T11:18:54.790Z"
   },
   {
    "duration": 55,
    "start_time": "2021-06-16T11:18:58.942Z"
   },
   {
    "duration": 54,
    "start_time": "2021-06-16T11:33:55.449Z"
   },
   {
    "duration": 8,
    "start_time": "2021-06-16T11:41:27.518Z"
   },
   {
    "duration": 12,
    "start_time": "2021-06-16T11:41:40.674Z"
   },
   {
    "duration": 22,
    "start_time": "2021-06-16T11:49:02.682Z"
   },
   {
    "duration": 25,
    "start_time": "2021-06-16T11:49:05.718Z"
   },
   {
    "duration": 45,
    "start_time": "2021-06-16T11:49:21.734Z"
   },
   {
    "duration": 794,
    "start_time": "2021-06-16T12:26:11.729Z"
   },
   {
    "duration": 367,
    "start_time": "2021-06-16T12:29:34.525Z"
   },
   {
    "duration": 4,
    "start_time": "2021-06-16T12:34:42.617Z"
   },
   {
    "duration": 7,
    "start_time": "2021-06-16T12:54:37.599Z"
   },
   {
    "duration": 9,
    "start_time": "2021-06-16T12:54:56.879Z"
   },
   {
    "duration": 347,
    "start_time": "2021-06-16T12:57:31.260Z"
   },
   {
    "duration": 42,
    "start_time": "2021-06-16T12:58:18.357Z"
   },
   {
    "duration": 22,
    "start_time": "2021-06-16T13:11:46.193Z"
   },
   {
    "duration": 94,
    "start_time": "2021-06-16T13:11:54.680Z"
   },
   {
    "duration": 91,
    "start_time": "2021-06-16T13:12:21.089Z"
   },
   {
    "duration": 11,
    "start_time": "2021-06-16T13:12:21.186Z"
   },
   {
    "duration": 36,
    "start_time": "2021-06-16T13:12:21.199Z"
   },
   {
    "duration": 9,
    "start_time": "2021-06-16T13:12:21.238Z"
   },
   {
    "duration": 36,
    "start_time": "2021-06-16T13:12:21.249Z"
   },
   {
    "duration": 4,
    "start_time": "2021-06-16T13:12:21.287Z"
   },
   {
    "duration": 24,
    "start_time": "2021-06-16T13:12:21.293Z"
   },
   {
    "duration": 22,
    "start_time": "2021-06-16T13:12:31.808Z"
   },
   {
    "duration": 54,
    "start_time": "2021-06-16T13:12:36.018Z"
   },
   {
    "duration": 318,
    "start_time": "2021-06-16T18:01:56.507Z"
   },
   {
    "duration": 273,
    "start_time": "2021-06-16T18:02:02.216Z"
   },
   {
    "duration": 1649,
    "start_time": "2021-06-16T18:02:16.369Z"
   },
   {
    "duration": 16,
    "start_time": "2021-06-16T18:02:18.021Z"
   },
   {
    "duration": 35,
    "start_time": "2021-06-16T18:02:18.057Z"
   },
   {
    "duration": 11,
    "start_time": "2021-06-16T18:02:18.095Z"
   },
   {
    "duration": 6,
    "start_time": "2021-06-16T18:02:18.109Z"
   },
   {
    "duration": 4,
    "start_time": "2021-06-16T18:02:18.157Z"
   },
   {
    "duration": 27,
    "start_time": "2021-06-16T18:02:18.165Z"
   },
   {
    "duration": 60,
    "start_time": "2021-06-16T18:02:18.197Z"
   },
   {
    "duration": 80,
    "start_time": "2021-06-16T18:02:18.260Z"
   },
   {
    "duration": 35,
    "start_time": "2021-06-16T18:02:18.357Z"
   },
   {
    "duration": 12,
    "start_time": "2021-06-16T18:02:18.395Z"
   },
   {
    "duration": 98,
    "start_time": "2021-06-16T18:02:18.410Z"
   },
   {
    "duration": 1173,
    "start_time": "2021-06-16T18:02:18.511Z"
   },
   {
    "duration": 4,
    "start_time": "2021-06-16T18:02:19.688Z"
   },
   {
    "duration": 15,
    "start_time": "2021-06-16T18:02:19.695Z"
   },
   {
    "duration": 22,
    "start_time": "2021-06-16T18:02:19.714Z"
   },
   {
    "duration": 15,
    "start_time": "2021-06-16T18:07:55.957Z"
   },
   {
    "duration": 14,
    "start_time": "2021-06-16T18:07:56.763Z"
   },
   {
    "duration": 10,
    "start_time": "2021-06-16T18:07:57.591Z"
   },
   {
    "duration": 10,
    "start_time": "2021-06-16T18:08:00.479Z"
   },
   {
    "duration": 10,
    "start_time": "2021-06-16T18:08:02.847Z"
   },
   {
    "duration": 13,
    "start_time": "2021-06-16T18:08:03.737Z"
   },
   {
    "duration": 19,
    "start_time": "2021-06-16T18:09:43.988Z"
   },
   {
    "duration": 7,
    "start_time": "2021-06-16T18:11:31.877Z"
   },
   {
    "duration": 13,
    "start_time": "2021-06-16T18:11:50.334Z"
   },
   {
    "duration": 13,
    "start_time": "2021-06-16T18:12:30.902Z"
   },
   {
    "duration": 368,
    "start_time": "2021-06-16T18:12:37.263Z"
   },
   {
    "duration": 15,
    "start_time": "2021-06-16T18:12:44.858Z"
   },
   {
    "duration": 15,
    "start_time": "2021-06-16T18:13:05.310Z"
   },
   {
    "duration": 258,
    "start_time": "2021-06-16T18:13:14.734Z"
   },
   {
    "duration": 499,
    "start_time": "2021-06-16T18:13:26.158Z"
   },
   {
    "duration": 415,
    "start_time": "2021-06-16T18:13:29.485Z"
   },
   {
    "duration": 11,
    "start_time": "2021-06-16T18:14:02.293Z"
   },
   {
    "duration": 59,
    "start_time": "2021-06-16T18:14:54.834Z"
   },
   {
    "duration": 43,
    "start_time": "2021-06-16T18:15:33.998Z"
   },
   {
    "duration": 275,
    "start_time": "2021-06-16T18:16:06.096Z"
   },
   {
    "duration": 19,
    "start_time": "2021-06-16T18:17:16.840Z"
   },
   {
    "duration": 16,
    "start_time": "2021-06-16T18:17:32.992Z"
   },
   {
    "duration": 8,
    "start_time": "2021-06-16T18:18:45.043Z"
   },
   {
    "duration": 280,
    "start_time": "2021-06-16T18:18:55.744Z"
   },
   {
    "duration": 265,
    "start_time": "2021-06-16T18:19:07.289Z"
   },
   {
    "duration": 10,
    "start_time": "2021-06-16T18:19:15.395Z"
   },
   {
    "duration": 260,
    "start_time": "2021-06-16T19:44:20.652Z"
   },
   {
    "duration": 9,
    "start_time": "2021-06-16T19:47:06.908Z"
   },
   {
    "duration": 261,
    "start_time": "2021-06-16T19:47:31.996Z"
   },
   {
    "duration": 1215,
    "start_time": "2021-06-16T19:47:58.410Z"
   },
   {
    "duration": 10,
    "start_time": "2021-06-16T19:48:11.574Z"
   },
   {
    "duration": 9,
    "start_time": "2021-06-16T19:48:31.148Z"
   },
   {
    "duration": 278,
    "start_time": "2021-06-16T19:49:28.212Z"
   },
   {
    "duration": 102,
    "start_time": "2021-06-16T19:51:52.980Z"
   },
   {
    "duration": 11,
    "start_time": "2021-06-16T19:51:53.084Z"
   },
   {
    "duration": 34,
    "start_time": "2021-06-16T19:51:53.098Z"
   },
   {
    "duration": 27,
    "start_time": "2021-06-16T19:51:53.134Z"
   },
   {
    "duration": 4,
    "start_time": "2021-06-16T19:51:53.164Z"
   },
   {
    "duration": 7,
    "start_time": "2021-06-16T19:51:53.170Z"
   },
   {
    "duration": 21,
    "start_time": "2021-06-16T19:51:53.179Z"
   },
   {
    "duration": 58,
    "start_time": "2021-06-16T19:51:53.204Z"
   },
   {
    "duration": 52,
    "start_time": "2021-06-16T19:51:53.264Z"
   },
   {
    "duration": 49,
    "start_time": "2021-06-16T19:51:53.319Z"
   },
   {
    "duration": 9,
    "start_time": "2021-06-16T19:51:53.371Z"
   },
   {
    "duration": 45,
    "start_time": "2021-06-16T19:51:53.383Z"
   },
   {
    "duration": 29,
    "start_time": "2021-06-16T19:51:53.430Z"
   },
   {
    "duration": 6,
    "start_time": "2021-06-16T19:51:53.461Z"
   },
   {
    "duration": 23,
    "start_time": "2021-06-16T19:51:53.469Z"
   },
   {
    "duration": 256,
    "start_time": "2021-06-16T19:51:53.495Z"
   },
   {
    "duration": 264,
    "start_time": "2021-06-16T19:59:06.951Z"
   },
   {
    "duration": 1476,
    "start_time": "2021-06-16T19:59:57.930Z"
   },
   {
    "duration": 1286,
    "start_time": "2021-06-16T20:01:59.066Z"
   },
   {
    "duration": 1171,
    "start_time": "2021-06-16T20:02:41.362Z"
   },
   {
    "duration": 1368,
    "start_time": "2021-06-16T20:06:01.524Z"
   },
   {
    "duration": 1225,
    "start_time": "2021-06-16T20:07:06.160Z"
   },
   {
    "duration": 112,
    "start_time": "2021-06-16T20:07:52.394Z"
   },
   {
    "duration": 1194,
    "start_time": "2021-06-16T20:08:03.017Z"
   },
   {
    "duration": 1168,
    "start_time": "2021-06-16T20:09:34.473Z"
   },
   {
    "duration": 3489,
    "start_time": "2021-06-16T20:10:12.409Z"
   },
   {
    "duration": 1146,
    "start_time": "2021-06-17T05:52:28.651Z"
   },
   {
    "duration": 1167,
    "start_time": "2021-06-17T05:53:56.068Z"
   },
   {
    "duration": 1135,
    "start_time": "2021-06-17T05:54:08.673Z"
   },
   {
    "duration": 257,
    "start_time": "2021-06-17T05:54:51.615Z"
   },
   {
    "duration": 984,
    "start_time": "2021-06-17T05:55:50.316Z"
   },
   {
    "duration": 1223,
    "start_time": "2021-06-17T06:27:33.828Z"
   },
   {
    "duration": 11,
    "start_time": "2021-06-17T06:27:50.636Z"
   },
   {
    "duration": 1374,
    "start_time": "2021-06-17T06:29:35.542Z"
   },
   {
    "duration": 1943,
    "start_time": "2021-06-17T06:30:09.768Z"
   },
   {
    "duration": 1366,
    "start_time": "2021-06-17T06:30:17.910Z"
   },
   {
    "duration": 340,
    "start_time": "2021-06-17T06:47:07.918Z"
   },
   {
    "duration": 4338,
    "start_time": "2021-06-17T06:47:34.675Z"
   },
   {
    "duration": 3275,
    "start_time": "2021-06-17T06:49:30.135Z"
   },
   {
    "duration": 1253,
    "start_time": "2021-06-17T06:53:41.929Z"
   },
   {
    "duration": 20091,
    "start_time": "2021-06-17T06:53:49.885Z"
   },
   {
    "duration": 3796,
    "start_time": "2021-06-17T06:57:15.109Z"
   },
   {
    "duration": 4251,
    "start_time": "2021-06-17T06:57:43.310Z"
   },
   {
    "duration": 7875,
    "start_time": "2021-06-17T06:58:05.991Z"
   },
   {
    "duration": 3875,
    "start_time": "2021-06-17T06:58:42.427Z"
   },
   {
    "duration": 4123,
    "start_time": "2021-06-17T06:59:12.332Z"
   },
   {
    "duration": 3866,
    "start_time": "2021-06-17T07:01:56.023Z"
   },
   {
    "duration": 101,
    "start_time": "2021-06-17T07:03:02.628Z"
   },
   {
    "duration": 16016,
    "start_time": "2021-06-17T07:03:08.782Z"
   },
   {
    "duration": 1890,
    "start_time": "2021-06-17T07:04:48.905Z"
   },
   {
    "duration": 96,
    "start_time": "2021-06-17T07:14:44.227Z"
   },
   {
    "duration": 1160,
    "start_time": "2021-06-17T07:15:12.429Z"
   },
   {
    "duration": 1201,
    "start_time": "2021-06-17T07:18:54.745Z"
   },
   {
    "duration": 5171,
    "start_time": "2021-06-17T07:19:57.563Z"
   },
   {
    "duration": 3761,
    "start_time": "2021-06-17T07:20:21.269Z"
   },
   {
    "duration": 80,
    "start_time": "2021-06-17T07:31:28.525Z"
   },
   {
    "duration": 85,
    "start_time": "2021-06-17T07:31:53.360Z"
   },
   {
    "duration": 98,
    "start_time": "2021-06-17T07:32:03.675Z"
   },
   {
    "duration": 92,
    "start_time": "2021-06-17T07:32:16.790Z"
   },
   {
    "duration": 4124,
    "start_time": "2021-06-17T07:32:31.310Z"
   },
   {
    "duration": 3820,
    "start_time": "2021-06-17T07:32:46.416Z"
   },
   {
    "duration": 4169,
    "start_time": "2021-06-17T07:32:59.588Z"
   },
   {
    "duration": 4129,
    "start_time": "2021-06-17T07:33:15.640Z"
   },
   {
    "duration": 3883,
    "start_time": "2021-06-17T07:50:02.918Z"
   },
   {
    "duration": 3864,
    "start_time": "2021-06-17T07:50:27.486Z"
   },
   {
    "duration": 3999,
    "start_time": "2021-06-17T07:51:13.474Z"
   },
   {
    "duration": 4382,
    "start_time": "2021-06-17T07:55:46.138Z"
   },
   {
    "duration": 4201,
    "start_time": "2021-06-17T07:57:55.412Z"
   },
   {
    "duration": 3966,
    "start_time": "2021-06-17T07:58:21.094Z"
   },
   {
    "duration": 7707,
    "start_time": "2021-06-17T07:59:13.459Z"
   },
   {
    "duration": 7189,
    "start_time": "2021-06-17T07:59:41.682Z"
   },
   {
    "duration": 11,
    "start_time": "2021-06-17T08:00:23.993Z"
   },
   {
    "duration": 3894,
    "start_time": "2021-06-17T08:01:05.335Z"
   },
   {
    "duration": 3934,
    "start_time": "2021-06-17T08:01:32.057Z"
   },
   {
    "duration": 4120,
    "start_time": "2021-06-17T08:02:20.025Z"
   },
   {
    "duration": 4081,
    "start_time": "2021-06-17T08:02:39.525Z"
   },
   {
    "duration": 3832,
    "start_time": "2021-06-17T08:02:59.628Z"
   },
   {
    "duration": 104,
    "start_time": "2021-06-17T08:04:28.750Z"
   },
   {
    "duration": 3187,
    "start_time": "2021-06-17T08:04:59.930Z"
   },
   {
    "duration": 4027,
    "start_time": "2021-06-17T08:06:22.441Z"
   },
   {
    "duration": 9121,
    "start_time": "2021-06-17T08:06:56.220Z"
   },
   {
    "duration": 4213,
    "start_time": "2021-06-17T08:07:18.325Z"
   },
   {
    "duration": 4097,
    "start_time": "2021-06-17T08:07:33.934Z"
   },
   {
    "duration": 8,
    "start_time": "2021-06-17T08:11:13.815Z"
   },
   {
    "duration": 8,
    "start_time": "2021-06-17T08:11:35.035Z"
   },
   {
    "duration": 9,
    "start_time": "2021-06-17T08:11:57.214Z"
   },
   {
    "duration": 9,
    "start_time": "2021-06-17T08:12:13.725Z"
   },
   {
    "duration": 3784,
    "start_time": "2021-06-17T08:14:47.057Z"
   },
   {
    "duration": 4396,
    "start_time": "2021-06-17T08:24:25.907Z"
   },
   {
    "duration": 9,
    "start_time": "2021-06-17T08:26:19.716Z"
   },
   {
    "duration": 13,
    "start_time": "2021-06-17T08:26:25.477Z"
   },
   {
    "duration": 13,
    "start_time": "2021-06-17T08:28:53.398Z"
   },
   {
    "duration": 4473,
    "start_time": "2021-06-17T08:29:07.964Z"
   },
   {
    "duration": 1182,
    "start_time": "2021-06-17T08:30:56.086Z"
   },
   {
    "duration": 1203,
    "start_time": "2021-06-17T08:31:47.689Z"
   },
   {
    "duration": 1212,
    "start_time": "2021-06-17T08:36:24.370Z"
   },
   {
    "duration": 1203,
    "start_time": "2021-06-17T08:37:00.898Z"
   },
   {
    "duration": 5552,
    "start_time": "2021-06-17T08:37:37.991Z"
   },
   {
    "duration": 92,
    "start_time": "2021-06-17T08:38:36.390Z"
   },
   {
    "duration": 10,
    "start_time": "2021-06-17T08:38:44.313Z"
   },
   {
    "duration": 12,
    "start_time": "2021-06-17T08:40:42.186Z"
   },
   {
    "duration": 18,
    "start_time": "2021-06-17T08:41:28.179Z"
   },
   {
    "duration": 11,
    "start_time": "2021-06-17T08:42:39.883Z"
   },
   {
    "duration": 12,
    "start_time": "2021-06-17T09:06:11.652Z"
   },
   {
    "duration": 11,
    "start_time": "2021-06-17T09:06:21.582Z"
   },
   {
    "duration": 12,
    "start_time": "2021-06-17T09:07:09.091Z"
   },
   {
    "duration": 12,
    "start_time": "2021-06-17T09:23:32.922Z"
   },
   {
    "duration": 13,
    "start_time": "2021-06-17T09:24:00.446Z"
   },
   {
    "duration": 91,
    "start_time": "2021-06-17T10:40:49.385Z"
   },
   {
    "duration": 14,
    "start_time": "2021-06-17T10:41:19.811Z"
   },
   {
    "duration": 27,
    "start_time": "2021-06-17T10:43:20.550Z"
   },
   {
    "duration": 14,
    "start_time": "2021-06-17T10:44:00.023Z"
   },
   {
    "duration": 14,
    "start_time": "2021-06-17T10:46:16.410Z"
   },
   {
    "duration": 14,
    "start_time": "2021-06-17T10:47:20.580Z"
   },
   {
    "duration": 15,
    "start_time": "2021-06-17T10:47:45.770Z"
   },
   {
    "duration": 15,
    "start_time": "2021-06-17T10:47:50.327Z"
   },
   {
    "duration": 14,
    "start_time": "2021-06-17T10:50:13.323Z"
   },
   {
    "duration": 15,
    "start_time": "2021-06-17T10:51:50.327Z"
   },
   {
    "duration": 15,
    "start_time": "2021-06-17T10:53:03.741Z"
   },
   {
    "duration": 39052,
    "start_time": "2021-06-17T10:55:36.378Z"
   },
   {
    "duration": 33557,
    "start_time": "2021-06-17T10:56:49.672Z"
   },
   {
    "duration": 5470,
    "start_time": "2021-06-17T10:58:05.125Z"
   },
   {
    "duration": 1116,
    "start_time": "2021-06-17T10:59:33.372Z"
   },
   {
    "duration": 5394,
    "start_time": "2021-06-17T11:01:23.762Z"
   },
   {
    "duration": 297,
    "start_time": "2021-06-17T11:05:49.984Z"
   },
   {
    "duration": 51,
    "start_time": "2021-06-17T11:12:19.874Z"
   },
   {
    "duration": 52,
    "start_time": "2021-06-17T11:13:33.059Z"
   },
   {
    "duration": 15,
    "start_time": "2021-06-17T11:14:03.473Z"
   },
   {
    "duration": 15,
    "start_time": "2021-06-17T11:14:55.411Z"
   },
   {
    "duration": 16,
    "start_time": "2021-06-17T11:15:32.793Z"
   },
   {
    "duration": 13519,
    "start_time": "2021-06-17T11:16:44.994Z"
   },
   {
    "duration": 20,
    "start_time": "2021-06-17T11:18:44.706Z"
   },
   {
    "duration": 20,
    "start_time": "2021-06-17T11:19:32.976Z"
   },
   {
    "duration": 28,
    "start_time": "2021-06-17T11:19:49.863Z"
   },
   {
    "duration": 110,
    "start_time": "2021-06-17T11:21:03.697Z"
   },
   {
    "duration": 14,
    "start_time": "2021-06-17T11:21:03.811Z"
   },
   {
    "duration": 70,
    "start_time": "2021-06-17T11:21:03.829Z"
   },
   {
    "duration": 9,
    "start_time": "2021-06-17T11:21:03.901Z"
   },
   {
    "duration": 45,
    "start_time": "2021-06-17T11:21:03.912Z"
   },
   {
    "duration": 17,
    "start_time": "2021-06-17T11:21:03.962Z"
   },
   {
    "duration": 24,
    "start_time": "2021-06-17T11:21:03.981Z"
   },
   {
    "duration": 55,
    "start_time": "2021-06-17T11:21:04.009Z"
   },
   {
    "duration": 53,
    "start_time": "2021-06-17T11:21:04.066Z"
   },
   {
    "duration": 64,
    "start_time": "2021-06-17T11:21:04.122Z"
   },
   {
    "duration": 13,
    "start_time": "2021-06-17T11:21:04.190Z"
   },
   {
    "duration": 98,
    "start_time": "2021-06-17T11:21:04.207Z"
   },
   {
    "duration": 4,
    "start_time": "2021-06-17T11:21:04.308Z"
   },
   {
    "duration": 29,
    "start_time": "2021-06-17T11:21:04.315Z"
   },
   {
    "duration": 25,
    "start_time": "2021-06-17T11:21:04.346Z"
   },
   {
    "duration": 12473,
    "start_time": "2021-06-17T11:21:28.946Z"
   },
   {
    "duration": 5618,
    "start_time": "2021-06-17T11:21:54.158Z"
   },
   {
    "duration": 5747,
    "start_time": "2021-06-17T11:22:24.706Z"
   },
   {
    "duration": 16,
    "start_time": "2021-06-17T11:26:00.869Z"
   },
   {
    "duration": 22,
    "start_time": "2021-06-17T11:26:25.788Z"
   },
   {
    "duration": 21,
    "start_time": "2021-06-17T11:26:34.004Z"
   },
   {
    "duration": 23,
    "start_time": "2021-06-17T11:27:09.315Z"
   },
   {
    "duration": 26,
    "start_time": "2021-06-17T11:27:41.989Z"
   },
   {
    "duration": 22,
    "start_time": "2021-06-17T11:28:46.336Z"
   },
   {
    "duration": 24,
    "start_time": "2021-06-17T11:29:19.582Z"
   },
   {
    "duration": 18,
    "start_time": "2021-06-17T11:30:24.116Z"
   },
   {
    "duration": 20,
    "start_time": "2021-06-17T11:30:35.304Z"
   },
   {
    "duration": 20,
    "start_time": "2021-06-17T11:30:51.797Z"
   },
   {
    "duration": 5417,
    "start_time": "2021-06-17T11:31:13.650Z"
   },
   {
    "duration": 15,
    "start_time": "2021-06-17T11:40:30.788Z"
   },
   {
    "duration": 15,
    "start_time": "2021-06-17T11:40:54.801Z"
   },
   {
    "duration": 15,
    "start_time": "2021-06-17T11:41:32.490Z"
   },
   {
    "duration": 16,
    "start_time": "2021-06-17T11:42:10.233Z"
   },
   {
    "duration": 15,
    "start_time": "2021-06-17T11:43:31.033Z"
   },
   {
    "duration": 25,
    "start_time": "2021-06-17T11:47:06.541Z"
   },
   {
    "duration": 627,
    "start_time": "2021-06-17T11:48:17.905Z"
   },
   {
    "duration": 17,
    "start_time": "2021-06-17T11:48:50.032Z"
   },
   {
    "duration": 608,
    "start_time": "2021-06-17T11:49:15.091Z"
   },
   {
    "duration": 602,
    "start_time": "2021-06-17T11:53:56.905Z"
   },
   {
    "duration": 605,
    "start_time": "2021-06-17T11:55:04.932Z"
   },
   {
    "duration": 616,
    "start_time": "2021-06-17T11:55:46.724Z"
   },
   {
    "duration": 656,
    "start_time": "2021-06-17T11:58:08.573Z"
   },
   {
    "duration": 4,
    "start_time": "2021-06-17T11:59:24.748Z"
   },
   {
    "duration": 580,
    "start_time": "2021-06-17T11:59:35.498Z"
   },
   {
    "duration": 592,
    "start_time": "2021-06-17T12:00:02.817Z"
   },
   {
    "duration": 633,
    "start_time": "2021-06-17T12:00:21.989Z"
   },
   {
    "duration": 617,
    "start_time": "2021-06-17T12:03:57.092Z"
   },
   {
    "duration": 592,
    "start_time": "2021-06-17T12:04:15.465Z"
   },
   {
    "duration": 598,
    "start_time": "2021-06-17T12:06:39.893Z"
   },
   {
    "duration": 583,
    "start_time": "2021-06-17T12:08:14.462Z"
   },
   {
    "duration": 17,
    "start_time": "2021-06-17T12:08:36.560Z"
   },
   {
    "duration": 705,
    "start_time": "2021-06-17T12:23:31.248Z"
   },
   {
    "duration": 16,
    "start_time": "2021-06-17T12:23:53.302Z"
   },
   {
    "duration": 17,
    "start_time": "2021-06-17T12:24:52.207Z"
   },
   {
    "duration": 17,
    "start_time": "2021-06-17T12:27:35.526Z"
   },
   {
    "duration": 27,
    "start_time": "2021-06-17T12:28:37.788Z"
   },
   {
    "duration": 636,
    "start_time": "2021-06-17T12:29:00.544Z"
   },
   {
    "duration": 15,
    "start_time": "2021-06-17T12:29:13.184Z"
   },
   {
    "duration": 15,
    "start_time": "2021-06-17T12:30:11.495Z"
   },
   {
    "duration": 17,
    "start_time": "2021-06-17T12:31:05.478Z"
   },
   {
    "duration": 20,
    "start_time": "2021-06-17T12:32:52.355Z"
   },
   {
    "duration": 6019,
    "start_time": "2021-06-17T12:33:10.054Z"
   },
   {
    "duration": 16,
    "start_time": "2021-06-17T12:35:33.189Z"
   },
   {
    "duration": 17,
    "start_time": "2021-06-17T12:35:50.433Z"
   },
   {
    "duration": 17,
    "start_time": "2021-06-17T12:36:30.800Z"
   },
   {
    "duration": 18,
    "start_time": "2021-06-17T12:37:26.666Z"
   },
   {
    "duration": 23,
    "start_time": "2021-06-17T12:37:47.664Z"
   },
   {
    "duration": 17,
    "start_time": "2021-06-17T12:38:20.910Z"
   },
   {
    "duration": 17,
    "start_time": "2021-06-17T12:38:50.372Z"
   },
   {
    "duration": 21,
    "start_time": "2021-06-17T12:39:40.216Z"
   },
   {
    "duration": 98,
    "start_time": "2021-06-17T12:40:25.139Z"
   },
   {
    "duration": 11,
    "start_time": "2021-06-17T12:40:25.257Z"
   },
   {
    "duration": 40,
    "start_time": "2021-06-17T12:40:25.272Z"
   },
   {
    "duration": 44,
    "start_time": "2021-06-17T12:40:25.314Z"
   },
   {
    "duration": 13,
    "start_time": "2021-06-17T12:40:25.360Z"
   },
   {
    "duration": 21,
    "start_time": "2021-06-17T12:40:25.375Z"
   },
   {
    "duration": 27,
    "start_time": "2021-06-17T12:40:25.399Z"
   },
   {
    "duration": 21,
    "start_time": "2021-06-17T12:40:25.458Z"
   },
   {
    "duration": 89,
    "start_time": "2021-06-17T12:40:25.482Z"
   },
   {
    "duration": 25,
    "start_time": "2021-06-17T12:40:25.573Z"
   },
   {
    "duration": 9,
    "start_time": "2021-06-17T12:40:25.601Z"
   },
   {
    "duration": 78,
    "start_time": "2021-06-17T12:40:25.612Z"
   },
   {
    "duration": 3,
    "start_time": "2021-06-17T12:40:25.693Z"
   },
   {
    "duration": 20,
    "start_time": "2021-06-17T12:40:25.699Z"
   },
   {
    "duration": 10,
    "start_time": "2021-06-17T12:40:25.756Z"
   },
   {
    "duration": 21,
    "start_time": "2021-06-17T12:40:38.677Z"
   },
   {
    "duration": 23,
    "start_time": "2021-06-17T12:42:16.685Z"
   },
   {
    "duration": 13141,
    "start_time": "2021-06-17T12:42:39.324Z"
   },
   {
    "duration": 13668,
    "start_time": "2021-06-17T12:42:54.516Z"
   },
   {
    "duration": 6377,
    "start_time": "2021-06-17T12:43:20.653Z"
   },
   {
    "duration": 5874,
    "start_time": "2021-06-17T12:43:45.444Z"
   },
   {
    "duration": 5862,
    "start_time": "2021-06-17T12:44:16.050Z"
   },
   {
    "duration": 5982,
    "start_time": "2021-06-17T12:45:05.710Z"
   },
   {
    "duration": 6100,
    "start_time": "2021-06-17T12:46:22.549Z"
   },
   {
    "duration": 293,
    "start_time": "2021-06-17T13:00:42.544Z"
   },
   {
    "duration": 273,
    "start_time": "2021-06-17T13:02:14.445Z"
   },
   {
    "duration": 267,
    "start_time": "2021-06-17T13:02:37.449Z"
   },
   {
    "duration": 265,
    "start_time": "2021-06-17T13:02:42.733Z"
   },
   {
    "duration": 261,
    "start_time": "2021-06-17T13:03:05.657Z"
   },
   {
    "duration": 27,
    "start_time": "2021-06-17T13:03:34.257Z"
   },
   {
    "duration": 6232,
    "start_time": "2021-06-17T13:18:50.116Z"
   },
   {
    "duration": 29,
    "start_time": "2021-06-17T13:19:06.883Z"
   },
   {
    "duration": 6640,
    "start_time": "2021-06-17T13:19:49.582Z"
   },
   {
    "duration": 27,
    "start_time": "2021-06-17T13:20:42.858Z"
   },
   {
    "duration": 22,
    "start_time": "2021-06-17T13:22:20.674Z"
   },
   {
    "duration": 6322,
    "start_time": "2021-06-17T13:24:10.035Z"
   },
   {
    "duration": 6097,
    "start_time": "2021-06-17T13:24:49.164Z"
   },
   {
    "duration": 28,
    "start_time": "2021-06-17T13:25:27.899Z"
   },
   {
    "duration": 32,
    "start_time": "2021-06-17T13:25:44.633Z"
   },
   {
    "duration": 24,
    "start_time": "2021-06-17T13:26:10.042Z"
   },
   {
    "duration": 24,
    "start_time": "2021-06-17T13:26:22.278Z"
   },
   {
    "duration": 6655,
    "start_time": "2021-06-17T16:30:44.180Z"
   },
   {
    "duration": 361,
    "start_time": "2021-06-17T16:31:18.616Z"
   },
   {
    "duration": 272,
    "start_time": "2021-06-17T16:31:34.216Z"
   },
   {
    "duration": 269,
    "start_time": "2021-06-17T17:17:09.006Z"
   },
   {
    "duration": 528,
    "start_time": "2021-06-17T17:17:24.518Z"
   },
   {
    "duration": 6053,
    "start_time": "2021-06-17T17:29:35.427Z"
   },
   {
    "duration": 21,
    "start_time": "2021-06-17T17:29:59.832Z"
   },
   {
    "duration": 39,
    "start_time": "2021-06-17T17:30:13.145Z"
   },
   {
    "duration": 6874,
    "start_time": "2021-06-17T17:35:52.147Z"
   },
   {
    "duration": 27,
    "start_time": "2021-06-17T17:36:54.057Z"
   },
   {
    "duration": 6345,
    "start_time": "2021-06-17T17:38:23.764Z"
   },
   {
    "duration": 6863,
    "start_time": "2021-06-17T17:40:09.896Z"
   },
   {
    "duration": 6300,
    "start_time": "2021-06-17T17:40:40.097Z"
   },
   {
    "duration": 6021,
    "start_time": "2021-06-17T17:41:00.891Z"
   },
   {
    "duration": 33,
    "start_time": "2021-06-17T17:42:33.145Z"
   },
   {
    "duration": 6790,
    "start_time": "2021-06-17T17:42:56.346Z"
   },
   {
    "duration": 32,
    "start_time": "2021-06-17T17:43:36.995Z"
   },
   {
    "duration": 29,
    "start_time": "2021-06-17T17:45:20.171Z"
   },
   {
    "duration": 284,
    "start_time": "2021-06-17T17:45:31.172Z"
   },
   {
    "duration": 28,
    "start_time": "2021-06-17T17:45:45.757Z"
   },
   {
    "duration": 25,
    "start_time": "2021-06-17T17:45:59.788Z"
   },
   {
    "duration": 24,
    "start_time": "2021-06-17T17:46:07.309Z"
   },
   {
    "duration": 6548,
    "start_time": "2021-06-17T17:46:39.901Z"
   },
   {
    "duration": 52,
    "start_time": "2021-06-17T17:46:57.264Z"
   },
   {
    "duration": 40,
    "start_time": "2021-06-17T18:12:01.604Z"
   },
   {
    "duration": 41,
    "start_time": "2021-06-17T18:12:54.888Z"
   },
   {
    "duration": 73,
    "start_time": "2021-06-17T18:15:31.814Z"
   },
   {
    "duration": 61,
    "start_time": "2021-06-17T18:17:24.579Z"
   },
   {
    "duration": 60,
    "start_time": "2021-06-17T18:17:37.066Z"
   },
   {
    "duration": 67,
    "start_time": "2021-06-17T18:17:55.426Z"
   },
   {
    "duration": 74,
    "start_time": "2021-06-17T18:18:15.051Z"
   },
   {
    "duration": 121,
    "start_time": "2021-06-17T18:36:01.860Z"
   },
   {
    "duration": 107,
    "start_time": "2021-06-17T18:36:31.292Z"
   },
   {
    "duration": 113,
    "start_time": "2021-06-17T18:36:36.661Z"
   },
   {
    "duration": 63,
    "start_time": "2021-06-17T18:37:03.045Z"
   },
   {
    "duration": 66,
    "start_time": "2021-06-17T18:37:36.964Z"
   },
   {
    "duration": 66,
    "start_time": "2021-06-17T18:37:54.707Z"
   },
   {
    "duration": 148,
    "start_time": "2021-06-17T18:38:14.376Z"
   },
   {
    "duration": 72,
    "start_time": "2021-06-17T18:38:27.783Z"
   },
   {
    "duration": 51,
    "start_time": "2021-06-17T19:19:35.145Z"
   },
   {
    "duration": 84,
    "start_time": "2021-06-17T19:30:33.333Z"
   },
   {
    "duration": 315,
    "start_time": "2021-06-17T19:30:45.634Z"
   },
   {
    "duration": 50,
    "start_time": "2021-06-17T19:31:48.511Z"
   },
   {
    "duration": 27,
    "start_time": "2021-06-17T19:32:29.750Z"
   },
   {
    "duration": 62,
    "start_time": "2021-06-17T19:33:11.025Z"
   },
   {
    "duration": 51,
    "start_time": "2021-06-17T19:33:51.529Z"
   },
   {
    "duration": 96,
    "start_time": "2021-06-17T19:40:37.569Z"
   },
   {
    "duration": 11,
    "start_time": "2021-06-17T19:40:37.668Z"
   },
   {
    "duration": 38,
    "start_time": "2021-06-17T19:40:37.683Z"
   },
   {
    "duration": 3,
    "start_time": "2021-06-17T19:40:37.724Z"
   },
   {
    "duration": 10,
    "start_time": "2021-06-17T19:40:37.757Z"
   },
   {
    "duration": 4,
    "start_time": "2021-06-17T19:40:37.770Z"
   },
   {
    "duration": 8,
    "start_time": "2021-06-17T19:40:37.776Z"
   },
   {
    "duration": 69,
    "start_time": "2021-06-17T19:40:37.787Z"
   },
   {
    "duration": 22,
    "start_time": "2021-06-17T19:40:37.859Z"
   },
   {
    "duration": 78,
    "start_time": "2021-06-17T19:40:37.884Z"
   },
   {
    "duration": 23,
    "start_time": "2021-06-17T19:40:37.965Z"
   },
   {
    "duration": 9,
    "start_time": "2021-06-17T19:40:37.991Z"
   },
   {
    "duration": 79,
    "start_time": "2021-06-17T19:40:38.003Z"
   },
   {
    "duration": 3,
    "start_time": "2021-06-17T19:40:38.085Z"
   },
   {
    "duration": 11,
    "start_time": "2021-06-17T19:40:38.091Z"
   },
   {
    "duration": 14,
    "start_time": "2021-06-17T19:40:38.105Z"
   },
   {
    "duration": 5887,
    "start_time": "2021-06-17T19:40:38.122Z"
   },
   {
    "duration": 3,
    "start_time": "2021-06-17T19:40:44.012Z"
   },
   {
    "duration": 69,
    "start_time": "2021-06-17T19:40:44.017Z"
   },
   {
    "duration": 35,
    "start_time": "2021-06-17T19:40:44.088Z"
   },
   {
    "duration": 53,
    "start_time": "2021-06-17T19:40:44.125Z"
   },
   {
    "duration": 26,
    "start_time": "2021-06-17T19:40:44.180Z"
   },
   {
    "duration": 117,
    "start_time": "2021-06-17T19:40:44.208Z"
   },
   {
    "duration": 15,
    "start_time": "2021-06-17T19:43:06.217Z"
   },
   {
    "duration": 60,
    "start_time": "2021-06-17T19:47:25.061Z"
   },
   {
    "duration": 28,
    "start_time": "2021-06-17T19:47:33.889Z"
   },
   {
    "duration": 30,
    "start_time": "2021-06-17T19:54:07.136Z"
   },
   {
    "duration": 72,
    "start_time": "2021-06-17T20:13:44.256Z"
   },
   {
    "duration": 58,
    "start_time": "2021-06-17T20:14:27.321Z"
   },
   {
    "duration": 50,
    "start_time": "2021-06-17T20:15:00.246Z"
   },
   {
    "duration": 48,
    "start_time": "2021-06-17T20:15:18.292Z"
   },
   {
    "duration": 49,
    "start_time": "2021-06-17T20:15:35.989Z"
   },
   {
    "duration": 46,
    "start_time": "2021-06-17T20:15:52.715Z"
   },
   {
    "duration": 38,
    "start_time": "2021-06-17T20:16:30.136Z"
   },
   {
    "duration": 107,
    "start_time": "2021-06-17T20:31:26.421Z"
   },
   {
    "duration": 31,
    "start_time": "2021-06-17T20:31:26.531Z"
   },
   {
    "duration": 33,
    "start_time": "2021-06-17T20:31:26.565Z"
   },
   {
    "duration": 2,
    "start_time": "2021-06-17T20:31:26.601Z"
   },
   {
    "duration": 13,
    "start_time": "2021-06-17T20:31:26.606Z"
   },
   {
    "duration": 36,
    "start_time": "2021-06-17T20:31:26.621Z"
   },
   {
    "duration": 4,
    "start_time": "2021-06-17T20:31:26.659Z"
   },
   {
    "duration": 18,
    "start_time": "2021-06-17T20:31:26.666Z"
   },
   {
    "duration": 20,
    "start_time": "2021-06-17T20:31:26.687Z"
   },
   {
    "duration": 97,
    "start_time": "2021-06-17T20:31:26.709Z"
   },
   {
    "duration": 54,
    "start_time": "2021-06-17T20:31:26.808Z"
   },
   {
    "duration": 9,
    "start_time": "2021-06-17T20:31:26.865Z"
   },
   {
    "duration": 41,
    "start_time": "2021-06-17T20:31:26.876Z"
   },
   {
    "duration": 37,
    "start_time": "2021-06-17T20:31:26.919Z"
   },
   {
    "duration": 4,
    "start_time": "2021-06-17T20:31:26.958Z"
   },
   {
    "duration": 12,
    "start_time": "2021-06-17T20:31:26.965Z"
   },
   {
    "duration": 5876,
    "start_time": "2021-06-17T20:31:26.980Z"
   },
   {
    "duration": 3,
    "start_time": "2021-06-17T20:31:32.859Z"
   },
   {
    "duration": 60,
    "start_time": "2021-06-17T20:31:32.864Z"
   },
   {
    "duration": 36,
    "start_time": "2021-06-17T20:31:32.926Z"
   },
   {
    "duration": 38,
    "start_time": "2021-06-17T20:31:32.965Z"
   },
   {
    "duration": 61,
    "start_time": "2021-06-17T20:31:33.007Z"
   },
   {
    "duration": 31,
    "start_time": "2021-06-17T20:31:33.072Z"
   },
   {
    "duration": 65,
    "start_time": "2021-06-17T20:31:33.107Z"
   },
   {
    "duration": 45,
    "start_time": "2021-06-17T20:31:33.174Z"
   },
   {
    "duration": 99,
    "start_time": "2021-06-17T20:41:09.899Z"
   },
   {
    "duration": 10,
    "start_time": "2021-06-17T20:41:10.001Z"
   },
   {
    "duration": 61,
    "start_time": "2021-06-17T20:41:10.014Z"
   },
   {
    "duration": 3,
    "start_time": "2021-06-17T20:41:10.078Z"
   },
   {
    "duration": 20,
    "start_time": "2021-06-17T20:41:10.083Z"
   },
   {
    "duration": 19,
    "start_time": "2021-06-17T20:41:10.105Z"
   },
   {
    "duration": 9,
    "start_time": "2021-06-17T20:41:10.126Z"
   },
   {
    "duration": 40,
    "start_time": "2021-06-17T20:41:10.139Z"
   },
   {
    "duration": 22,
    "start_time": "2021-06-17T20:41:10.181Z"
   },
   {
    "duration": 79,
    "start_time": "2021-06-17T20:41:10.206Z"
   },
   {
    "duration": 25,
    "start_time": "2021-06-17T20:41:10.287Z"
   },
   {
    "duration": 43,
    "start_time": "2021-06-17T20:41:10.314Z"
   },
   {
    "duration": 41,
    "start_time": "2021-06-17T20:41:10.359Z"
   },
   {
    "duration": 4,
    "start_time": "2021-06-17T20:41:10.402Z"
   },
   {
    "duration": 8,
    "start_time": "2021-06-17T20:41:10.409Z"
   },
   {
    "duration": 44,
    "start_time": "2021-06-17T20:41:10.419Z"
   },
   {
    "duration": 1064,
    "start_time": "2021-06-17T20:41:10.465Z"
   },
   {
    "duration": 3805,
    "start_time": "2021-06-17T20:42:49.967Z"
   },
   {
    "duration": 3802,
    "start_time": "2021-06-17T20:48:37.107Z"
   },
   {
    "duration": 262,
    "start_time": "2021-06-17T20:50:30.201Z"
   },
   {
    "duration": 6,
    "start_time": "2021-06-17T20:51:19.626Z"
   },
   {
    "duration": 5,
    "start_time": "2021-06-17T20:51:33.758Z"
   },
   {
    "duration": 7,
    "start_time": "2021-06-17T20:51:44.601Z"
   },
   {
    "duration": 5,
    "start_time": "2021-06-17T20:52:30.143Z"
   },
   {
    "duration": 10091,
    "start_time": "2021-06-17T20:52:45.549Z"
   },
   {
    "duration": 361,
    "start_time": "2021-06-18T05:28:56.242Z"
   },
   {
    "duration": 866,
    "start_time": "2021-06-18T05:29:13.962Z"
   },
   {
    "duration": 11,
    "start_time": "2021-06-18T05:29:14.830Z"
   },
   {
    "duration": 51,
    "start_time": "2021-06-18T05:29:14.844Z"
   },
   {
    "duration": 3,
    "start_time": "2021-06-18T05:29:14.897Z"
   },
   {
    "duration": 14,
    "start_time": "2021-06-18T05:29:17.795Z"
   },
   {
    "duration": 12,
    "start_time": "2021-06-18T05:29:32.099Z"
   },
   {
    "duration": 11,
    "start_time": "2021-06-18T05:32:09.433Z"
   },
   {
    "duration": 32,
    "start_time": "2021-06-18T05:32:25.952Z"
   },
   {
    "duration": 33,
    "start_time": "2021-06-18T05:33:59.100Z"
   },
   {
    "duration": 35,
    "start_time": "2021-06-18T05:34:07.808Z"
   },
   {
    "duration": 36,
    "start_time": "2021-06-18T05:34:51.252Z"
   },
   {
    "duration": 3,
    "start_time": "2021-06-18T05:36:11.595Z"
   },
   {
    "duration": 37,
    "start_time": "2021-06-18T05:37:51.704Z"
   },
   {
    "duration": 19,
    "start_time": "2021-06-18T05:39:48.822Z"
   },
   {
    "duration": 36,
    "start_time": "2021-06-18T05:40:40.222Z"
   },
   {
    "duration": 32,
    "start_time": "2021-06-18T05:40:53.731Z"
   },
   {
    "duration": 21,
    "start_time": "2021-06-18T05:53:39.606Z"
   },
   {
    "duration": 34,
    "start_time": "2021-06-18T06:04:34.203Z"
   },
   {
    "duration": 10,
    "start_time": "2021-06-18T06:05:00.007Z"
   },
   {
    "duration": 10,
    "start_time": "2021-06-18T06:05:07.149Z"
   },
   {
    "duration": 366,
    "start_time": "2021-06-18T06:05:28.241Z"
   },
   {
    "duration": 37,
    "start_time": "2021-06-18T06:05:46.172Z"
   },
   {
    "duration": 10,
    "start_time": "2021-06-18T06:07:09.444Z"
   },
   {
    "duration": 32,
    "start_time": "2021-06-18T06:11:49.743Z"
   },
   {
    "duration": 330,
    "start_time": "2021-06-18T06:13:16.490Z"
   },
   {
    "duration": 12,
    "start_time": "2021-06-18T06:13:33.628Z"
   },
   {
    "duration": 108,
    "start_time": "2021-06-18T06:14:01.577Z"
   },
   {
    "duration": 353,
    "start_time": "2021-06-18T06:14:07.311Z"
   },
   {
    "duration": 11,
    "start_time": "2021-06-18T06:14:34.316Z"
   },
   {
    "duration": 10,
    "start_time": "2021-06-18T06:15:22.247Z"
   },
   {
    "duration": 10,
    "start_time": "2021-06-18T06:20:43.133Z"
   },
   {
    "duration": 9,
    "start_time": "2021-06-18T06:21:50.607Z"
   },
   {
    "duration": 35,
    "start_time": "2021-06-18T06:21:57.933Z"
   },
   {
    "duration": 10,
    "start_time": "2021-06-18T06:22:20.031Z"
   },
   {
    "duration": 35,
    "start_time": "2021-06-18T06:29:58.331Z"
   },
   {
    "duration": 13,
    "start_time": "2021-06-18T06:33:11.766Z"
   },
   {
    "duration": 95,
    "start_time": "2021-06-18T06:59:13.350Z"
   },
   {
    "duration": 13,
    "start_time": "2021-06-18T06:59:13.448Z"
   },
   {
    "duration": 36,
    "start_time": "2021-06-18T06:59:13.485Z"
   },
   {
    "duration": 4,
    "start_time": "2021-06-18T06:59:13.525Z"
   },
   {
    "duration": 55,
    "start_time": "2021-06-18T06:59:13.532Z"
   },
   {
    "duration": 11,
    "start_time": "2021-06-18T06:59:13.590Z"
   },
   {
    "duration": 8,
    "start_time": "2021-06-18T06:59:13.604Z"
   },
   {
    "duration": 75,
    "start_time": "2021-06-18T06:59:13.617Z"
   },
   {
    "duration": 13,
    "start_time": "2021-06-18T06:59:13.696Z"
   },
   {
    "duration": 11,
    "start_time": "2021-06-18T06:59:13.712Z"
   },
   {
    "duration": 80,
    "start_time": "2021-06-18T06:59:13.726Z"
   },
   {
    "duration": 11,
    "start_time": "2021-06-18T06:59:13.808Z"
   },
   {
    "duration": 16,
    "start_time": "2021-06-18T06:59:13.822Z"
   },
   {
    "duration": 55,
    "start_time": "2021-06-18T06:59:13.840Z"
   },
   {
    "duration": 51,
    "start_time": "2021-06-18T06:59:13.897Z"
   },
   {
    "duration": 51,
    "start_time": "2021-06-18T06:59:13.951Z"
   },
   {
    "duration": 9,
    "start_time": "2021-06-18T06:59:14.005Z"
   },
   {
    "duration": 36,
    "start_time": "2021-06-18T06:59:14.016Z"
   },
   {
    "duration": 736,
    "start_time": "2021-06-18T06:59:14.055Z"
   },
   {
    "duration": 11,
    "start_time": "2021-06-18T06:59:14.796Z"
   },
   {
    "duration": 5363,
    "start_time": "2021-06-18T06:59:14.810Z"
   },
   {
    "duration": 9,
    "start_time": "2021-06-18T06:59:20.176Z"
   },
   {
    "duration": 58,
    "start_time": "2021-06-18T06:59:20.188Z"
   },
   {
    "duration": 42,
    "start_time": "2021-06-18T06:59:20.249Z"
   },
   {
    "duration": 47,
    "start_time": "2021-06-18T06:59:20.294Z"
   },
   {
    "duration": 44,
    "start_time": "2021-06-18T06:59:20.344Z"
   },
   {
    "duration": 30,
    "start_time": "2021-06-18T06:59:20.391Z"
   },
   {
    "duration": 61,
    "start_time": "2021-06-18T06:59:20.424Z"
   },
   {
    "duration": 38,
    "start_time": "2021-06-18T06:59:20.488Z"
   },
   {
    "duration": 21,
    "start_time": "2021-06-18T07:01:03.423Z"
   },
   {
    "duration": 39,
    "start_time": "2021-06-18T07:01:09.731Z"
   },
   {
    "duration": 3634,
    "start_time": "2021-06-18T07:07:08.506Z"
   },
   {
    "duration": 94,
    "start_time": "2021-06-18T07:08:55.712Z"
   },
   {
    "duration": 11,
    "start_time": "2021-06-18T07:08:55.808Z"
   },
   {
    "duration": 32,
    "start_time": "2021-06-18T07:08:55.822Z"
   },
   {
    "duration": 63,
    "start_time": "2021-06-18T07:08:55.856Z"
   },
   {
    "duration": 18,
    "start_time": "2021-06-18T07:08:55.921Z"
   },
   {
    "duration": 8,
    "start_time": "2021-06-18T07:08:55.941Z"
   },
   {
    "duration": 36,
    "start_time": "2021-06-18T07:08:55.951Z"
   },
   {
    "duration": 36,
    "start_time": "2021-06-18T07:08:55.991Z"
   },
   {
    "duration": 9,
    "start_time": "2021-06-18T07:08:56.030Z"
   },
   {
    "duration": 43,
    "start_time": "2021-06-18T07:08:56.041Z"
   },
   {
    "duration": 34,
    "start_time": "2021-06-18T07:08:56.087Z"
   },
   {
    "duration": 11,
    "start_time": "2021-06-18T07:08:56.124Z"
   },
   {
    "duration": 48,
    "start_time": "2021-06-18T07:08:56.137Z"
   },
   {
    "duration": 21,
    "start_time": "2021-06-18T07:08:56.188Z"
   },
   {
    "duration": 50,
    "start_time": "2021-06-18T07:08:56.212Z"
   },
   {
    "duration": 26,
    "start_time": "2021-06-18T07:08:56.286Z"
   },
   {
    "duration": 11,
    "start_time": "2021-06-18T07:08:56.315Z"
   },
   {
    "duration": 79,
    "start_time": "2021-06-18T07:08:56.329Z"
   },
   {
    "duration": 4,
    "start_time": "2021-06-18T07:08:56.411Z"
   },
   {
    "duration": 16,
    "start_time": "2021-06-18T07:08:56.418Z"
   },
   {
    "duration": 3663,
    "start_time": "2021-06-18T07:08:56.437Z"
   },
   {
    "duration": 4,
    "start_time": "2021-06-18T07:09:00.103Z"
   },
   {
    "duration": 74,
    "start_time": "2021-06-18T07:09:00.113Z"
   },
   {
    "duration": 17,
    "start_time": "2021-06-18T07:09:00.190Z"
   },
   {
    "duration": 44,
    "start_time": "2021-06-18T07:09:00.210Z"
   },
   {
    "duration": 49,
    "start_time": "2021-06-18T07:09:00.257Z"
   },
   {
    "duration": 31,
    "start_time": "2021-06-18T07:09:00.309Z"
   },
   {
    "duration": 68,
    "start_time": "2021-06-18T07:09:00.343Z"
   },
   {
    "duration": 36,
    "start_time": "2021-06-18T07:09:00.413Z"
   },
   {
    "duration": 964,
    "start_time": "2021-06-18T12:35:29.726Z"
   },
   {
    "duration": 10,
    "start_time": "2021-06-18T12:35:30.693Z"
   },
   {
    "duration": 51,
    "start_time": "2021-06-18T12:35:30.706Z"
   },
   {
    "duration": 33,
    "start_time": "2021-06-18T12:35:30.760Z"
   },
   {
    "duration": 27,
    "start_time": "2021-06-18T12:35:30.796Z"
   },
   {
    "duration": 38,
    "start_time": "2021-06-18T12:35:30.825Z"
   },
   {
    "duration": 9,
    "start_time": "2021-06-18T12:35:30.866Z"
   },
   {
    "duration": 39,
    "start_time": "2021-06-18T12:35:30.879Z"
   },
   {
    "duration": 34,
    "start_time": "2021-06-18T12:35:30.921Z"
   },
   {
    "duration": 8,
    "start_time": "2021-06-18T12:35:30.958Z"
   },
   {
    "duration": 44,
    "start_time": "2021-06-18T12:35:30.969Z"
   },
   {
    "duration": 11,
    "start_time": "2021-06-18T12:35:31.016Z"
   },
   {
    "duration": 42,
    "start_time": "2021-06-18T12:35:31.030Z"
   },
   {
    "duration": 21,
    "start_time": "2021-06-18T12:35:31.074Z"
   },
   {
    "duration": 79,
    "start_time": "2021-06-18T12:35:31.098Z"
   },
   {
    "duration": 24,
    "start_time": "2021-06-18T12:35:31.179Z"
   },
   {
    "duration": 8,
    "start_time": "2021-06-18T12:35:31.205Z"
   },
   {
    "duration": 68,
    "start_time": "2021-06-18T12:35:31.216Z"
   },
   {
    "duration": 775,
    "start_time": "2021-06-18T12:35:31.286Z"
   },
   {
    "duration": 10,
    "start_time": "2021-06-18T12:35:32.064Z"
   },
   {
    "duration": 5466,
    "start_time": "2021-06-18T12:35:32.077Z"
   },
   {
    "duration": 10,
    "start_time": "2021-06-18T12:35:37.545Z"
   },
   {
    "duration": 44,
    "start_time": "2021-06-18T12:35:37.560Z"
   },
   {
    "duration": 14,
    "start_time": "2021-06-18T12:35:37.607Z"
   },
   {
    "duration": 66,
    "start_time": "2021-06-18T12:35:37.624Z"
   },
   {
    "duration": 27,
    "start_time": "2021-06-18T12:35:37.693Z"
   },
   {
    "duration": 48,
    "start_time": "2021-06-18T12:35:37.723Z"
   },
   {
    "duration": 27,
    "start_time": "2021-06-18T12:35:37.773Z"
   },
   {
    "duration": 59,
    "start_time": "2021-06-18T12:35:37.802Z"
   },
   {
    "duration": 420,
    "start_time": "2021-06-18T12:50:35.907Z"
   },
   {
    "duration": 16,
    "start_time": "2021-06-18T12:50:37.879Z"
   },
   {
    "duration": 26,
    "start_time": "2021-06-18T12:50:52.519Z"
   },
   {
    "duration": 1412,
    "start_time": "2021-06-18T14:48:53.337Z"
   },
   {
    "duration": 11,
    "start_time": "2021-06-18T14:48:54.751Z"
   },
   {
    "duration": 39,
    "start_time": "2021-06-18T14:48:54.765Z"
   },
   {
    "duration": 60,
    "start_time": "2021-06-18T14:48:54.808Z"
   },
   {
    "duration": 18,
    "start_time": "2021-06-18T14:48:54.871Z"
   },
   {
    "duration": 9,
    "start_time": "2021-06-18T14:48:54.891Z"
   },
   {
    "duration": 5,
    "start_time": "2021-06-18T14:48:54.903Z"
   },
   {
    "duration": 34,
    "start_time": "2021-06-18T14:48:54.954Z"
   },
   {
    "duration": 11,
    "start_time": "2021-06-18T14:48:54.991Z"
   },
   {
    "duration": 11,
    "start_time": "2021-06-18T14:48:55.004Z"
   },
   {
    "duration": 67,
    "start_time": "2021-06-18T14:48:55.017Z"
   },
   {
    "duration": 14,
    "start_time": "2021-06-18T14:48:55.086Z"
   },
   {
    "duration": 26,
    "start_time": "2021-06-18T14:48:55.103Z"
   },
   {
    "duration": 23,
    "start_time": "2021-06-18T14:48:55.155Z"
   },
   {
    "duration": 77,
    "start_time": "2021-06-18T14:48:55.181Z"
   },
   {
    "duration": 24,
    "start_time": "2021-06-18T14:48:55.260Z"
   },
   {
    "duration": 9,
    "start_time": "2021-06-18T14:48:55.287Z"
   },
   {
    "duration": 68,
    "start_time": "2021-06-18T14:48:55.298Z"
   },
   {
    "duration": 789,
    "start_time": "2021-06-18T14:48:55.368Z"
   },
   {
    "duration": 10,
    "start_time": "2021-06-18T14:48:56.159Z"
   },
   {
    "duration": 5535,
    "start_time": "2021-06-18T14:48:56.172Z"
   },
   {
    "duration": 4,
    "start_time": "2021-06-18T14:49:01.710Z"
   },
   {
    "duration": 67,
    "start_time": "2021-06-18T14:49:01.720Z"
   },
   {
    "duration": 19,
    "start_time": "2021-06-18T14:49:01.791Z"
   },
   {
    "duration": 71,
    "start_time": "2021-06-18T14:49:01.813Z"
   },
   {
    "duration": 11,
    "start_time": "2021-06-18T14:50:24.160Z"
   },
   {
    "duration": 8,
    "start_time": "2021-06-18T14:51:14.000Z"
   },
   {
    "duration": 9,
    "start_time": "2021-06-18T14:51:34.830Z"
   },
   {
    "duration": 28,
    "start_time": "2021-06-18T14:51:54.664Z"
   },
   {
    "duration": 303,
    "start_time": "2021-06-18T18:14:42.786Z"
   },
   {
    "duration": 849,
    "start_time": "2021-06-18T18:14:54.435Z"
   },
   {
    "duration": 11,
    "start_time": "2021-06-18T18:14:55.287Z"
   },
   {
    "duration": 36,
    "start_time": "2021-06-18T18:14:55.300Z"
   },
   {
    "duration": 33,
    "start_time": "2021-06-18T18:14:55.355Z"
   },
   {
    "duration": 18,
    "start_time": "2021-06-18T18:14:55.390Z"
   },
   {
    "duration": 49,
    "start_time": "2021-06-18T18:14:55.411Z"
   },
   {
    "duration": 5,
    "start_time": "2021-06-18T18:14:55.462Z"
   },
   {
    "duration": 36,
    "start_time": "2021-06-18T18:14:55.471Z"
   },
   {
    "duration": 13,
    "start_time": "2021-06-18T18:15:01.844Z"
   },
   {
    "duration": 98,
    "start_time": "2021-06-18T18:15:49.387Z"
   },
   {
    "duration": 13,
    "start_time": "2021-06-18T18:15:49.489Z"
   },
   {
    "duration": 75,
    "start_time": "2021-06-18T18:15:49.505Z"
   },
   {
    "duration": 34,
    "start_time": "2021-06-18T18:15:49.582Z"
   },
   {
    "duration": 56,
    "start_time": "2021-06-18T18:15:49.620Z"
   },
   {
    "duration": 12,
    "start_time": "2021-06-18T18:15:49.680Z"
   },
   {
    "duration": 6,
    "start_time": "2021-06-18T18:15:49.695Z"
   },
   {
    "duration": 69,
    "start_time": "2021-06-18T18:15:49.707Z"
   },
   {
    "duration": 9,
    "start_time": "2021-06-18T18:15:49.779Z"
   },
   {
    "duration": 12,
    "start_time": "2021-06-18T18:15:49.790Z"
   },
   {
    "duration": 59,
    "start_time": "2021-06-18T18:15:49.805Z"
   },
   {
    "duration": 13,
    "start_time": "2021-06-18T18:15:49.866Z"
   },
   {
    "duration": 16,
    "start_time": "2021-06-18T18:15:49.881Z"
   },
   {
    "duration": 56,
    "start_time": "2021-06-18T18:15:49.899Z"
   },
   {
    "duration": 44,
    "start_time": "2021-06-18T18:15:49.958Z"
   },
   {
    "duration": 22,
    "start_time": "2021-06-18T18:15:50.005Z"
   },
   {
    "duration": 33,
    "start_time": "2021-06-18T18:15:50.030Z"
   },
   {
    "duration": 39,
    "start_time": "2021-06-18T18:15:50.065Z"
   },
   {
    "duration": 821,
    "start_time": "2021-06-18T18:15:50.106Z"
   },
   {
    "duration": 10,
    "start_time": "2021-06-18T18:15:50.929Z"
   },
   {
    "duration": 5766,
    "start_time": "2021-06-18T18:15:50.942Z"
   },
   {
    "duration": 2,
    "start_time": "2021-06-18T18:15:56.711Z"
   },
   {
    "duration": 70,
    "start_time": "2021-06-18T18:15:56.717Z"
   },
   {
    "duration": 16,
    "start_time": "2021-06-18T18:15:56.789Z"
   },
   {
    "duration": 52,
    "start_time": "2021-06-18T18:15:56.808Z"
   },
   {
    "duration": 10,
    "start_time": "2021-06-18T18:17:20.920Z"
   },
   {
    "duration": 356,
    "start_time": "2021-06-18T18:18:23.252Z"
   },
   {
    "duration": 303,
    "start_time": "2021-06-18T18:19:38.231Z"
   },
   {
    "duration": 20,
    "start_time": "2021-06-18T18:19:45.722Z"
   },
   {
    "duration": 27,
    "start_time": "2021-06-18T18:19:54.237Z"
   },
   {
    "duration": 95,
    "start_time": "2021-06-18T18:20:41.206Z"
   },
   {
    "duration": 11,
    "start_time": "2021-06-18T18:20:41.304Z"
   },
   {
    "duration": 56,
    "start_time": "2021-06-18T18:20:41.318Z"
   },
   {
    "duration": 34,
    "start_time": "2021-06-18T18:20:41.377Z"
   },
   {
    "duration": 44,
    "start_time": "2021-06-18T18:20:41.413Z"
   },
   {
    "duration": 9,
    "start_time": "2021-06-18T18:20:41.460Z"
   },
   {
    "duration": 5,
    "start_time": "2021-06-18T18:20:41.471Z"
   },
   {
    "duration": 33,
    "start_time": "2021-06-18T18:20:41.480Z"
   },
   {
    "duration": 48,
    "start_time": "2021-06-18T18:20:41.515Z"
   },
   {
    "duration": 24,
    "start_time": "2021-06-18T18:20:41.565Z"
   },
   {
    "duration": 22,
    "start_time": "2021-06-18T18:21:33.884Z"
   },
   {
    "duration": 28,
    "start_time": "2021-06-18T18:21:42.111Z"
   },
   {
    "duration": 31,
    "start_time": "2021-06-18T18:22:34.901Z"
   },
   {
    "duration": 38,
    "start_time": "2021-06-18T18:25:02.213Z"
   },
   {
    "duration": 31,
    "start_time": "2021-06-18T18:37:30.392Z"
   },
   {
    "duration": 9,
    "start_time": "2021-06-18T18:38:32.277Z"
   },
   {
    "duration": 8,
    "start_time": "2021-06-18T18:39:39.164Z"
   },
   {
    "duration": 9,
    "start_time": "2021-06-18T18:40:26.762Z"
   },
   {
    "duration": 9,
    "start_time": "2021-06-18T18:41:31.426Z"
   },
   {
    "duration": 45,
    "start_time": "2021-06-18T18:41:37.951Z"
   },
   {
    "duration": 240,
    "start_time": "2021-06-18T18:42:54.933Z"
   },
   {
    "duration": 12,
    "start_time": "2021-06-18T18:43:10.625Z"
   },
   {
    "duration": 17,
    "start_time": "2021-06-18T18:43:30.187Z"
   },
   {
    "duration": 140,
    "start_time": "2021-06-18T18:43:58.365Z"
   },
   {
    "duration": 16,
    "start_time": "2021-06-18T18:43:58.509Z"
   },
   {
    "duration": 55,
    "start_time": "2021-06-18T18:43:58.557Z"
   },
   {
    "duration": 78,
    "start_time": "2021-06-18T18:43:58.615Z"
   },
   {
    "duration": 26,
    "start_time": "2021-06-18T18:43:58.696Z"
   },
   {
    "duration": 34,
    "start_time": "2021-06-18T18:43:58.725Z"
   },
   {
    "duration": 6,
    "start_time": "2021-06-18T18:43:58.762Z"
   },
   {
    "duration": 33,
    "start_time": "2021-06-18T18:43:58.772Z"
   },
   {
    "duration": 49,
    "start_time": "2021-06-18T18:43:58.808Z"
   },
   {
    "duration": 24,
    "start_time": "2021-06-18T18:43:58.860Z"
   },
   {
    "duration": 8,
    "start_time": "2021-06-18T18:43:58.887Z"
   },
   {
    "duration": 73,
    "start_time": "2021-06-18T18:43:58.898Z"
   },
   {
    "duration": 9,
    "start_time": "2021-06-18T18:43:58.974Z"
   },
   {
    "duration": 15,
    "start_time": "2021-06-18T18:43:58.986Z"
   },
   {
    "duration": 57,
    "start_time": "2021-06-18T18:43:59.004Z"
   },
   {
    "duration": 51,
    "start_time": "2021-06-18T18:43:59.064Z"
   },
   {
    "duration": 49,
    "start_time": "2021-06-18T18:43:59.117Z"
   },
   {
    "duration": 9,
    "start_time": "2021-06-18T18:43:59.168Z"
   },
   {
    "duration": 38,
    "start_time": "2021-06-18T18:43:59.180Z"
   },
   {
    "duration": 4,
    "start_time": "2021-06-18T18:43:59.220Z"
   },
   {
    "duration": 39,
    "start_time": "2021-06-18T18:43:59.226Z"
   },
   {
    "duration": 3818,
    "start_time": "2021-06-18T18:43:59.268Z"
   },
   {
    "duration": 3,
    "start_time": "2021-06-18T18:44:03.090Z"
   },
   {
    "duration": 68,
    "start_time": "2021-06-18T18:44:03.096Z"
   },
   {
    "duration": 17,
    "start_time": "2021-06-18T18:44:03.166Z"
   },
   {
    "duration": 34,
    "start_time": "2021-06-18T18:44:03.185Z"
   },
   {
    "duration": 85,
    "start_time": "2021-06-18T18:56:53.805Z"
   },
   {
    "duration": 9,
    "start_time": "2021-06-18T18:56:59.370Z"
   },
   {
    "duration": 10,
    "start_time": "2021-06-18T18:57:19.082Z"
   },
   {
    "duration": 9,
    "start_time": "2021-06-18T18:58:04.523Z"
   },
   {
    "duration": 10,
    "start_time": "2021-06-18T18:58:13.534Z"
   },
   {
    "duration": 61,
    "start_time": "2021-06-18T18:59:12.212Z"
   },
   {
    "duration": 20,
    "start_time": "2021-06-18T19:01:31.279Z"
   },
   {
    "duration": 38,
    "start_time": "2021-06-18T19:01:52.274Z"
   },
   {
    "duration": 19,
    "start_time": "2021-06-18T19:01:57.742Z"
   },
   {
    "duration": 266,
    "start_time": "2021-06-18T19:07:51.285Z"
   },
   {
    "duration": 265,
    "start_time": "2021-06-18T19:08:16.375Z"
   },
   {
    "duration": 277,
    "start_time": "2021-06-18T19:08:31.624Z"
   },
   {
    "duration": 39,
    "start_time": "2021-06-18T19:08:48.840Z"
   },
   {
    "duration": 266,
    "start_time": "2021-06-18T19:09:09.495Z"
   },
   {
    "duration": 1026,
    "start_time": "2021-06-18T19:10:07.295Z"
   },
   {
    "duration": 960,
    "start_time": "2021-06-18T19:10:34.133Z"
   },
   {
    "duration": 666,
    "start_time": "2021-06-18T19:12:11.994Z"
   },
   {
    "duration": 11,
    "start_time": "2021-06-18T19:12:26.847Z"
   },
   {
    "duration": 9,
    "start_time": "2021-06-18T19:12:39.719Z"
   },
   {
    "duration": 593,
    "start_time": "2021-06-18T19:12:57.753Z"
   },
   {
    "duration": 973,
    "start_time": "2021-06-18T19:13:01.892Z"
   },
   {
    "duration": 11,
    "start_time": "2021-06-18T19:13:20.185Z"
   },
   {
    "duration": 12,
    "start_time": "2021-06-18T19:13:30.931Z"
   },
   {
    "duration": 92,
    "start_time": "2021-06-18T19:14:31.848Z"
   },
   {
    "duration": 19,
    "start_time": "2021-06-18T19:14:31.942Z"
   },
   {
    "duration": 35,
    "start_time": "2021-06-18T19:14:32.300Z"
   },
   {
    "duration": 34,
    "start_time": "2021-06-18T19:14:32.337Z"
   },
   {
    "duration": 20,
    "start_time": "2021-06-18T19:14:32.375Z"
   },
   {
    "duration": 9,
    "start_time": "2021-06-18T19:14:32.398Z"
   },
   {
    "duration": 9,
    "start_time": "2021-06-18T19:14:32.410Z"
   },
   {
    "duration": 35,
    "start_time": "2021-06-18T19:14:32.458Z"
   },
   {
    "duration": 12,
    "start_time": "2021-06-18T19:14:32.496Z"
   },
   {
    "duration": 317,
    "start_time": "2021-06-18T19:15:39.872Z"
   },
   {
    "duration": 18,
    "start_time": "2021-06-18T19:15:49.734Z"
   },
   {
    "duration": 10,
    "start_time": "2021-06-18T19:24:11.100Z"
   },
   {
    "duration": 18,
    "start_time": "2021-06-18T19:24:18.298Z"
   },
   {
    "duration": 31,
    "start_time": "2021-06-18T19:24:48.424Z"
   },
   {
    "duration": 143,
    "start_time": "2021-06-18T19:45:50.376Z"
   },
   {
    "duration": 34,
    "start_time": "2021-06-18T19:45:50.522Z"
   },
   {
    "duration": 55,
    "start_time": "2021-06-18T19:45:50.560Z"
   },
   {
    "duration": 76,
    "start_time": "2021-06-18T19:45:50.618Z"
   },
   {
    "duration": 27,
    "start_time": "2021-06-18T19:45:50.697Z"
   },
   {
    "duration": 38,
    "start_time": "2021-06-18T19:45:50.727Z"
   },
   {
    "duration": 35,
    "start_time": "2021-06-18T19:45:50.772Z"
   },
   {
    "duration": 9,
    "start_time": "2021-06-18T19:45:50.811Z"
   },
   {
    "duration": 6,
    "start_time": "2021-06-18T19:45:50.822Z"
   },
   {
    "duration": 10,
    "start_time": "2021-06-18T19:46:23.415Z"
   },
   {
    "duration": 17,
    "start_time": "2021-06-18T19:46:44.069Z"
   },
   {
    "duration": 247,
    "start_time": "2021-06-18T19:56:38.082Z"
   },
   {
    "duration": 80,
    "start_time": "2021-06-18T19:56:54.044Z"
   },
   {
    "duration": 10,
    "start_time": "2021-06-18T19:57:00.257Z"
   },
   {
    "duration": 9,
    "start_time": "2021-06-18T19:58:02.403Z"
   },
   {
    "duration": 41,
    "start_time": "2021-06-18T20:03:18.706Z"
   },
   {
    "duration": 4091,
    "start_time": "2021-06-18T20:17:25.640Z"
   },
   {
    "duration": 265,
    "start_time": "2021-06-18T20:21:57.761Z"
   },
   {
    "duration": 276,
    "start_time": "2021-06-18T20:22:10.277Z"
   },
   {
    "duration": 280,
    "start_time": "2021-06-18T20:23:31.306Z"
   },
   {
    "duration": 5,
    "start_time": "2021-06-18T20:24:01.649Z"
   },
   {
    "duration": 4,
    "start_time": "2021-06-18T20:24:20.273Z"
   },
   {
    "duration": 7,
    "start_time": "2021-06-18T20:24:48.700Z"
   },
   {
    "duration": 98,
    "start_time": "2021-06-18T20:25:10.086Z"
   },
   {
    "duration": 12,
    "start_time": "2021-06-18T20:25:10.188Z"
   },
   {
    "duration": 57,
    "start_time": "2021-06-18T20:25:10.203Z"
   },
   {
    "duration": 37,
    "start_time": "2021-06-18T20:25:10.263Z"
   },
   {
    "duration": 24,
    "start_time": "2021-06-18T20:25:10.302Z"
   },
   {
    "duration": 40,
    "start_time": "2021-06-18T20:25:10.329Z"
   },
   {
    "duration": 36,
    "start_time": "2021-06-18T20:25:10.372Z"
   },
   {
    "duration": 8,
    "start_time": "2021-06-18T20:25:10.411Z"
   },
   {
    "duration": 7,
    "start_time": "2021-06-18T20:28:02.911Z"
   },
   {
    "duration": 11,
    "start_time": "2021-06-18T20:28:21.221Z"
   },
   {
    "duration": 19,
    "start_time": "2021-06-18T20:28:45.058Z"
   },
   {
    "duration": 19,
    "start_time": "2021-06-18T20:29:22.108Z"
   },
   {
    "duration": 1012,
    "start_time": "2021-06-18T20:31:11.686Z"
   },
   {
    "duration": 1613,
    "start_time": "2021-06-18T20:31:34.169Z"
   },
   {
    "duration": 300,
    "start_time": "2021-06-18T20:33:39.988Z"
   },
   {
    "duration": 109,
    "start_time": "2021-06-18T20:34:30.797Z"
   },
   {
    "duration": 14,
    "start_time": "2021-06-18T20:34:30.909Z"
   },
   {
    "duration": 60,
    "start_time": "2021-06-18T20:34:30.926Z"
   },
   {
    "duration": 35,
    "start_time": "2021-06-18T20:34:30.989Z"
   },
   {
    "duration": 45,
    "start_time": "2021-06-18T20:34:31.026Z"
   },
   {
    "duration": 13,
    "start_time": "2021-06-18T20:34:31.075Z"
   },
   {
    "duration": 73,
    "start_time": "2021-06-18T20:34:31.091Z"
   },
   {
    "duration": 14,
    "start_time": "2021-06-18T20:34:31.169Z"
   },
   {
    "duration": 13,
    "start_time": "2021-06-18T20:34:31.186Z"
   },
   {
    "duration": 18,
    "start_time": "2021-06-18T20:34:39.180Z"
   },
   {
    "duration": 20,
    "start_time": "2021-06-18T20:34:52.648Z"
   },
   {
    "duration": 21,
    "start_time": "2021-06-18T20:35:07.112Z"
   },
   {
    "duration": 152,
    "start_time": "2021-06-18T20:36:18.902Z"
   },
   {
    "duration": 144,
    "start_time": "2021-06-18T20:37:22.483Z"
   },
   {
    "duration": 30,
    "start_time": "2021-06-18T20:37:22.631Z"
   },
   {
    "duration": 54,
    "start_time": "2021-06-18T20:37:22.665Z"
   },
   {
    "duration": 78,
    "start_time": "2021-06-18T20:37:22.723Z"
   },
   {
    "duration": 28,
    "start_time": "2021-06-18T20:37:22.804Z"
   },
   {
    "duration": 37,
    "start_time": "2021-06-18T20:37:22.834Z"
   },
   {
    "duration": 53,
    "start_time": "2021-06-18T20:37:22.876Z"
   },
   {
    "duration": 33,
    "start_time": "2021-06-18T20:37:22.933Z"
   },
   {
    "duration": 17,
    "start_time": "2021-06-18T20:37:22.970Z"
   },
   {
    "duration": 431,
    "start_time": "2021-06-18T20:37:31.367Z"
   },
   {
    "duration": 157,
    "start_time": "2021-06-18T20:43:20.845Z"
   },
   {
    "duration": 156,
    "start_time": "2021-06-18T20:47:32.800Z"
   },
   {
    "duration": 18,
    "start_time": "2021-06-18T20:47:32.959Z"
   },
   {
    "duration": 77,
    "start_time": "2021-06-18T20:47:32.981Z"
   },
   {
    "duration": 36,
    "start_time": "2021-06-18T20:47:33.062Z"
   },
   {
    "duration": 18,
    "start_time": "2021-06-18T20:47:33.102Z"
   },
   {
    "duration": 37,
    "start_time": "2021-06-18T20:47:33.123Z"
   },
   {
    "duration": 37,
    "start_time": "2021-06-18T20:47:33.162Z"
   },
   {
    "duration": 9,
    "start_time": "2021-06-18T20:47:33.202Z"
   },
   {
    "duration": 44,
    "start_time": "2021-06-18T20:47:33.214Z"
   },
   {
    "duration": 142,
    "start_time": "2021-06-18T20:47:44.681Z"
   },
   {
    "duration": 9,
    "start_time": "2021-06-18T20:48:43.646Z"
   },
   {
    "duration": 7,
    "start_time": "2021-06-18T20:48:59.624Z"
   },
   {
    "duration": 22,
    "start_time": "2021-06-18T20:49:41.453Z"
   },
   {
    "duration": 25,
    "start_time": "2021-06-18T20:49:46.653Z"
   },
   {
    "duration": 7,
    "start_time": "2021-06-18T20:49:55.394Z"
   },
   {
    "duration": 9,
    "start_time": "2021-06-18T20:50:06.825Z"
   },
   {
    "duration": 143,
    "start_time": "2021-06-18T20:50:18.675Z"
   },
   {
    "duration": 37,
    "start_time": "2021-06-18T20:50:18.821Z"
   },
   {
    "duration": 38,
    "start_time": "2021-06-18T20:50:18.862Z"
   },
   {
    "duration": 64,
    "start_time": "2021-06-18T20:50:18.903Z"
   },
   {
    "duration": 25,
    "start_time": "2021-06-18T20:50:18.970Z"
   },
   {
    "duration": 10,
    "start_time": "2021-06-18T20:50:18.998Z"
   },
   {
    "duration": 87,
    "start_time": "2021-06-18T20:50:19.012Z"
   },
   {
    "duration": 12,
    "start_time": "2021-06-18T20:50:19.104Z"
   },
   {
    "duration": 37,
    "start_time": "2021-06-18T20:50:19.120Z"
   },
   {
    "duration": 370,
    "start_time": "2021-06-18T21:00:39.500Z"
   },
   {
    "duration": 275,
    "start_time": "2021-06-18T21:01:43.309Z"
   },
   {
    "duration": 383,
    "start_time": "2021-06-18T21:02:07.523Z"
   },
   {
    "duration": 17,
    "start_time": "2021-06-18T21:03:26.328Z"
   },
   {
    "duration": 8,
    "start_time": "2021-06-18T21:03:39.736Z"
   },
   {
    "duration": 104,
    "start_time": "2021-06-18T21:03:49.375Z"
   },
   {
    "duration": 13,
    "start_time": "2021-06-18T21:03:49.483Z"
   },
   {
    "duration": 61,
    "start_time": "2021-06-18T21:03:49.499Z"
   },
   {
    "duration": 38,
    "start_time": "2021-06-18T21:03:49.564Z"
   },
   {
    "duration": 21,
    "start_time": "2021-06-18T21:03:49.605Z"
   },
   {
    "duration": 16,
    "start_time": "2021-06-18T21:03:49.659Z"
   },
   {
    "duration": 35,
    "start_time": "2021-06-18T21:03:49.677Z"
   },
   {
    "duration": 42,
    "start_time": "2021-06-18T21:03:49.715Z"
   },
   {
    "duration": 15,
    "start_time": "2021-06-18T21:03:49.761Z"
   },
   {
    "duration": 8,
    "start_time": "2021-06-18T21:03:53.200Z"
   },
   {
    "duration": 1009,
    "start_time": "2021-06-18T21:04:32.540Z"
   },
   {
    "duration": 258,
    "start_time": "2021-06-18T21:04:46.731Z"
   },
   {
    "duration": 312,
    "start_time": "2021-06-18T21:05:47.550Z"
   },
   {
    "duration": 12,
    "start_time": "2021-06-18T21:06:14.177Z"
   },
   {
    "duration": 6,
    "start_time": "2021-06-19T02:46:50.413Z"
   },
   {
    "duration": 107,
    "start_time": "2021-06-19T02:49:31.108Z"
   },
   {
    "duration": 285,
    "start_time": "2021-06-19T02:50:19.623Z"
   },
   {
    "duration": 277,
    "start_time": "2021-06-19T02:55:16.535Z"
   },
   {
    "duration": 8,
    "start_time": "2021-06-19T02:55:33.830Z"
   },
   {
    "duration": 7,
    "start_time": "2021-06-19T02:55:42.798Z"
   },
   {
    "duration": 17,
    "start_time": "2021-06-19T03:03:04.433Z"
   },
   {
    "duration": 40,
    "start_time": "2021-06-19T03:03:53.911Z"
   },
   {
    "duration": 17,
    "start_time": "2021-06-19T03:04:12.401Z"
   },
   {
    "duration": 290,
    "start_time": "2021-06-19T03:05:13.299Z"
   },
   {
    "duration": 290,
    "start_time": "2021-06-19T03:07:33.264Z"
   },
   {
    "duration": 22,
    "start_time": "2021-06-19T03:08:43.639Z"
   },
   {
    "duration": 24,
    "start_time": "2021-06-19T03:09:46.039Z"
   },
   {
    "duration": 8,
    "start_time": "2021-06-19T03:12:01.143Z"
   },
   {
    "duration": 94,
    "start_time": "2021-06-19T03:12:30.056Z"
   },
   {
    "duration": 9,
    "start_time": "2021-06-19T03:12:41.418Z"
   },
   {
    "duration": 97,
    "start_time": "2021-06-19T03:17:13.509Z"
   },
   {
    "duration": 285,
    "start_time": "2021-06-19T03:17:39.068Z"
   },
   {
    "duration": 1000,
    "start_time": "2021-06-19T03:18:19.580Z"
   },
   {
    "duration": 333,
    "start_time": "2021-06-19T12:11:45.975Z"
   },
   {
    "duration": 933,
    "start_time": "2021-06-19T12:12:07.397Z"
   },
   {
    "duration": 24,
    "start_time": "2021-06-19T12:12:08.333Z"
   },
   {
    "duration": 35,
    "start_time": "2021-06-19T12:12:08.361Z"
   },
   {
    "duration": 60,
    "start_time": "2021-06-19T12:12:08.399Z"
   },
   {
    "duration": 22,
    "start_time": "2021-06-19T12:12:08.462Z"
   },
   {
    "duration": 12,
    "start_time": "2021-06-19T12:12:08.487Z"
   },
   {
    "duration": 67,
    "start_time": "2021-06-19T12:12:08.502Z"
   },
   {
    "duration": 9,
    "start_time": "2021-06-19T12:12:08.574Z"
   },
   {
    "duration": 18,
    "start_time": "2021-06-19T12:12:08.585Z"
   },
   {
    "duration": 295,
    "start_time": "2021-06-19T12:12:13.302Z"
   },
   {
    "duration": 439,
    "start_time": "2021-06-19T12:15:24.229Z"
   },
   {
    "duration": 483,
    "start_time": "2021-06-19T12:20:58.149Z"
   },
   {
    "duration": 603,
    "start_time": "2021-06-19T12:21:33.340Z"
   },
   {
    "duration": 11,
    "start_time": "2021-06-19T12:22:08.058Z"
   },
   {
    "duration": 609,
    "start_time": "2021-06-19T12:22:24.755Z"
   },
   {
    "duration": 11,
    "start_time": "2021-06-19T12:22:47.351Z"
   },
   {
    "duration": 5518,
    "start_time": "2021-06-19T12:23:46.765Z"
   },
   {
    "duration": 5532,
    "start_time": "2021-06-19T12:24:05.567Z"
   },
   {
    "duration": 5863,
    "start_time": "2021-06-19T12:24:20.951Z"
   },
   {
    "duration": 608,
    "start_time": "2021-06-19T12:24:30.978Z"
   },
   {
    "duration": 698,
    "start_time": "2021-06-19T12:24:45.589Z"
   },
   {
    "duration": 710,
    "start_time": "2021-06-19T12:25:54.610Z"
   },
   {
    "duration": 284,
    "start_time": "2021-06-19T12:26:34.119Z"
   },
   {
    "duration": 277,
    "start_time": "2021-06-19T12:26:49.071Z"
   },
   {
    "duration": 991,
    "start_time": "2021-06-19T12:27:58.056Z"
   },
   {
    "duration": 273,
    "start_time": "2021-06-19T12:28:06.830Z"
   },
   {
    "duration": 527,
    "start_time": "2021-06-19T12:32:32.014Z"
   },
   {
    "duration": 312,
    "start_time": "2021-06-19T12:33:35.164Z"
   },
   {
    "duration": 295,
    "start_time": "2021-06-19T12:36:04.529Z"
   },
   {
    "duration": 386,
    "start_time": "2021-06-19T12:37:10.412Z"
   },
   {
    "duration": 342,
    "start_time": "2021-06-19T12:39:55.302Z"
   },
   {
    "duration": 3538,
    "start_time": "2021-06-19T12:40:04.494Z"
   },
   {
    "duration": 10,
    "start_time": "2021-06-19T12:40:12.135Z"
   },
   {
    "duration": 110208,
    "start_time": "2021-06-19T12:40:56.850Z"
   },
   {
    "duration": 12,
    "start_time": "2021-06-19T12:42:47.190Z"
   },
   {
    "duration": 13,
    "start_time": "2021-06-19T12:42:47.205Z"
   },
   {
    "duration": 104,
    "start_time": "2021-06-19T12:42:47.262Z"
   },
   {
    "duration": 14,
    "start_time": "2021-06-19T12:42:47.369Z"
   },
   {
    "duration": 84,
    "start_time": "2021-06-19T12:42:47.386Z"
   },
   {
    "duration": 54,
    "start_time": "2021-06-19T12:42:47.473Z"
   },
   {
    "duration": 48,
    "start_time": "2021-06-19T12:42:47.530Z"
   },
   {
    "duration": 12,
    "start_time": "2021-06-19T12:42:47.581Z"
   },
   {
    "duration": 68,
    "start_time": "2021-06-19T12:42:47.595Z"
   },
   {
    "duration": 9,
    "start_time": "2021-06-19T12:42:47.666Z"
   },
   {
    "duration": 11,
    "start_time": "2021-06-19T12:42:47.677Z"
   },
   {
    "duration": 6,
    "start_time": "2021-06-19T12:42:47.691Z"
   },
   {
    "duration": 81767,
    "start_time": "2021-06-19T12:43:12.032Z"
   },
   {
    "duration": -1989,
    "start_time": "2021-06-19T12:44:35.796Z"
   },
   {
    "duration": 96,
    "start_time": "2021-06-19T12:45:00.977Z"
   },
   {
    "duration": 14,
    "start_time": "2021-06-19T12:45:01.075Z"
   },
   {
    "duration": 63,
    "start_time": "2021-06-19T12:45:01.092Z"
   },
   {
    "duration": 34,
    "start_time": "2021-06-19T12:45:01.158Z"
   },
   {
    "duration": 19,
    "start_time": "2021-06-19T12:45:01.194Z"
   },
   {
    "duration": 65,
    "start_time": "2021-06-19T12:45:01.215Z"
   },
   {
    "duration": 104,
    "start_time": "2021-06-19T12:45:01.282Z"
   },
   {
    "duration": 27,
    "start_time": "2021-06-19T12:45:01.389Z"
   },
   {
    "duration": 61,
    "start_time": "2021-06-19T12:45:01.419Z"
   },
   {
    "duration": 3375,
    "start_time": "2021-06-19T12:45:10.129Z"
   },
   {
    "duration": 3340,
    "start_time": "2021-06-19T12:47:16.031Z"
   },
   {
    "duration": 141,
    "start_time": "2021-06-19T12:48:27.358Z"
   },
   {
    "duration": 17,
    "start_time": "2021-06-19T12:48:27.503Z"
   },
   {
    "duration": 73,
    "start_time": "2021-06-19T12:48:27.524Z"
   },
   {
    "duration": 56,
    "start_time": "2021-06-19T12:48:27.599Z"
   },
   {
    "duration": 19,
    "start_time": "2021-06-19T12:48:27.657Z"
   },
   {
    "duration": 17,
    "start_time": "2021-06-19T12:48:27.678Z"
   },
   {
    "duration": 60,
    "start_time": "2021-06-19T12:48:27.697Z"
   },
   {
    "duration": 8,
    "start_time": "2021-06-19T12:48:27.761Z"
   },
   {
    "duration": 14,
    "start_time": "2021-06-19T12:48:27.772Z"
   },
   {
    "duration": 66343,
    "start_time": "2021-06-19T12:48:49.795Z"
   },
   {
    "duration": -1852,
    "start_time": "2021-06-19T12:49:57.998Z"
   },
   {
    "duration": -1854,
    "start_time": "2021-06-19T12:49:58.002Z"
   },
   {
    "duration": 147,
    "start_time": "2021-06-19T12:50:09.463Z"
   },
   {
    "duration": 11,
    "start_time": "2021-06-19T12:50:09.613Z"
   },
   {
    "duration": 80,
    "start_time": "2021-06-19T12:50:09.628Z"
   },
   {
    "duration": 54,
    "start_time": "2021-06-19T12:50:09.712Z"
   },
   {
    "duration": 21,
    "start_time": "2021-06-19T12:50:09.769Z"
   },
   {
    "duration": 9,
    "start_time": "2021-06-19T12:50:09.793Z"
   },
   {
    "duration": 75,
    "start_time": "2021-06-19T12:50:09.804Z"
   },
   {
    "duration": 9,
    "start_time": "2021-06-19T12:50:09.882Z"
   },
   {
    "duration": 15,
    "start_time": "2021-06-19T12:50:09.893Z"
   },
   {
    "duration": 616,
    "start_time": "2021-06-19T12:50:47.113Z"
   },
   {
    "duration": 13,
    "start_time": "2021-06-19T12:52:30.537Z"
   },
   {
    "duration": 60977,
    "start_time": "2021-06-19T12:53:22.804Z"
   },
   {
    "duration": -1911,
    "start_time": "2021-06-19T12:54:25.700Z"
   },
   {
    "duration": -1964,
    "start_time": "2021-06-19T12:54:25.758Z"
   },
   {
    "duration": -1963,
    "start_time": "2021-06-19T12:54:25.760Z"
   },
   {
    "duration": -1963,
    "start_time": "2021-06-19T12:54:25.762Z"
   },
   {
    "duration": -1964,
    "start_time": "2021-06-19T12:54:25.765Z"
   },
   {
    "duration": -1964,
    "start_time": "2021-06-19T12:54:25.767Z"
   },
   {
    "duration": -1964,
    "start_time": "2021-06-19T12:54:25.769Z"
   },
   {
    "duration": -1964,
    "start_time": "2021-06-19T12:54:25.771Z"
   },
   {
    "duration": -1965,
    "start_time": "2021-06-19T12:54:25.774Z"
   },
   {
    "duration": -1965,
    "start_time": "2021-06-19T12:54:25.776Z"
   },
   {
    "duration": 141,
    "start_time": "2021-06-19T12:54:42.403Z"
   },
   {
    "duration": 12,
    "start_time": "2021-06-19T12:54:42.547Z"
   },
   {
    "duration": 33,
    "start_time": "2021-06-19T12:54:42.562Z"
   },
   {
    "duration": 71,
    "start_time": "2021-06-19T12:54:42.597Z"
   },
   {
    "duration": 17,
    "start_time": "2021-06-19T12:54:42.671Z"
   },
   {
    "duration": 10,
    "start_time": "2021-06-19T12:54:42.691Z"
   },
   {
    "duration": 74,
    "start_time": "2021-06-19T12:54:42.703Z"
   },
   {
    "duration": 9,
    "start_time": "2021-06-19T12:54:42.780Z"
   },
   {
    "duration": 12,
    "start_time": "2021-06-19T12:54:42.791Z"
   },
   {
    "duration": 615,
    "start_time": "2021-06-19T12:55:48.240Z"
   },
   {
    "duration": 93,
    "start_time": "2021-06-19T12:56:48.391Z"
   },
   {
    "duration": 85,
    "start_time": "2021-06-19T12:57:00.225Z"
   },
   {
    "duration": 610,
    "start_time": "2021-06-19T12:57:27.367Z"
   },
   {
    "duration": 425,
    "start_time": "2021-06-19T12:58:05.872Z"
   },
   {
    "duration": 423,
    "start_time": "2021-06-19T12:59:10.645Z"
   },
   {
    "duration": 466,
    "start_time": "2021-06-19T13:01:29.432Z"
   },
   {
    "duration": 449,
    "start_time": "2021-06-19T13:02:20.275Z"
   },
   {
    "duration": 631,
    "start_time": "2021-06-19T13:05:06.030Z"
   },
   {
    "duration": 8,
    "start_time": "2021-06-19T13:05:18.358Z"
   },
   {
    "duration": 7,
    "start_time": "2021-06-19T13:05:20.791Z"
   },
   {
    "duration": 99,
    "start_time": "2021-06-19T13:06:03.172Z"
   },
   {
    "duration": 11,
    "start_time": "2021-06-19T13:06:03.273Z"
   },
   {
    "duration": 37,
    "start_time": "2021-06-19T13:06:03.287Z"
   },
   {
    "duration": 52,
    "start_time": "2021-06-19T13:06:03.326Z"
   },
   {
    "duration": 19,
    "start_time": "2021-06-19T13:06:03.381Z"
   },
   {
    "duration": 9,
    "start_time": "2021-06-19T13:06:03.403Z"
   },
   {
    "duration": 62,
    "start_time": "2021-06-19T13:06:03.415Z"
   },
   {
    "duration": 10,
    "start_time": "2021-06-19T13:06:03.480Z"
   },
   {
    "duration": 12,
    "start_time": "2021-06-19T13:06:03.492Z"
   },
   {
    "duration": 571,
    "start_time": "2021-06-19T13:06:29.276Z"
   },
   {
    "duration": 11,
    "start_time": "2021-06-19T13:07:09.348Z"
   },
   {
    "duration": 17,
    "start_time": "2021-06-19T13:08:36.653Z"
   },
   {
    "duration": 15,
    "start_time": "2021-06-19T13:08:48.603Z"
   },
   {
    "duration": 14,
    "start_time": "2021-06-19T13:08:55.733Z"
   },
   {
    "duration": 12,
    "start_time": "2021-06-19T13:09:24.804Z"
   },
   {
    "duration": 260,
    "start_time": "2021-06-19T13:10:00.740Z"
   },
   {
    "duration": 971,
    "start_time": "2021-06-19T13:10:23.991Z"
   },
   {
    "duration": 979,
    "start_time": "2021-06-19T13:10:40.105Z"
   },
   {
    "duration": 287,
    "start_time": "2021-06-19T13:10:49.294Z"
   },
   {
    "duration": 3476,
    "start_time": "2021-06-19T13:11:45.711Z"
   },
   {
    "duration": 6407,
    "start_time": "2021-06-19T13:34:32.578Z"
   },
   {
    "duration": 36,
    "start_time": "2021-06-19T13:35:05.567Z"
   },
   {
    "duration": 14,
    "start_time": "2021-06-19T13:35:40.129Z"
   },
   {
    "duration": 12,
    "start_time": "2021-06-19T13:35:50.170Z"
   },
   {
    "duration": 12,
    "start_time": "2021-06-19T13:35:55.024Z"
   },
   {
    "duration": 7,
    "start_time": "2021-06-19T13:36:57.515Z"
   },
   {
    "duration": 7,
    "start_time": "2021-06-19T13:37:13.363Z"
   },
   {
    "duration": 96,
    "start_time": "2021-06-19T14:23:44.167Z"
   },
   {
    "duration": 14,
    "start_time": "2021-06-19T14:23:44.266Z"
   },
   {
    "duration": 36,
    "start_time": "2021-06-19T14:23:44.283Z"
   },
   {
    "duration": 34,
    "start_time": "2021-06-19T14:23:44.355Z"
   },
   {
    "duration": 21,
    "start_time": "2021-06-19T14:23:44.392Z"
   },
   {
    "duration": 44,
    "start_time": "2021-06-19T14:23:44.416Z"
   },
   {
    "duration": 34,
    "start_time": "2021-06-19T14:23:44.463Z"
   },
   {
    "duration": 10,
    "start_time": "2021-06-19T14:23:44.500Z"
   },
   {
    "duration": 51,
    "start_time": "2021-06-19T14:23:44.513Z"
   },
   {
    "duration": 16,
    "start_time": "2021-06-19T14:23:44.567Z"
   },
   {
    "duration": 7,
    "start_time": "2021-06-19T14:23:51.500Z"
   },
   {
    "duration": 29,
    "start_time": "2021-06-19T14:24:00.302Z"
   },
   {
    "duration": 7,
    "start_time": "2021-06-19T14:24:06.829Z"
   },
   {
    "duration": 285,
    "start_time": "2021-06-19T14:24:41.911Z"
   },
   {
    "duration": 53,
    "start_time": "2021-06-19T14:24:58.044Z"
   },
   {
    "duration": 49,
    "start_time": "2021-06-19T14:25:06.332Z"
   },
   {
    "duration": 7,
    "start_time": "2021-06-19T14:25:08.532Z"
   },
   {
    "duration": 96,
    "start_time": "2021-06-19T14:25:16.188Z"
   },
   {
    "duration": 12,
    "start_time": "2021-06-19T14:25:16.287Z"
   },
   {
    "duration": 75,
    "start_time": "2021-06-19T14:25:16.302Z"
   },
   {
    "duration": 55,
    "start_time": "2021-06-19T14:25:16.381Z"
   },
   {
    "duration": 19,
    "start_time": "2021-06-19T14:25:16.457Z"
   },
   {
    "duration": 11,
    "start_time": "2021-06-19T14:25:16.479Z"
   },
   {
    "duration": 69,
    "start_time": "2021-06-19T14:25:16.493Z"
   },
   {
    "duration": 9,
    "start_time": "2021-06-19T14:25:16.565Z"
   },
   {
    "duration": 13,
    "start_time": "2021-06-19T14:25:16.576Z"
   },
   {
    "duration": 15,
    "start_time": "2021-06-19T14:25:16.592Z"
   },
   {
    "duration": 7,
    "start_time": "2021-06-19T14:25:18.559Z"
   },
   {
    "duration": 31,
    "start_time": "2021-06-19T14:25:20.661Z"
   },
   {
    "duration": 7,
    "start_time": "2021-06-19T14:25:22.782Z"
   },
   {
    "duration": 31,
    "start_time": "2021-06-19T14:25:25.848Z"
   },
   {
    "duration": 29,
    "start_time": "2021-06-19T14:25:26.838Z"
   },
   {
    "duration": 10,
    "start_time": "2021-06-19T14:25:28.239Z"
   },
   {
    "duration": 292,
    "start_time": "2021-06-19T14:25:59.493Z"
   },
   {
    "duration": 269,
    "start_time": "2021-06-19T14:26:35.582Z"
   },
   {
    "duration": 258,
    "start_time": "2021-06-19T14:29:07.759Z"
   },
   {
    "duration": 4,
    "start_time": "2021-06-19T14:29:10.664Z"
   },
   {
    "duration": 263,
    "start_time": "2021-06-19T14:29:12.257Z"
   },
   {
    "duration": 7,
    "start_time": "2021-06-19T14:29:28.186Z"
   },
   {
    "duration": 108,
    "start_time": "2021-06-19T14:29:39.988Z"
   },
   {
    "duration": 10,
    "start_time": "2021-06-19T14:29:40.099Z"
   },
   {
    "duration": 53,
    "start_time": "2021-06-19T14:29:40.112Z"
   },
   {
    "duration": 35,
    "start_time": "2021-06-19T14:29:40.168Z"
   },
   {
    "duration": 50,
    "start_time": "2021-06-19T14:29:40.206Z"
   },
   {
    "duration": 9,
    "start_time": "2021-06-19T14:29:40.258Z"
   },
   {
    "duration": 38,
    "start_time": "2021-06-19T14:29:40.270Z"
   },
   {
    "duration": 8,
    "start_time": "2021-06-19T14:29:40.311Z"
   },
   {
    "duration": 50,
    "start_time": "2021-06-19T14:29:40.321Z"
   },
   {
    "duration": 20,
    "start_time": "2021-06-19T14:29:40.374Z"
   },
   {
    "duration": 7,
    "start_time": "2021-06-19T14:29:47.490Z"
   },
   {
    "duration": 5,
    "start_time": "2021-06-19T14:29:51.846Z"
   },
   {
    "duration": 254,
    "start_time": "2021-06-19T14:29:55.731Z"
   },
   {
    "duration": 278,
    "start_time": "2021-06-19T14:30:28.517Z"
   },
   {
    "duration": 262,
    "start_time": "2021-06-19T14:30:39.618Z"
   },
   {
    "duration": 280,
    "start_time": "2021-06-19T15:36:34.215Z"
   },
   {
    "duration": 1016,
    "start_time": "2021-06-19T15:36:58.334Z"
   },
   {
    "duration": 29,
    "start_time": "2021-06-19T15:37:06.215Z"
   },
   {
    "duration": 8,
    "start_time": "2021-06-19T15:37:11.790Z"
   },
   {
    "duration": -148,
    "start_time": "2021-06-19T15:38:29.604Z"
   },
   {
    "duration": -152,
    "start_time": "2021-06-19T15:38:29.609Z"
   },
   {
    "duration": -153,
    "start_time": "2021-06-19T15:38:29.614Z"
   },
   {
    "duration": 96,
    "start_time": "2021-06-19T15:38:30.415Z"
   },
   {
    "duration": 17,
    "start_time": "2021-06-19T15:38:30.515Z"
   },
   {
    "duration": 81,
    "start_time": "2021-06-19T15:38:30.536Z"
   },
   {
    "duration": 50,
    "start_time": "2021-06-19T15:38:30.621Z"
   },
   {
    "duration": 31,
    "start_time": "2021-06-19T15:38:30.674Z"
   },
   {
    "duration": 29,
    "start_time": "2021-06-19T15:38:30.707Z"
   },
   {
    "duration": 60,
    "start_time": "2021-06-19T15:38:30.738Z"
   },
   {
    "duration": 8,
    "start_time": "2021-06-19T15:38:30.801Z"
   },
   {
    "duration": 25,
    "start_time": "2021-06-19T15:38:30.812Z"
   },
   {
    "duration": 27,
    "start_time": "2021-06-19T15:38:30.840Z"
   },
   {
    "duration": 8,
    "start_time": "2021-06-19T16:05:56.198Z"
   },
   {
    "duration": 272,
    "start_time": "2021-06-19T16:11:13.237Z"
   },
   {
    "duration": 3621,
    "start_time": "2021-06-19T16:12:34.765Z"
   },
   {
    "duration": 7,
    "start_time": "2021-06-19T16:13:52.347Z"
   },
   {
    "duration": 29767,
    "start_time": "2021-06-19T16:14:22.738Z"
   },
   {
    "duration": 11215,
    "start_time": "2021-06-19T16:15:01.083Z"
   },
   {
    "duration": 6432,
    "start_time": "2021-06-19T16:15:41.241Z"
   },
   {
    "duration": 5551,
    "start_time": "2021-06-19T16:18:38.880Z"
   },
   {
    "duration": 5354,
    "start_time": "2021-06-19T16:18:59.173Z"
   },
   {
    "duration": 5979,
    "start_time": "2021-06-19T16:20:21.356Z"
   },
   {
    "duration": 7,
    "start_time": "2021-06-19T16:20:31.858Z"
   },
   {
    "duration": 5733,
    "start_time": "2021-06-19T16:21:36.165Z"
   },
   {
    "duration": 8,
    "start_time": "2021-06-19T16:21:42.455Z"
   },
   {
    "duration": 5722,
    "start_time": "2021-06-19T16:29:52.020Z"
   },
   {
    "duration": 7,
    "start_time": "2021-06-19T16:29:57.757Z"
   },
   {
    "duration": 6327,
    "start_time": "2021-06-19T16:30:19.477Z"
   },
   {
    "duration": 5442,
    "start_time": "2021-06-19T16:36:22.587Z"
   },
   {
    "duration": 6481,
    "start_time": "2021-06-19T16:36:38.396Z"
   },
   {
    "duration": 8247,
    "start_time": "2021-06-19T16:36:59.481Z"
   },
   {
    "duration": 7745,
    "start_time": "2021-06-19T16:39:57.919Z"
   },
   {
    "duration": 7159,
    "start_time": "2021-06-19T16:43:46.160Z"
   },
   {
    "duration": 3440,
    "start_time": "2021-06-19T16:44:33.407Z"
   },
   {
    "duration": 3527,
    "start_time": "2021-06-19T16:46:44.492Z"
   },
   {
    "duration": 8,
    "start_time": "2021-06-19T16:46:49.458Z"
   },
   {
    "duration": 78,
    "start_time": "2021-06-19T16:50:14.584Z"
   },
   {
    "duration": 3622,
    "start_time": "2021-06-19T16:56:10.909Z"
   },
   {
    "duration": 10,
    "start_time": "2021-06-19T16:56:59.028Z"
   },
   {
    "duration": 90,
    "start_time": "2021-06-19T17:03:26.913Z"
   },
   {
    "duration": 12,
    "start_time": "2021-06-19T17:03:27.006Z"
   },
   {
    "duration": 48,
    "start_time": "2021-06-19T17:03:27.021Z"
   },
   {
    "duration": 36,
    "start_time": "2021-06-19T17:03:27.072Z"
   },
   {
    "duration": 59,
    "start_time": "2021-06-19T17:03:27.111Z"
   },
   {
    "duration": 13,
    "start_time": "2021-06-19T17:03:27.172Z"
   },
   {
    "duration": 34,
    "start_time": "2021-06-19T17:03:27.188Z"
   },
   {
    "duration": 9,
    "start_time": "2021-06-19T17:03:27.258Z"
   },
   {
    "duration": 12,
    "start_time": "2021-06-19T17:03:27.270Z"
   },
   {
    "duration": 22,
    "start_time": "2021-06-19T17:03:27.284Z"
   },
   {
    "duration": 3,
    "start_time": "2021-06-19T17:03:27.308Z"
   },
   {
    "duration": 3691,
    "start_time": "2021-06-19T17:03:27.314Z"
   },
   {
    "duration": 7,
    "start_time": "2021-06-19T17:03:31.008Z"
   },
   {
    "duration": 53,
    "start_time": "2021-06-19T17:03:31.017Z"
   },
   {
    "duration": 10,
    "start_time": "2021-06-19T17:03:31.072Z"
   },
   {
    "duration": 21,
    "start_time": "2021-06-19T17:03:31.085Z"
   },
   {
    "duration": 23,
    "start_time": "2021-06-19T17:03:31.109Z"
   },
   {
    "duration": 35,
    "start_time": "2021-06-19T17:03:31.134Z"
   },
   {
    "duration": 20,
    "start_time": "2021-06-19T17:03:31.172Z"
   },
   {
    "duration": 21,
    "start_time": "2021-06-19T17:03:31.194Z"
   },
   {
    "duration": 70,
    "start_time": "2021-06-19T17:03:31.217Z"
   },
   {
    "duration": 30,
    "start_time": "2021-06-19T17:03:31.289Z"
   },
   {
    "duration": 32,
    "start_time": "2021-06-19T17:03:31.324Z"
   },
   {
    "duration": 40,
    "start_time": "2021-06-19T17:03:31.358Z"
   },
   {
    "duration": 787,
    "start_time": "2021-06-19T17:03:31.401Z"
   },
   {
    "duration": 12,
    "start_time": "2021-06-19T17:03:32.190Z"
   },
   {
    "duration": 6014,
    "start_time": "2021-06-19T17:03:32.205Z"
   },
   {
    "duration": 3,
    "start_time": "2021-06-19T17:03:38.222Z"
   },
   {
    "duration": 66,
    "start_time": "2021-06-19T17:03:38.227Z"
   },
   {
    "duration": 16,
    "start_time": "2021-06-19T17:03:38.295Z"
   },
   {
    "duration": 60,
    "start_time": "2021-06-19T17:03:38.315Z"
   },
   {
    "duration": 29,
    "start_time": "2021-06-19T17:03:38.378Z"
   },
   {
    "duration": 49,
    "start_time": "2021-06-19T17:03:38.409Z"
   },
   {
    "duration": 27,
    "start_time": "2021-06-19T17:03:38.461Z"
   },
   {
    "duration": 33,
    "start_time": "2021-06-19T17:03:38.491Z"
   },
   {
    "duration": 3560,
    "start_time": "2021-06-19T17:14:55.350Z"
   },
   {
    "duration": 255,
    "start_time": "2021-06-19T17:17:02.567Z"
   },
   {
    "duration": 17,
    "start_time": "2021-06-19T17:18:33.407Z"
   },
   {
    "duration": 8,
    "start_time": "2021-06-19T17:18:53.903Z"
   },
   {
    "duration": 16,
    "start_time": "2021-06-19T17:19:36.687Z"
   },
   {
    "duration": 145,
    "start_time": "2021-06-19T17:20:18.275Z"
   },
   {
    "duration": 16,
    "start_time": "2021-06-19T17:20:18.424Z"
   },
   {
    "duration": 55,
    "start_time": "2021-06-19T17:20:18.457Z"
   },
   {
    "duration": 80,
    "start_time": "2021-06-19T17:20:18.515Z"
   },
   {
    "duration": 33,
    "start_time": "2021-06-19T17:20:18.598Z"
   },
   {
    "duration": 36,
    "start_time": "2021-06-19T17:20:18.634Z"
   },
   {
    "duration": 59,
    "start_time": "2021-06-19T17:20:18.674Z"
   },
   {
    "duration": 13,
    "start_time": "2021-06-19T17:20:18.759Z"
   },
   {
    "duration": 16,
    "start_time": "2021-06-19T17:20:18.776Z"
   },
   {
    "duration": 22,
    "start_time": "2021-06-19T17:20:18.795Z"
   },
   {
    "duration": 362,
    "start_time": "2021-06-19T17:20:25.987Z"
   },
   {
    "duration": 288,
    "start_time": "2021-06-19T17:21:16.764Z"
   },
   {
    "duration": 268,
    "start_time": "2021-06-19T17:21:35.101Z"
   },
   {
    "duration": 606,
    "start_time": "2021-06-20T11:44:33.402Z"
   },
   {
    "duration": 8,
    "start_time": "2021-06-20T11:44:34.009Z"
   },
   {
    "duration": 21,
    "start_time": "2021-06-20T11:44:34.019Z"
   },
   {
    "duration": 19,
    "start_time": "2021-06-20T11:44:34.041Z"
   },
   {
    "duration": 33,
    "start_time": "2021-06-20T11:44:34.061Z"
   },
   {
    "duration": 10,
    "start_time": "2021-06-20T11:44:34.095Z"
   },
   {
    "duration": 20,
    "start_time": "2021-06-20T11:44:34.107Z"
   },
   {
    "duration": 5,
    "start_time": "2021-06-20T11:44:34.130Z"
   },
   {
    "duration": 8,
    "start_time": "2021-06-20T11:44:34.137Z"
   },
   {
    "duration": 11,
    "start_time": "2021-06-20T11:44:34.146Z"
   },
   {
    "duration": 2,
    "start_time": "2021-06-20T11:44:34.185Z"
   },
   {
    "duration": 1760,
    "start_time": "2021-06-20T11:44:34.189Z"
   },
   {
    "duration": 5,
    "start_time": "2021-06-20T11:44:35.951Z"
   },
   {
    "duration": 34,
    "start_time": "2021-06-20T11:44:35.958Z"
   },
   {
    "duration": 10,
    "start_time": "2021-06-20T11:44:35.994Z"
   },
   {
    "duration": 8,
    "start_time": "2021-06-20T11:44:36.006Z"
   },
   {
    "duration": 14,
    "start_time": "2021-06-20T11:44:36.016Z"
   },
   {
    "duration": 7,
    "start_time": "2021-06-20T11:44:36.031Z"
   },
   {
    "duration": 15,
    "start_time": "2021-06-20T11:44:36.039Z"
   },
   {
    "duration": 39,
    "start_time": "2021-06-20T11:44:36.056Z"
   },
   {
    "duration": 29,
    "start_time": "2021-06-20T11:44:36.097Z"
   },
   {
    "duration": 16,
    "start_time": "2021-06-20T11:44:36.128Z"
   },
   {
    "duration": 15,
    "start_time": "2021-06-20T11:44:36.147Z"
   },
   {
    "duration": 44,
    "start_time": "2021-06-20T11:44:36.164Z"
   },
   {
    "duration": 585,
    "start_time": "2021-06-20T11:44:36.210Z"
   },
   {
    "duration": 8,
    "start_time": "2021-06-20T11:44:36.797Z"
   },
   {
    "duration": 3210,
    "start_time": "2021-06-20T11:44:36.807Z"
   },
   {
    "duration": 2,
    "start_time": "2021-06-20T11:44:40.019Z"
   },
   {
    "duration": 38,
    "start_time": "2021-06-20T11:44:40.022Z"
   },
   {
    "duration": 10,
    "start_time": "2021-06-20T11:44:40.061Z"
   },
   {
    "duration": 40,
    "start_time": "2021-06-20T11:44:40.072Z"
   },
   {
    "duration": 17,
    "start_time": "2021-06-20T11:44:40.113Z"
   },
   {
    "duration": 16,
    "start_time": "2021-06-20T11:44:40.131Z"
   },
   {
    "duration": 41,
    "start_time": "2021-06-20T11:44:40.149Z"
   },
   {
    "duration": 21,
    "start_time": "2021-06-20T11:44:40.191Z"
   },
   {
    "duration": 628,
    "start_time": "2021-06-20T11:55:53.691Z"
   },
   {
    "duration": 7,
    "start_time": "2021-06-20T11:55:54.321Z"
   },
   {
    "duration": 20,
    "start_time": "2021-06-20T11:55:54.330Z"
   },
   {
    "duration": 35,
    "start_time": "2021-06-20T11:55:54.352Z"
   },
   {
    "duration": 10,
    "start_time": "2021-06-20T11:55:54.389Z"
   },
   {
    "duration": 6,
    "start_time": "2021-06-20T11:55:54.401Z"
   },
   {
    "duration": 22,
    "start_time": "2021-06-20T11:55:54.408Z"
   },
   {
    "duration": 6,
    "start_time": "2021-06-20T11:55:54.432Z"
   },
   {
    "duration": 7,
    "start_time": "2021-06-20T11:55:54.440Z"
   },
   {
    "duration": 41,
    "start_time": "2021-06-20T11:55:54.449Z"
   },
   {
    "duration": 3,
    "start_time": "2021-06-20T11:55:54.492Z"
   },
   {
    "duration": 238,
    "start_time": "2021-06-20T11:55:54.496Z"
   },
   {
    "duration": -187,
    "start_time": "2021-06-20T11:55:54.924Z"
   },
   {
    "duration": -187,
    "start_time": "2021-06-20T11:55:54.925Z"
   },
   {
    "duration": -192,
    "start_time": "2021-06-20T11:55:54.931Z"
   },
   {
    "duration": -192,
    "start_time": "2021-06-20T11:55:54.933Z"
   },
   {
    "duration": -192,
    "start_time": "2021-06-20T11:55:54.934Z"
   },
   {
    "duration": -193,
    "start_time": "2021-06-20T11:55:54.936Z"
   },
   {
    "duration": -192,
    "start_time": "2021-06-20T11:55:54.937Z"
   },
   {
    "duration": -193,
    "start_time": "2021-06-20T11:55:54.939Z"
   },
   {
    "duration": -193,
    "start_time": "2021-06-20T11:55:54.940Z"
   },
   {
    "duration": -193,
    "start_time": "2021-06-20T11:55:54.942Z"
   },
   {
    "duration": -193,
    "start_time": "2021-06-20T11:55:54.943Z"
   },
   {
    "duration": -194,
    "start_time": "2021-06-20T11:55:54.945Z"
   },
   {
    "duration": -193,
    "start_time": "2021-06-20T11:55:54.946Z"
   },
   {
    "duration": -193,
    "start_time": "2021-06-20T11:55:54.948Z"
   },
   {
    "duration": -193,
    "start_time": "2021-06-20T11:55:54.949Z"
   },
   {
    "duration": -192,
    "start_time": "2021-06-20T11:55:54.950Z"
   },
   {
    "duration": -194,
    "start_time": "2021-06-20T11:55:54.953Z"
   },
   {
    "duration": -194,
    "start_time": "2021-06-20T11:55:54.954Z"
   },
   {
    "duration": -195,
    "start_time": "2021-06-20T11:55:54.956Z"
   },
   {
    "duration": -195,
    "start_time": "2021-06-20T11:55:54.957Z"
   },
   {
    "duration": -196,
    "start_time": "2021-06-20T11:55:54.959Z"
   },
   {
    "duration": -196,
    "start_time": "2021-06-20T11:55:54.960Z"
   },
   {
    "duration": -197,
    "start_time": "2021-06-20T11:55:54.962Z"
   },
   {
    "duration": -197,
    "start_time": "2021-06-20T11:55:54.963Z"
   },
   {
    "duration": 2157,
    "start_time": "2021-06-20T11:56:35.761Z"
   },
   {
    "duration": 579,
    "start_time": "2021-06-20T13:25:15.749Z"
   },
   {
    "duration": 9,
    "start_time": "2021-06-20T13:25:16.330Z"
   },
   {
    "duration": 20,
    "start_time": "2021-06-20T13:25:16.341Z"
   },
   {
    "duration": 40,
    "start_time": "2021-06-20T13:25:16.363Z"
   },
   {
    "duration": 12,
    "start_time": "2021-06-20T13:25:16.404Z"
   },
   {
    "duration": 6,
    "start_time": "2021-06-20T13:25:16.418Z"
   },
   {
    "duration": 20,
    "start_time": "2021-06-20T13:25:16.426Z"
   },
   {
    "duration": 41,
    "start_time": "2021-06-20T13:25:16.449Z"
   },
   {
    "duration": 8,
    "start_time": "2021-06-20T13:25:16.492Z"
   },
   {
    "duration": 10,
    "start_time": "2021-06-20T13:25:16.502Z"
   },
   {
    "duration": 3,
    "start_time": "2021-06-20T13:25:16.513Z"
   },
   {
    "duration": 241,
    "start_time": "2021-06-20T13:25:16.517Z"
   },
   {
    "duration": -166,
    "start_time": "2021-06-20T13:25:16.926Z"
   },
   {
    "duration": -167,
    "start_time": "2021-06-20T13:25:16.928Z"
   },
   {
    "duration": -168,
    "start_time": "2021-06-20T13:25:16.930Z"
   },
   {
    "duration": -171,
    "start_time": "2021-06-20T13:25:16.934Z"
   },
   {
    "duration": -172,
    "start_time": "2021-06-20T13:25:16.936Z"
   },
   {
    "duration": -172,
    "start_time": "2021-06-20T13:25:16.937Z"
   },
   {
    "duration": -174,
    "start_time": "2021-06-20T13:25:16.939Z"
   },
   {
    "duration": -175,
    "start_time": "2021-06-20T13:25:16.941Z"
   },
   {
    "duration": -176,
    "start_time": "2021-06-20T13:25:16.943Z"
   },
   {
    "duration": -176,
    "start_time": "2021-06-20T13:25:16.944Z"
   },
   {
    "duration": -177,
    "start_time": "2021-06-20T13:25:16.946Z"
   },
   {
    "duration": -178,
    "start_time": "2021-06-20T13:25:16.948Z"
   },
   {
    "duration": -180,
    "start_time": "2021-06-20T13:25:16.950Z"
   },
   {
    "duration": -181,
    "start_time": "2021-06-20T13:25:16.952Z"
   },
   {
    "duration": -182,
    "start_time": "2021-06-20T13:25:16.954Z"
   },
   {
    "duration": -182,
    "start_time": "2021-06-20T13:25:16.955Z"
   },
   {
    "duration": -183,
    "start_time": "2021-06-20T13:25:16.956Z"
   },
   {
    "duration": -184,
    "start_time": "2021-06-20T13:25:16.958Z"
   },
   {
    "duration": -186,
    "start_time": "2021-06-20T13:25:16.960Z"
   },
   {
    "duration": -186,
    "start_time": "2021-06-20T13:25:16.961Z"
   },
   {
    "duration": -191,
    "start_time": "2021-06-20T13:25:16.967Z"
   },
   {
    "duration": -193,
    "start_time": "2021-06-20T13:25:16.969Z"
   },
   {
    "duration": -193,
    "start_time": "2021-06-20T13:25:16.970Z"
   },
   {
    "duration": -194,
    "start_time": "2021-06-20T13:25:16.972Z"
   },
   {
    "duration": 589,
    "start_time": "2021-06-20T13:25:30.046Z"
   },
   {
    "duration": 8,
    "start_time": "2021-06-20T13:25:30.637Z"
   },
   {
    "duration": 37,
    "start_time": "2021-06-20T13:25:30.647Z"
   },
   {
    "duration": 24,
    "start_time": "2021-06-20T13:25:30.687Z"
   },
   {
    "duration": 13,
    "start_time": "2021-06-20T13:25:30.713Z"
   },
   {
    "duration": 12,
    "start_time": "2021-06-20T13:25:30.728Z"
   },
   {
    "duration": 44,
    "start_time": "2021-06-20T13:25:30.742Z"
   },
   {
    "duration": 8,
    "start_time": "2021-06-20T13:25:30.789Z"
   },
   {
    "duration": 29,
    "start_time": "2021-06-20T13:25:30.799Z"
   },
   {
    "duration": 24,
    "start_time": "2021-06-20T13:25:30.830Z"
   },
   {
    "duration": 11,
    "start_time": "2021-06-20T13:25:30.856Z"
   },
   {
    "duration": 245,
    "start_time": "2021-06-20T13:25:30.869Z"
   },
   {
    "duration": -170,
    "start_time": "2021-06-20T13:25:31.287Z"
   },
   {
    "duration": -170,
    "start_time": "2021-06-20T13:25:31.288Z"
   },
   {
    "duration": -170,
    "start_time": "2021-06-20T13:25:31.290Z"
   },
   {
    "duration": -170,
    "start_time": "2021-06-20T13:25:31.291Z"
   },
   {
    "duration": -176,
    "start_time": "2021-06-20T13:25:31.298Z"
   },
   {
    "duration": -176,
    "start_time": "2021-06-20T13:25:31.300Z"
   },
   {
    "duration": -176,
    "start_time": "2021-06-20T13:25:31.301Z"
   },
   {
    "duration": -177,
    "start_time": "2021-06-20T13:25:31.303Z"
   },
   {
    "duration": -177,
    "start_time": "2021-06-20T13:25:31.305Z"
   },
   {
    "duration": -177,
    "start_time": "2021-06-20T13:25:31.306Z"
   },
   {
    "duration": -177,
    "start_time": "2021-06-20T13:25:31.307Z"
   },
   {
    "duration": -177,
    "start_time": "2021-06-20T13:25:31.309Z"
   },
   {
    "duration": -178,
    "start_time": "2021-06-20T13:25:31.311Z"
   },
   {
    "duration": -183,
    "start_time": "2021-06-20T13:25:31.317Z"
   },
   {
    "duration": -182,
    "start_time": "2021-06-20T13:25:31.318Z"
   },
   {
    "duration": -183,
    "start_time": "2021-06-20T13:25:31.320Z"
   },
   {
    "duration": -183,
    "start_time": "2021-06-20T13:25:31.322Z"
   },
   {
    "duration": -183,
    "start_time": "2021-06-20T13:25:31.323Z"
   },
   {
    "duration": -183,
    "start_time": "2021-06-20T13:25:31.324Z"
   },
   {
    "duration": -184,
    "start_time": "2021-06-20T13:25:31.326Z"
   },
   {
    "duration": -188,
    "start_time": "2021-06-20T13:25:31.332Z"
   },
   {
    "duration": -189,
    "start_time": "2021-06-20T13:25:31.334Z"
   },
   {
    "duration": -189,
    "start_time": "2021-06-20T13:25:31.335Z"
   },
   {
    "duration": -190,
    "start_time": "2021-06-20T13:25:31.337Z"
   },
   {
    "duration": 617,
    "start_time": "2021-06-20T13:26:08.618Z"
   },
   {
    "duration": 8,
    "start_time": "2021-06-20T13:26:09.237Z"
   },
   {
    "duration": 27,
    "start_time": "2021-06-20T13:26:09.247Z"
   },
   {
    "duration": 28,
    "start_time": "2021-06-20T13:26:09.276Z"
   },
   {
    "duration": 11,
    "start_time": "2021-06-20T13:26:09.306Z"
   },
   {
    "duration": 12,
    "start_time": "2021-06-20T13:26:09.319Z"
   },
   {
    "duration": 21,
    "start_time": "2021-06-20T13:26:09.332Z"
   },
   {
    "duration": 5,
    "start_time": "2021-06-20T13:26:09.356Z"
   },
   {
    "duration": 7,
    "start_time": "2021-06-20T13:26:09.386Z"
   },
   {
    "duration": 10,
    "start_time": "2021-06-20T13:26:09.394Z"
   },
   {
    "duration": 2,
    "start_time": "2021-06-20T13:26:09.405Z"
   },
   {
    "duration": 1703,
    "start_time": "2021-06-20T13:26:09.408Z"
   },
   {
    "duration": 5,
    "start_time": "2021-06-20T13:26:11.112Z"
   },
   {
    "duration": 22,
    "start_time": "2021-06-20T13:26:11.119Z"
   },
   {
    "duration": 6,
    "start_time": "2021-06-20T13:26:11.142Z"
   },
   {
    "duration": 8,
    "start_time": "2021-06-20T13:26:11.149Z"
   },
   {
    "duration": 33,
    "start_time": "2021-06-20T13:26:11.159Z"
   },
   {
    "duration": 11,
    "start_time": "2021-06-20T13:26:11.194Z"
   },
   {
    "duration": 13,
    "start_time": "2021-06-20T13:26:11.206Z"
   },
   {
    "duration": 15,
    "start_time": "2021-06-20T13:26:11.220Z"
   },
   {
    "duration": 54,
    "start_time": "2021-06-20T13:26:11.237Z"
   },
   {
    "duration": 15,
    "start_time": "2021-06-20T13:26:11.292Z"
   },
   {
    "duration": 6,
    "start_time": "2021-06-20T13:26:11.310Z"
   },
   {
    "duration": 24,
    "start_time": "2021-06-20T13:26:11.317Z"
   },
   {
    "duration": 591,
    "start_time": "2021-06-20T13:26:11.342Z"
   },
   {
    "duration": 9,
    "start_time": "2021-06-20T13:26:11.935Z"
   },
   {
    "duration": 3116,
    "start_time": "2021-06-20T13:26:11.946Z"
   },
   {
    "duration": 3,
    "start_time": "2021-06-20T13:26:15.064Z"
   },
   {
    "duration": 40,
    "start_time": "2021-06-20T13:26:15.069Z"
   },
   {
    "duration": 11,
    "start_time": "2021-06-20T13:26:15.111Z"
   },
   {
    "duration": 28,
    "start_time": "2021-06-20T13:26:15.123Z"
   },
   {
    "duration": 41,
    "start_time": "2021-06-20T13:26:15.152Z"
   },
   {
    "duration": 19,
    "start_time": "2021-06-20T13:26:15.194Z"
   },
   {
    "duration": 17,
    "start_time": "2021-06-20T13:26:15.215Z"
   },
   {
    "duration": 21,
    "start_time": "2021-06-20T13:26:15.233Z"
   },
   {
    "duration": 214,
    "start_time": "2021-06-21T08:12:50.578Z"
   },
   {
    "duration": 641,
    "start_time": "2021-06-21T08:13:06.867Z"
   },
   {
    "duration": 8,
    "start_time": "2021-06-21T08:13:07.510Z"
   },
   {
    "duration": 21,
    "start_time": "2021-06-21T08:13:07.521Z"
   },
   {
    "duration": 21,
    "start_time": "2021-06-21T08:13:07.544Z"
   },
   {
    "duration": 26,
    "start_time": "2021-06-21T08:13:07.566Z"
   },
   {
    "duration": 6,
    "start_time": "2021-06-21T08:13:07.594Z"
   },
   {
    "duration": 24,
    "start_time": "2021-06-21T08:13:07.601Z"
   },
   {
    "duration": 5,
    "start_time": "2021-06-21T08:13:07.627Z"
   },
   {
    "duration": 8,
    "start_time": "2021-06-21T08:13:07.634Z"
   },
   {
    "duration": 12,
    "start_time": "2021-06-21T08:13:07.643Z"
   },
   {
    "duration": 28,
    "start_time": "2021-06-21T08:13:07.656Z"
   },
   {
    "duration": 1710,
    "start_time": "2021-06-21T08:13:07.686Z"
   },
   {
    "duration": 6,
    "start_time": "2021-06-21T08:13:14.657Z"
   },
   {
    "duration": 5,
    "start_time": "2021-06-21T08:13:17.086Z"
   },
   {
    "duration": 7,
    "start_time": "2021-06-21T08:13:26.346Z"
   },
   {
    "duration": 6,
    "start_time": "2021-06-21T08:14:03.588Z"
   },
   {
    "duration": 8,
    "start_time": "2021-06-21T08:15:14.981Z"
   },
   {
    "duration": 265,
    "start_time": "2021-06-21T08:16:17.768Z"
   },
   {
    "duration": 186,
    "start_time": "2021-06-21T08:26:41.416Z"
   },
   {
    "duration": 10,
    "start_time": "2021-06-21T08:47:23.715Z"
   },
   {
    "duration": 1033,
    "start_time": "2021-06-25T17:37:40.228Z"
   },
   {
    "duration": 10,
    "start_time": "2021-06-25T17:37:41.264Z"
   },
   {
    "duration": 45,
    "start_time": "2021-06-25T17:37:41.277Z"
   },
   {
    "duration": 51,
    "start_time": "2021-06-25T17:37:41.325Z"
   },
   {
    "duration": 22,
    "start_time": "2021-06-25T17:37:41.378Z"
   },
   {
    "duration": 10,
    "start_time": "2021-06-25T17:37:41.403Z"
   },
   {
    "duration": 70,
    "start_time": "2021-06-25T17:37:41.415Z"
   },
   {
    "duration": 9,
    "start_time": "2021-06-25T17:37:41.488Z"
   },
   {
    "duration": 15,
    "start_time": "2021-06-25T17:37:41.499Z"
   },
   {
    "duration": 16,
    "start_time": "2021-06-25T17:37:41.517Z"
   },
   {
    "duration": 28,
    "start_time": "2021-06-25T17:37:41.535Z"
   },
   {
    "duration": 3674,
    "start_time": "2021-06-25T17:37:41.566Z"
   },
   {
    "duration": 539,
    "start_time": "2021-06-25T17:37:45.614Z"
   },
   {
    "duration": 914,
    "start_time": "2021-08-21T14:13:14.122Z"
   },
   {
    "duration": 18,
    "start_time": "2021-08-21T14:13:15.039Z"
   },
   {
    "duration": 62,
    "start_time": "2021-08-21T14:13:15.060Z"
   },
   {
    "duration": 36,
    "start_time": "2021-08-21T14:13:15.124Z"
   },
   {
    "duration": 25,
    "start_time": "2021-08-21T14:13:15.162Z"
   },
   {
    "duration": 8,
    "start_time": "2021-08-21T14:13:15.190Z"
   },
   {
    "duration": 60,
    "start_time": "2021-08-21T14:13:15.200Z"
   },
   {
    "duration": 8,
    "start_time": "2021-08-21T14:13:15.263Z"
   },
   {
    "duration": 12,
    "start_time": "2021-08-21T14:13:15.275Z"
   },
   {
    "duration": 15,
    "start_time": "2021-08-21T14:13:15.289Z"
   },
   {
    "duration": 22,
    "start_time": "2021-08-21T14:13:15.306Z"
   },
   {
    "duration": 3636,
    "start_time": "2021-08-21T14:13:15.330Z"
   },
   {
    "duration": 7,
    "start_time": "2021-08-21T14:13:18.969Z"
   },
   {
    "duration": 41,
    "start_time": "2021-08-21T14:13:18.979Z"
   },
   {
    "duration": 33,
    "start_time": "2021-08-21T14:13:19.023Z"
   },
   {
    "duration": 28,
    "start_time": "2021-08-21T14:13:19.059Z"
   },
   {
    "duration": 30,
    "start_time": "2021-08-21T14:13:19.090Z"
   },
   {
    "duration": 10,
    "start_time": "2021-08-21T14:13:19.123Z"
   },
   {
    "duration": 27,
    "start_time": "2021-08-21T14:13:19.135Z"
   },
   {
    "duration": 25,
    "start_time": "2021-08-21T14:13:19.165Z"
   },
   {
    "duration": 74,
    "start_time": "2021-08-21T14:13:19.193Z"
   },
   {
    "duration": 24,
    "start_time": "2021-08-21T14:13:19.269Z"
   },
   {
    "duration": 12,
    "start_time": "2021-08-21T14:13:19.298Z"
   },
   {
    "duration": 70,
    "start_time": "2021-08-21T14:13:19.313Z"
   },
   {
    "duration": 799,
    "start_time": "2021-08-21T14:13:19.386Z"
   },
   {
    "duration": 10,
    "start_time": "2021-08-21T14:13:20.188Z"
   },
   {
    "duration": 5776,
    "start_time": "2021-08-21T14:13:20.201Z"
   },
   {
    "duration": 3,
    "start_time": "2021-08-21T14:13:25.979Z"
   },
   {
    "duration": 59,
    "start_time": "2021-08-21T14:13:25.984Z"
   },
   {
    "duration": 15,
    "start_time": "2021-08-21T14:13:26.054Z"
   },
   {
    "duration": 50,
    "start_time": "2021-08-21T14:13:26.072Z"
   },
   {
    "duration": 36,
    "start_time": "2021-08-21T14:13:26.124Z"
   },
   {
    "duration": 29,
    "start_time": "2021-08-21T14:13:26.162Z"
   },
   {
    "duration": 26,
    "start_time": "2021-08-21T14:13:26.194Z"
   },
   {
    "duration": 63,
    "start_time": "2021-08-21T14:13:26.222Z"
   }
  ],
  "kernelspec": {
   "display_name": "Python 3",
   "language": "python",
   "name": "python3"
  },
  "language_info": {
   "codemirror_mode": {
    "name": "ipython",
    "version": 3
   },
   "file_extension": ".py",
   "mimetype": "text/x-python",
   "name": "python",
   "nbconvert_exporter": "python",
   "pygments_lexer": "ipython3",
   "version": "3.8.3"
  },
  "toc": {
   "base_numbering": 1,
   "nav_menu": {},
   "number_sections": true,
   "sideBar": true,
   "skip_h1_title": true,
   "title_cell": "Table of Contents",
   "title_sidebar": "Contents",
   "toc_cell": false,
   "toc_position": {},
   "toc_section_display": true,
   "toc_window_display": false
  }
 },
 "nbformat": 4,
 "nbformat_minor": 2
}
